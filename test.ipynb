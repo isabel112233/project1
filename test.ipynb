{
 "cells": [
  {
   "cell_type": "code",
   "execution_count": 2,
   "metadata": {},
   "outputs": [
    {
     "name": "stdout",
     "output_type": "stream",
     "text": [
      "           地區\n",
      "63000000  臺北市\n",
      "64000000  高雄市\n",
      "65000000  新北市\n",
      "66000000  臺中市\n",
      "67000000  臺南市\n",
      "68000000  桃園市\n",
      "10002000  宜蘭縣\n",
      "10004000  新竹縣\n",
      "10005000  苗栗縣\n",
      "10007000  彰化縣\n",
      "10008000  南投縣\n",
      "10009000  雲林縣\n",
      "10010000  嘉義縣\n",
      "10020000  嘉義市\n",
      "10013000  屏東縣\n",
      "10014000  臺東縣\n",
      "10015000  花蓮縣\n",
      "10016000  澎湖縣\n",
      "10017000  基隆市\n",
      "10018000  新竹市\n",
      "9020000   金門縣\n",
      "9007000   連江縣\n"
     ]
    }
   ],
   "source": [
    "new_area={'63000000': '臺北市' ,'64000000':'高雄市', '65000000': '新北市', '66000000': '臺中市' ,'67000000': '臺南市', '68000000': '桃園市','10002000': '宜蘭縣', '10004000': '新竹縣', '10005000': '苗栗縣','10007000': '彰化縣' ,'10008000': '南投縣', '10009000': '雲林縣','10010000': '嘉義縣','10020000': '嘉義市', '10013000': '屏東縣' ,'10014000': '臺東縣', '10015000': '花蓮縣' ,'10016000': '澎湖縣','10017000': '基隆市', '10018000': '新竹市' ,'9020000': '金門縣', '9007000': '連江縣'}  \n",
    "df_new_area = pd.DataFrame.from_dict(new_area, orient='index', columns=['地區'])\n",
    "print(df_new_area)  "
   ]
  },
  {
   "cell_type": "code",
   "execution_count": 2,
   "metadata": {},
   "outputs": [
    {
     "name": "stdout",
     "output_type": "stream",
     "text": [
      "age\n",
      "年齡層\n",
      "income\n",
      "年收入\n",
      "job\n",
      "職業類別\n",
      "education\n",
      "教育程度類別\n"
     ]
    }
   ],
   "source": [
    "DataType = {'age':'年齡層', 'income':'年收入', 'job':'職業類別', 'education':'教育程度類別'}\n",
    "\n",
    "for item in DataType:\n",
    "    print(item)\n",
    "    print(DataType[item])\n"
   ]
  },
  {
   "cell_type": "code",
   "execution_count": 3,
   "metadata": {},
   "outputs": [
    {
     "name": "stdout",
     "output_type": "stream",
     "text": [
      "0\n"
     ]
    }
   ],
   "source": [
    "gender = {'M':'0','F':'1'}\n",
    "print(gender['M'])"
   ]
  },
  {
   "cell_type": "code",
   "execution_count": 4,
   "metadata": {},
   "outputs": [
    {
     "name": "stdout",
     "output_type": "stream",
     "text": [
      "年齡層\n",
      "年收入\n",
      "職業類別\n",
      "教育程度類別\n"
     ]
    }
   ],
   "source": [
    "import requests\n",
    "import glob\n",
    "import pandas as pd\n",
    "\n",
    "DataType = {'age':'年齡層', 'income':'年收入', 'job':'職業類別', 'education':'教育程度類別'}\n",
    "for datatype in DataType:\n",
    "    print(DataType[datatype])\n",
    "    folder_path = f'./rawdata/{datatype}/'    \n",
    "    \n",
    "# 使用glob模組取得資料夾中所有的CSV檔案路徑\n",
    "    files = glob.glob(folder_path + '*.csv')\n",
    "\n",
    "# 創建一個空的DataFrame\n",
    "    result = pd.concat([pd.read_csv(f) for f in files], ignore_index=True)\n",
    "    \n",
    "    # 將合併後的資料寫入新的CSV檔案\n",
    "    result.to_csv(f'./datasource/{datatype}.csv', index=False)"
   ]
  },
  {
   "cell_type": "code",
   "execution_count": 80,
   "metadata": {},
   "outputs": [],
   "source": [
    "import tkinter as tk\n",
    "import tkinter.ttk as ttk\n",
    "\n",
    "industry_values = ['食','衣','住','行','百貨','文教康樂','其他']\n",
    "area_values = ['台北市','新北市','桃園市','台中市','台南市','高雄市','其他']\n",
    "root = tk.Tk()\n",
    "root.title(\"信用卡消費樣態\")\n",
    "#root.geometry('300x600')\n",
    "\n",
    "style = ttk.Style()\n",
    "style.configure('TCombobox', font=('Arial', 22, 'bold'))\n",
    "style.configure('TLabel',font=('Arial', 14, 'bold'))\n",
    "\n",
    "title_label = ttk.Label(root,text=\"信用卡消費樣態\",\n",
    "                        font=('Arial',20,'bold')).grid(column=0, row=0,columnspan=15,sticky=tk.W+tk.E+tk.N)\n",
    "year_label = ttk.Label(root,text=\"年度:\",width=5,\n",
    "                       style='TLabel').grid(column=0, row=1,padx=5,pady=12)\n",
    "year_combobox = ttk.Combobox(root,width=10,                             \n",
    "                             values=[i for i in range(2014,2024)],\n",
    "                             style='TCombobox').grid(column=1, row=1,pady=12)\n",
    "month_label = ttk.Label(root,text=\"月份:\",width=5,\n",
    "                        style='TLabel').grid(column=2, row=1,pady=10,padx=8)\n",
    "month_combobox = ttk.Combobox(root,width=10,                             \n",
    "                             values=[i for i in range(1,13)],\n",
    "                             style='TCombobox').grid(column=3, row=1,pady=12)\n",
    "industry_label = ttk.Label(root,text=\"產業別:\",width=7,\n",
    "                           style='TLabel').grid(column=4, row=1,pady=10,padx=8)\n",
    "industry_combobox = ttk.Combobox(root,width=10,\n",
    "                                style='TCombobox', \n",
    "                                values=industry_values).grid(column=5, row=1,pady=12,ipadx=3)\n",
    "area_label = ttk.Label(root,text=\"地區:\",width=5,\n",
    "                       style='TLabel').grid(column=6, row=1,pady=12,padx=8)\n",
    "area_combobox = ttk.Combobox(root,width=10,\n",
    "                             style='TCombobox',\n",
    "                             values=area_values).grid(column=7, row=1,pady=12,)\n",
    "\n",
    "root.mainloop()"
   ]
  },
  {
   "cell_type": "code",
   "execution_count": 1,
   "metadata": {},
   "outputs": [],
   "source": [
    "import tkinter as tk\n",
    "import tkinter.ttk as ttk\n",
    "style = ttk.Style()\n",
    "style.configure(\"BW.TLabel\", foreground=\"black\", background=\"white\")\n",
    "\n",
    "l1 = ttk.Label(text=\"Test\", style=\"BW.TLabel\")\n",
    "l2 = ttk.Label(text=\"Test\", style=\"BW.TLabel\")"
   ]
  },
  {
   "cell_type": "code",
   "execution_count": 5,
   "metadata": {},
   "outputs": [],
   "source": [
    "import tkinter as tk\n",
    "import tkinter.ttk as ttk\n",
    "\n",
    "root = tk.Tk()\n",
    "\n",
    "lbl_test = ttk.Label(root,text=\"This is just a test\\n This is the second line\")\n",
    "lbl_test.pack()\n",
    "\n",
    "root.mainloop()\n"
   ]
  },
  {
   "cell_type": "code",
   "execution_count": 27,
   "metadata": {},
   "outputs": [
    {
     "name": "stdout",
     "output_type": "stream",
     "text": [
      "[('active', 'lightgreen')]\n"
     ]
    }
   ],
   "source": [
    "import tkinter as tk\n",
    "import tkinter.ttk as ttk\n",
    "\n",
    "root = tk.Tk()\n",
    "\n",
    "style = ttk.Style()\n",
    "style.configure(\"My.Treeview.Heading\",\n",
    "                background=\"blue\",\n",
    "                foreground=\"gray\",\n",
    "                relief=\"float\")\n",
    "\n",
    "style.map(\"My.Treeview.Heading\",background=[('active','lightgreen')])\n",
    "print(style.map(\"My.Treeview.Heading\",\"background\"))\n",
    "\n",
    "\n",
    "column_names = (\"vehicle_name\",\"year\",\"color\")\n",
    "\n",
    "treeview_vehicles = ttk.Treeview(root,style=\"My.Treeview.Heading\",columns=column_names)\n",
    "treeview_vehicles.heading(\"#0\",text=\"Vehicle Type\")\n",
    "treeview_vehicles.heading(\"vehicle_name\",text=\"Vehicle_name\")\n",
    "treeview_vehicles.heading(\"year\",text=\"Year\")\n",
    "treeview_vehicles.heading(\"color\",text=\"Color\")\n",
    "\n",
    "treeview_vehicles.pack(fill=tk.BOTH,expand=True)\n",
    "\n",
    "treeview2 = ttk.Treeview(root,style=\"My.Treeview\",columns=column_names)\n",
    "treeview2.pack(fill=tk.BOTH,expand=True)\n",
    "               \n",
    "\n",
    "\n",
    "root.mainloop()"
   ]
  },
  {
   "cell_type": "code",
   "execution_count": 38,
   "metadata": {},
   "outputs": [
    {
     "name": "stdout",
     "output_type": "stream",
     "text": [
      "[('Treeview.field', {'sticky': 'nswe', 'border': '1', 'children': [('Treeview.padding', {'sticky': 'nswe', 'children': [('Treeview.treearea', {'sticky': 'nswe'})]})]})]\n",
      "Treeview\n"
     ]
    },
    {
     "ename": "NameError",
     "evalue": "name 'vehicle_image' is not defined",
     "output_type": "error",
     "traceback": [
      "\u001b[1;31m---------------------------------------------------------------------------\u001b[0m",
      "\u001b[1;31mNameError\u001b[0m                                 Traceback (most recent call last)",
      "\u001b[1;32mc:\\GitHub\\project1\\test.ipynb 儲存格 10\u001b[0m line \u001b[0;36m2\n\u001b[0;32m     <a href='vscode-notebook-cell:/c%3A/GitHub/project1/test.ipynb#X12sZmlsZQ%3D%3D?line=16'>17</a>\u001b[0m treeview_vehicles \u001b[39m=\u001b[39m ttk\u001b[39m.\u001b[39mTreeview(root,columns\u001b[39m=\u001b[39mcolumn_names)\n\u001b[0;32m     <a href='vscode-notebook-cell:/c%3A/GitHub/project1/test.ipynb#X12sZmlsZQ%3D%3D?line=18'>19</a>\u001b[0m \u001b[39mprint\u001b[39m(treeview_vehicles\u001b[39m.\u001b[39mwinfo_class())\n\u001b[1;32m---> <a href='vscode-notebook-cell:/c%3A/GitHub/project1/test.ipynb#X12sZmlsZQ%3D%3D?line=20'>21</a>\u001b[0m treeview_vehicles\u001b[39m.\u001b[39mheading(\u001b[39m\"\u001b[39m\u001b[39m#0\u001b[39m\u001b[39m\"\u001b[39m,text\u001b[39m=\u001b[39m\u001b[39m\"\u001b[39m\u001b[39mVehicle Type\u001b[39m\u001b[39m\"\u001b[39m,image\u001b[39m=\u001b[39mvehicle_image)\n\u001b[0;32m     <a href='vscode-notebook-cell:/c%3A/GitHub/project1/test.ipynb#X12sZmlsZQ%3D%3D?line=21'>22</a>\u001b[0m treeview_vehicles\u001b[39m.\u001b[39mheading(\u001b[39m\"\u001b[39m\u001b[39mvehicle_name\u001b[39m\u001b[39m\"\u001b[39m,text\u001b[39m=\u001b[39m\u001b[39m\"\u001b[39m\u001b[39mVehicle_name\u001b[39m\u001b[39m\"\u001b[39m)\n\u001b[0;32m     <a href='vscode-notebook-cell:/c%3A/GitHub/project1/test.ipynb#X12sZmlsZQ%3D%3D?line=22'>23</a>\u001b[0m treeview_vehicles\u001b[39m.\u001b[39mheading(\u001b[39m\"\u001b[39m\u001b[39myear\u001b[39m\u001b[39m\"\u001b[39m,text\u001b[39m=\u001b[39m\u001b[39m\"\u001b[39m\u001b[39mYear\u001b[39m\u001b[39m\"\u001b[39m)\n",
      "\u001b[1;31mNameError\u001b[0m: name 'vehicle_image' is not defined"
     ]
    }
   ],
   "source": [
    "import tkinter as tk\n",
    "import tkinter.ttk as ttk\n",
    "#import Pillow as PIL\n",
    "#from PIL import image,imageTk\n",
    "\n",
    "root = tk.Tk()\n",
    "\n",
    "#with Image.open(\"./car.jpg\")as img:\n",
    "#    vehicle_image = imageTk.PhotoImage(img)\n",
    "\n",
    "style = ttk.Style()\n",
    "\n",
    "print(style.layout(\"Treeview\"))\n",
    "\n",
    "column_names = (\"vehicle_name\",\"year\",\"color\")\n",
    "\n",
    "treeview_vehicles = ttk.Treeview(root,columns=column_names)\n",
    "\n",
    "print(treeview_vehicles.winfo_class())\n",
    "\n",
    "treeview_vehicles.heading(\"#0\",text=\"Vehicle Type\",image=vehicle_image)\n",
    "treeview_vehicles.heading(\"vehicle_name\",text=\"Vehicle_name\")\n",
    "treeview_vehicles.heading(\"year\",text=\"Year\")\n",
    "treeview_vehicles.heading(\"color\",text=\"Color\")\n",
    "\n",
    "treeview_vehicles.pack(fill=tk.BOTH,expand=True)\n",
    "\n",
    "\n",
    "\n",
    "\n",
    "root.mainloop()"
   ]
  },
  {
   "cell_type": "code",
   "execution_count": 5,
   "metadata": {},
   "outputs": [],
   "source": [
    "import tkinter as tk\n",
    "import tkinter.ttk as ttk\n",
    "\n",
    "window = tk.Tk()\n",
    "window.title('信用卡消費資料')\n",
    "#window.geometry('900x300')\n",
    "#window.resizable(width=False,height=False)\n",
    " \n",
    "leftFrame = tk.Frame(window,relief=tk.SUNKEN,borderwidth=1)\n",
    "tk.Label(leftFrame,text=\"搜尋\").pack(fill='y',expand=True,side='left')\n",
    "treeview2_search = ttk.Treeview(window,columns='年度')\n",
    "\n",
    "rightFrame = tk.Frame(window,relief=tk.RAISED,borderwidth=1)\n",
    "tk.Label(rightFrame,text=\"信用卡消費樣態\",font=(\"arial\", 20), fg='darkgray',padx=5,pady=5).pack(fill='y',expand=True,side='right')\n",
    "rightFrame.pack(padx=200,pady=5)\n",
    "column_names = (\"年月\",\"地區\",\"產業別\",\"性別\",\"年齡層\",\"交易筆數\",\"交易金額\")\n",
    "treeview1_credit = ttk.Treeview(window,columns=column_names)\n",
    "scrollbar=tk.Scrollbar(treeview1_credit)  # 建立捲軸物件\n",
    "scrollbar.pack(side=tk.RIGHT, fill=tk.Y)\n",
    "\n",
    "\n",
    "\n",
    "treeview1_credit.heading('#0',text='')\n",
    "treeview1_credit.heading('年月',text='年月')\n",
    "treeview1_credit.heading('地區',text='地區')\n",
    "treeview1_credit.heading('產業別',text='產業別')        \n",
    "treeview1_credit.heading('性別',text='性別')\n",
    "treeview1_credit.heading('年齡層',text='年齡層')\n",
    "treeview1_credit.heading('交易筆數',text='交易筆數')\n",
    "treeview1_credit.heading('交易金額',text='交易金額')        \n",
    "\n",
    "#----------設定欄位寬度------------\n",
    "treeview1_credit.column('#0',width=5)\n",
    "treeview1_credit.column('年月',width=100)\n",
    "treeview1_credit.column('地區',width=100)\n",
    "treeview1_credit.column('產業別',width=100)\n",
    "treeview1_credit.column('性別',width=50)\n",
    "treeview1_credit.column('年齡層',width=100)\n",
    "treeview1_credit.column('交易筆數',width=200)\n",
    "treeview1_credit.column('交易金額',width=250)\n",
    "\n",
    "treeview1_credit.pack(fill=tk.BOTH,expand=True)\n",
    "\n",
    "window.mainloop()"
   ]
  },
  {
   "cell_type": "code",
   "execution_count": 6,
   "metadata": {},
   "outputs": [],
   "source": [
    "from tkinter import *\n",
    "from tkinter import ttk\n",
    "root = Tk()\n",
    "frm = ttk.Frame(root, padding=10)\n",
    "frm.grid()\n",
    "ttk.Label(frm, text=\"Hello World!\").grid(column=0, row=0)\n",
    "ttk.Button(frm, text=\"Quit\", command=root.destroy).grid(column=1, row=0)\n",
    "root.mainloop()\n"
   ]
  },
  {
   "cell_type": "code",
   "execution_count": 10,
   "metadata": {},
   "outputs": [],
   "source": [
    "import tkinter as tk\n",
    "\n",
    "class App(tk.Frame):\n",
    "    def __init__(self, master):\n",
    "        super().__init__(master)\n",
    "        self.pack()\n",
    "\n",
    "        self.entrythingy = tk.Entry()\n",
    "        self.entrythingy.pack()\n",
    "\n",
    "        # Create the application variable.\n",
    "        self.contents = tk.StringVar()\n",
    "        # Set it to some value.\n",
    "        self.contents.set(\"this is a variable\")\n",
    "        # Tell the entry widget to watch this variable.\n",
    "        self.entrythingy[\"textvariable\"] = self.contents\n",
    "\n",
    "        # Define a callback for when the user hits return.\n",
    "        # It prints the current value of the variable.\n",
    "        self.entrythingy.bind('<Key-Return>',\n",
    "                             self.print_contents)\n",
    "\n",
    "    def print_contents(self, event):\n",
    "        print(\"Hi. The current entry content is:\",\n",
    "              self.contents.get())\n",
    "\n",
    "root = tk.Tk()\n",
    "myapp = App(root)\n",
    "myapp.mainloop()"
   ]
  },
  {
   "cell_type": "code",
   "execution_count": null,
   "metadata": {},
   "outputs": [],
   "source": [
    "conn = sqlite3.connect('proj1_creditcard.db')\n",
    "    __create_table(conn)    \n",
    "    print('開始寫入資料')          \n",
    "    for datatype in DataType:\n",
    "        #conn = sqlite3.Connect(f\"{datatype}.db\")         \n",
    "        datatype == datatype \n",
    "        with open(f'./datasource/{datatype}.csv', 'r',encoding='utf-8') as csv_file:            \n",
    "            csv_reader = csv.DictReader(csv_file)        \n",
    "    #將combined csv檔寫入資料庫並更換地區資料(由地區代號改為名稱)\n",
    "            for item in csv_reader:                \n",
    "                item['地區'] = item['地區'].replace(item['地區'],new_area[item['地區']])                 \n",
    "                sql = f\"{item['年月'],item['地區'],item['產業別'],item['性別'],item[DataType[datatype]],item['信用卡交易筆數'],item['信用卡交易金額[新台幣]']})\"  \n",
    "                                \n",
    "                __insert_data(conn,datatype,sql)\n",
    "            conn.close()"
   ]
  },
  {
   "cell_type": "code",
   "execution_count": 2,
   "metadata": {},
   "outputs": [
    {
     "name": "stdout",
     "output_type": "stream",
     "text": [
      "age\n",
      "             年月   地區 產業別  性別        年齡層   交易筆數       交易金額\n",
      "0        201401  彰化縣   衣   2      未滿20歲    282     574794\n",
      "1        201401  彰化縣   衣   2  20(含)-25歲   7091   16563668\n",
      "2        201401  彰化縣   衣   2  25(含)-30歲  20467   52197577\n",
      "3        201401  彰化縣   衣   2  30(含)-35歲  35400   93635594\n",
      "4        201401  彰化縣   衣   2  35(含)-40歲  41102  113811652\n",
      "...         ...  ...  ..  ..        ...    ...        ...\n",
      "1009003  202309  雲林縣   行   1  60(含)-65歲   8789   12072854\n",
      "1009004  202309  雲林縣   行   1  65(含)-70歲   4643    6184933\n",
      "1009005  202309  雲林縣   行   1  70(含)-75歲   2334    3046155\n",
      "1009006  202309  雲林縣   行   1  75(含)-80歲    549     646881\n",
      "1009007  202309  雲林縣   行   1   80(含)歲以上    234     322332\n",
      "\n",
      "[1009008 rows x 7 columns]\n",
      "\n",
      "    INSERT INTO age(年月,地區,產業別,性別,年齡層,交易筆數,交易金額)VALUES(?,?,?,?,?,?,?)        \n"
     ]
    },
    {
     "ename": "OperationalError",
     "evalue": "no such table: age",
     "output_type": "error",
     "traceback": [
      "\u001b[1;31m---------------------------------------------------------------------------\u001b[0m",
      "\u001b[1;31mOperationalError\u001b[0m                          Traceback (most recent call last)",
      "Cell \u001b[1;32mIn[2], line 24\u001b[0m\n\u001b[0;32m     22\u001b[0m \u001b[38;5;28mprint\u001b[39m(sql)\n\u001b[0;32m     23\u001b[0m values \u001b[38;5;241m=\u001b[39m \u001b[38;5;28mtuple\u001b[39m(df\u001b[38;5;241m.\u001b[39miloc[\u001b[38;5;241m0\u001b[39m])\n\u001b[1;32m---> 24\u001b[0m \u001b[43mcursor\u001b[49m\u001b[38;5;241;43m.\u001b[39;49m\u001b[43mexecute\u001b[49m\u001b[43m(\u001b[49m\u001b[43msql\u001b[49m\u001b[43m,\u001b[49m\u001b[43mvalues\u001b[49m\u001b[43m)\u001b[49m  \u001b[38;5;66;03m#連線資料表\u001b[39;00m\n\u001b[0;32m     25\u001b[0m conn\u001b[38;5;241m.\u001b[39mcommit()\n\u001b[0;32m     26\u001b[0m df\u001b[38;5;241m.\u001b[39mto_sql(datatype, conn, if_exists\u001b[38;5;241m=\u001b[39m\u001b[38;5;124m'\u001b[39m\u001b[38;5;124mappend\u001b[39m\u001b[38;5;124m'\u001b[39m, index\u001b[38;5;241m=\u001b[39m\u001b[38;5;28;01mFalse\u001b[39;00m) \n",
      "\u001b[1;31mOperationalError\u001b[0m: no such table: age"
     ]
    }
   ],
   "source": [
    "import sqlite3\n",
    "import pandas as pd\n",
    "\n",
    "new_area={'63000000': '臺北市' ,'64000000':'高雄市', '65000000': '新北市', '66000000': '臺中市' ,'67000000': '臺南市', '68000000': '桃園市','10002000': '宜蘭縣', '10004000': '新竹縣', '10005000': '苗栗縣','10007000': '彰化縣' ,'10008000': '南投縣', '10009000': '雲林縣','10010000': '嘉義縣','10020000': '嘉義市', '10013000': '屏東縣' ,'10014000': '臺東縣', '10015000': '花蓮縣' ,'10016000': '澎湖縣','10017000': '基隆市', '10018000': '新竹市' ,'9020000': '金門縣', '9007000': '連江縣'}  \n",
    "df_new_area = pd.DataFrame.from_dict(new_area, orient='index', columns=['地區'])\n",
    "\n",
    "\n",
    "DataType = {'age':'年齡層', 'income':'年收入', 'job':'職業類別', 'education':'教育程度類別'}\n",
    "for datatype in DataType:\n",
    "    print(datatype)\n",
    "    df = pd.read_csv(f'./datasource/{datatype}.csv') \n",
    "    df.rename(columns={'信用卡交易筆數':'交易筆數','信用卡交易金額[新台幣]':'交易金額'},inplace=True)   \n",
    "    df['地區'] = df['地區'].astype(str)\n",
    "# 替換 '地區' 列的值\n",
    "    df['地區'] = df['地區'].replace(df_new_area['地區'])\n",
    "    print(df)\n",
    "\n",
    "    conn = sqlite3.connect('proj1_creditcard.db')  #連線資料庫\n",
    "    cursor = conn.cursor()\n",
    "    sql=   f'''\n",
    "    INSERT INTO {datatype}(年月,地區,產業別,性別,{DataType[datatype]},交易筆數,交易金額)VALUES(?,?,?,?,?,?,?)        ''' \n",
    "    print(sql)\n",
    "    values = tuple(df.iloc[0])\n",
    "    cursor.execute(sql,values)  #連線資料表\n",
    "    conn.commit()\n",
    "    df.to_sql(datatype, conn, if_exists='append', index=False) \n",
    "\n"
   ]
  },
  {
   "cell_type": "code",
   "execution_count": 10,
   "metadata": {},
   "outputs": [
    {
     "name": "stdout",
     "output_type": "stream",
     "text": [
      "             年月   地區 產業別  性別        年齡層  信用卡交易筆數  信用卡交易金額[新台幣]\n",
      "0        201401  彰化縣   衣   2      未滿20歲      282        574794\n",
      "1        201401  彰化縣   衣   2  20(含)-25歲     7091      16563668\n",
      "2        201401  彰化縣   衣   2  25(含)-30歲    20467      52197577\n",
      "3        201401  彰化縣   衣   2  30(含)-35歲    35400      93635594\n",
      "4        201401  彰化縣   衣   2  35(含)-40歲    41102     113811652\n",
      "...         ...  ...  ..  ..        ...      ...           ...\n",
      "1009003  202309  雲林縣   行   1  60(含)-65歲     8789      12072854\n",
      "1009004  202309  雲林縣   行   1  65(含)-70歲     4643       6184933\n",
      "1009005  202309  雲林縣   行   1  70(含)-75歲     2334       3046155\n",
      "1009006  202309  雲林縣   行   1  75(含)-80歲      549        646881\n",
      "1009007  202309  雲林縣   行   1   80(含)歲以上      234        322332\n",
      "\n",
      "[1009008 rows x 7 columns]\n"
     ]
    }
   ],
   "source": [
    "new_area={'63000000': '臺北市' ,'64000000':'高雄市', '65000000': '新北市', '66000000': '臺中市' ,'67000000': '臺南市', '68000000': '桃園市','10002000': '宜蘭縣', '10004000': '新竹縣', '10005000': '苗栗縣','10007000': '彰化縣' ,'10008000': '南投縣', '10009000': '雲林縣','10010000': '嘉義縣','10020000': '嘉義市', '10013000': '屏東縣' ,'10014000': '臺東縣', '10015000': '花蓮縣' ,'10016000': '澎湖縣','10017000': '基隆市', '10018000': '新竹市' ,'9020000': '金門縣', '9007000': '連江縣'}  \n",
    "df_new_area = pd.DataFrame.from_dict(new_area, orient='index', columns=['地區'])\n",
    "\n",
    "df = pd.read_csv(f'./datasource/{datatype}.csv')\n",
    "\n",
    "df['地區'] = df['地區'].astype(str)\n",
    "\n",
    "# 替換 '地區' 列的值\n",
    "df['地區'] = df['地區'].replace(df_new_area['地區'])\n",
    "\n",
    "print(df)"
   ]
  },
  {
   "cell_type": "code",
   "execution_count": null,
   "metadata": {},
   "outputs": [],
   "source": [
    "df = pd.read_csv('Billionaire.csv')  #讀取CSV資料集檔案\n",
    " \n",
    "conn = sqlite3.connect('billionaire.db')  #建立資料庫\n",
    "cursor = conn.cursor()\n",
    "cursor.execute('CREATE TABLE Billionaire(Name, NetWorth, Country, Source, Rank)')  #建立資料表\n",
    "conn.commit()\n",
    " \n",
    "#如果資料表存在，就寫入資料，否則建立資料表\n",
    "df.to_sql('Billionaire', conn, if_exists='append', index=False) "
   ]
  },
  {
   "cell_type": "code",
   "execution_count": null,
   "metadata": {},
   "outputs": [],
   "source": [
    "#暫存\n",
    "\n",
    "'''\n",
    "    下載,並更新資料庫\n",
    "    '''\n",
    "    #__Combined_csv()    \n",
    "    conn = sqlite3.connect('proj1_creditcard.db')\n",
    "    __create_table(conn)    \n",
    "    print('開始寫入資料')          \n",
    "    for datatype in DataType:\n",
    "        #conn = sqlite3.Connect(f\"{datatype}.db\")         \n",
    "        datatype == datatype \n",
    "        with open(f'./datasource/{datatype}.csv', 'r',encoding='utf-8') as csv_file:            \n",
    "            csv_reader = csv.DictReader(csv_file)        \n",
    "    #將combined csv檔寫入資料庫並更換地區資料(由地區代號改為名稱)\n",
    "            for item in csv_reader:                \n",
    "                item['地區'] = item['地區'].replace(item['地區'],new_area[item['地區']])                 \n",
    "                sql = f\"{item['年月'],item['地區'],item['產業別'],item['性別'],item[DataType[datatype]],item['信用卡交易筆數'],item['信用卡交易金額[新台幣]']})\"  \n",
    "                                \n",
    "                __insert_data(conn,datatype,sql)\n",
    "            conn.close() "
   ]
  }
 ],
 "metadata": {
  "kernelspec": {
   "display_name": "Python 3",
   "language": "python",
   "name": "python3"
  },
  "language_info": {
   "codemirror_mode": {
    "name": "ipython",
    "version": 3
   },
   "file_extension": ".py",
   "mimetype": "text/x-python",
   "name": "python",
   "nbconvert_exporter": "python",
   "pygments_lexer": "ipython3",
   "version": "3.10.8"
  }
 },
 "nbformat": 4,
 "nbformat_minor": 2
}
