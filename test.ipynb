{
 "cells": [
  {
   "cell_type": "code",
   "execution_count": 2,
   "metadata": {},
   "outputs": [
    {
     "name": "stdout",
     "output_type": "stream",
     "text": [
      "           地區\n",
      "63000000  臺北市\n",
      "64000000  高雄市\n",
      "65000000  新北市\n",
      "66000000  臺中市\n",
      "67000000  臺南市\n",
      "68000000  桃園市\n",
      "10002000  宜蘭縣\n",
      "10004000  新竹縣\n",
      "10005000  苗栗縣\n",
      "10007000  彰化縣\n",
      "10008000  南投縣\n",
      "10009000  雲林縣\n",
      "10010000  嘉義縣\n",
      "10020000  嘉義市\n",
      "10013000  屏東縣\n",
      "10014000  臺東縣\n",
      "10015000  花蓮縣\n",
      "10016000  澎湖縣\n",
      "10017000  基隆市\n",
      "10018000  新竹市\n",
      "9020000   金門縣\n",
      "9007000   連江縣\n"
     ]
    }
   ],
   "source": [
    "new_area={'63000000': '臺北市' ,'64000000':'高雄市', '65000000': '新北市', '66000000': '臺中市' ,'67000000': '臺南市', '68000000': '桃園市','10002000': '宜蘭縣', '10004000': '新竹縣', '10005000': '苗栗縣','10007000': '彰化縣' ,'10008000': '南投縣', '10009000': '雲林縣','10010000': '嘉義縣','10020000': '嘉義市', '10013000': '屏東縣' ,'10014000': '臺東縣', '10015000': '花蓮縣' ,'10016000': '澎湖縣','10017000': '基隆市', '10018000': '新竹市' ,'9020000': '金門縣', '9007000': '連江縣'}  \n",
    "df_new_area = pd.DataFrame.from_dict(new_area, orient='index', columns=['地區'])\n",
    "print(df_new_area)  "
   ]
  },
  {
   "cell_type": "code",
   "execution_count": 2,
   "metadata": {},
   "outputs": [
    {
     "name": "stdout",
     "output_type": "stream",
     "text": [
      "age\n",
      "年齡層\n",
      "income\n",
      "年收入\n",
      "job\n",
      "職業類別\n",
      "education\n",
      "教育程度類別\n"
     ]
    }
   ],
   "source": [
    "DataType = {'age':'年齡層', 'income':'年收入', 'job':'職業類別', 'education':'教育程度類別'}\n",
    "\n",
    "for item in DataType:\n",
    "    print(item)\n",
    "    print(DataType[item])\n"
   ]
  },
  {
   "cell_type": "code",
   "execution_count": 3,
   "metadata": {},
   "outputs": [
    {
     "name": "stdout",
     "output_type": "stream",
     "text": [
      "0\n"
     ]
    }
   ],
   "source": [
    "gender = {'M':'0','F':'1'}\n",
    "print(gender['M'])"
   ]
  },
  {
   "cell_type": "code",
   "execution_count": 4,
   "metadata": {},
   "outputs": [
    {
     "name": "stdout",
     "output_type": "stream",
     "text": [
      "年齡層\n",
      "年收入\n",
      "職業類別\n",
      "教育程度類別\n"
     ]
    }
   ],
   "source": [
    "import requests\n",
    "import glob\n",
    "import pandas as pd\n",
    "\n",
    "DataType = {'age':'年齡層', 'income':'年收入', 'job':'職業類別', 'education':'教育程度類別'}\n",
    "for datatype in DataType:\n",
    "    print(DataType[datatype])\n",
    "    folder_path = f'./rawdata/{datatype}/'    \n",
    "    \n",
    "# 使用glob模組取得資料夾中所有的CSV檔案路徑\n",
    "    files = glob.glob(folder_path + '*.csv')\n",
    "\n",
    "# 創建一個空的DataFrame\n",
    "    result = pd.concat([pd.read_csv(f) for f in files], ignore_index=True)\n",
    "    \n",
    "    # 將合併後的資料寫入新的CSV檔案\n",
    "    result.to_csv(f'./datasource/{datatype}.csv', index=False)"
   ]
  },
  {
   "cell_type": "code",
   "execution_count": 80,
   "metadata": {},
   "outputs": [],
   "source": [
    "import tkinter as tk\n",
    "import tkinter.ttk as ttk\n",
    "\n",
    "industry_values = ['食','衣','住','行','百貨','文教康樂','其他']\n",
    "area_values = ['台北市','新北市','桃園市','台中市','台南市','高雄市','其他']\n",
    "root = tk.Tk()\n",
    "root.title(\"信用卡消費樣態\")\n",
    "#root.geometry('300x600')\n",
    "\n",
    "style = ttk.Style()\n",
    "style.configure('TCombobox', font=('Arial', 22, 'bold'))\n",
    "style.configure('TLabel',font=('Arial', 14, 'bold'))\n",
    "\n",
    "title_label = ttk.Label(root,text=\"信用卡消費樣態\",\n",
    "                        font=('Arial',20,'bold')).grid(column=0, row=0,columnspan=15,sticky=tk.W+tk.E+tk.N)\n",
    "year_label = ttk.Label(root,text=\"年度:\",width=5,\n",
    "                       style='TLabel').grid(column=0, row=1,padx=5,pady=12)\n",
    "year_combobox = ttk.Combobox(root,width=10,                             \n",
    "                             values=[i for i in range(2014,2024)],\n",
    "                             style='TCombobox').grid(column=1, row=1,pady=12)\n",
    "month_label = ttk.Label(root,text=\"月份:\",width=5,\n",
    "                        style='TLabel').grid(column=2, row=1,pady=10,padx=8)\n",
    "month_combobox = ttk.Combobox(root,width=10,                             \n",
    "                             values=[i for i in range(1,13)],\n",
    "                             style='TCombobox').grid(column=3, row=1,pady=12)\n",
    "industry_label = ttk.Label(root,text=\"產業別:\",width=7,\n",
    "                           style='TLabel').grid(column=4, row=1,pady=10,padx=8)\n",
    "industry_combobox = ttk.Combobox(root,width=10,\n",
    "                                style='TCombobox', \n",
    "                                values=industry_values).grid(column=5, row=1,pady=12,ipadx=3)\n",
    "area_label = ttk.Label(root,text=\"地區:\",width=5,\n",
    "                       style='TLabel').grid(column=6, row=1,pady=12,padx=8)\n",
    "area_combobox = ttk.Combobox(root,width=10,\n",
    "                             style='TCombobox',\n",
    "                             values=area_values).grid(column=7, row=1,pady=12,)\n",
    "\n",
    "root.mainloop()"
   ]
  },
  {
   "cell_type": "code",
   "execution_count": 1,
   "metadata": {},
   "outputs": [],
   "source": [
    "import tkinter as tk\n",
    "import tkinter.ttk as ttk\n",
    "style = ttk.Style()\n",
    "style.configure(\"BW.TLabel\", foreground=\"black\", background=\"white\")\n",
    "\n",
    "l1 = ttk.Label(text=\"Test\", style=\"BW.TLabel\")\n",
    "l2 = ttk.Label(text=\"Test\", style=\"BW.TLabel\")"
   ]
  },
  {
   "cell_type": "code",
   "execution_count": 5,
   "metadata": {},
   "outputs": [],
   "source": [
    "import tkinter as tk\n",
    "import tkinter.ttk as ttk\n",
    "\n",
    "root = tk.Tk()\n",
    "\n",
    "lbl_test = ttk.Label(root,text=\"This is just a test\\n This is the second line\")\n",
    "lbl_test.pack()\n",
    "\n",
    "root.mainloop()\n"
   ]
  },
  {
   "cell_type": "code",
   "execution_count": 5,
   "metadata": {},
   "outputs": [
    {
     "name": "stdout",
     "output_type": "stream",
     "text": [
      "[('active', 'lightgreen')]\n"
     ]
    },
    {
     "ename": "TclError",
     "evalue": "Invalid column index Color1",
     "output_type": "error",
     "traceback": [
      "\u001b[1;31m---------------------------------------------------------------------------\u001b[0m",
      "\u001b[1;31mTclError\u001b[0m                                  Traceback (most recent call last)",
      "Cell \u001b[1;32mIn[5], line 31\u001b[0m\n\u001b[0;32m     28\u001b[0m treeview2\u001b[38;5;241m.\u001b[39mheading(\u001b[38;5;124m\"\u001b[39m\u001b[38;5;124m#0\u001b[39m\u001b[38;5;124m\"\u001b[39m,text\u001b[38;5;241m=\u001b[39m\u001b[38;5;124m\"\u001b[39m\u001b[38;5;124mVehicle Type\u001b[39m\u001b[38;5;124m\"\u001b[39m)\n\u001b[0;32m     30\u001b[0m \u001b[38;5;28;01mfor\u001b[39;00m i \u001b[38;5;129;01min\u001b[39;00m column_names1 :\n\u001b[1;32m---> 31\u001b[0m     \u001b[43mtreeview_vehicles\u001b[49m\u001b[38;5;241;43m.\u001b[39;49m\u001b[43mheading\u001b[49m\u001b[43m(\u001b[49m\u001b[43mi\u001b[49m\u001b[43m,\u001b[49m\u001b[43mtext\u001b[49m\u001b[43m \u001b[49m\u001b[38;5;241;43m=\u001b[39;49m\u001b[43m \u001b[49m\u001b[43mi\u001b[49m\u001b[43m)\u001b[49m\n\u001b[0;32m     32\u001b[0m     treeview_vehicles\u001b[38;5;241m.\u001b[39mpack(fill\u001b[38;5;241m=\u001b[39mtk\u001b[38;5;241m.\u001b[39mBOTH,expand\u001b[38;5;241m=\u001b[39m\u001b[38;5;28;01mTrue\u001b[39;00m)\n\u001b[0;32m     35\u001b[0m \u001b[38;5;28mprint\u001b[39m(treeview_vehicles\u001b[38;5;241m.\u001b[39mheading)              \n",
      "File \u001b[1;32mC:\\python3108\\lib\\tkinter\\ttk.py:1299\u001b[0m, in \u001b[0;36mTreeview.heading\u001b[1;34m(self, column, option, **kw)\u001b[0m\n\u001b[0;32m   1296\u001b[0m \u001b[38;5;28;01mif\u001b[39;00m option \u001b[38;5;129;01mis\u001b[39;00m \u001b[38;5;129;01mnot\u001b[39;00m \u001b[38;5;28;01mNone\u001b[39;00m:\n\u001b[0;32m   1297\u001b[0m     kw[option] \u001b[38;5;241m=\u001b[39m \u001b[38;5;28;01mNone\u001b[39;00m\n\u001b[1;32m-> 1299\u001b[0m \u001b[38;5;28;01mreturn\u001b[39;00m \u001b[43m_val_or_dict\u001b[49m\u001b[43m(\u001b[49m\u001b[38;5;28;43mself\u001b[39;49m\u001b[38;5;241;43m.\u001b[39;49m\u001b[43mtk\u001b[49m\u001b[43m,\u001b[49m\u001b[43m \u001b[49m\u001b[43mkw\u001b[49m\u001b[43m,\u001b[49m\u001b[43m \u001b[49m\u001b[38;5;28;43mself\u001b[39;49m\u001b[38;5;241;43m.\u001b[39;49m\u001b[43m_w\u001b[49m\u001b[43m,\u001b[49m\u001b[43m \u001b[49m\u001b[38;5;124;43m'\u001b[39;49m\u001b[38;5;124;43mheading\u001b[39;49m\u001b[38;5;124;43m'\u001b[39;49m\u001b[43m,\u001b[49m\u001b[43m \u001b[49m\u001b[43mcolumn\u001b[49m\u001b[43m)\u001b[49m\n",
      "File \u001b[1;32mC:\\python3108\\lib\\tkinter\\ttk.py:298\u001b[0m, in \u001b[0;36m_val_or_dict\u001b[1;34m(tk, options, *args)\u001b[0m\n\u001b[0;32m    290\u001b[0m \u001b[38;5;250m\u001b[39m\u001b[38;5;124;03m\"\"\"Format options then call Tk command with args and options and return\u001b[39;00m\n\u001b[0;32m    291\u001b[0m \u001b[38;5;124;03mthe appropriate result.\u001b[39;00m\n\u001b[0;32m    292\u001b[0m \n\u001b[1;32m   (...)\u001b[0m\n\u001b[0;32m    295\u001b[0m \u001b[38;5;124;03mOtherwise, the function just sets the passed options and the caller\u001b[39;00m\n\u001b[0;32m    296\u001b[0m \u001b[38;5;124;03mshouldn't be expecting a return value anyway.\"\"\"\u001b[39;00m\n\u001b[0;32m    297\u001b[0m options \u001b[38;5;241m=\u001b[39m _format_optdict(options)\n\u001b[1;32m--> 298\u001b[0m res \u001b[38;5;241m=\u001b[39m \u001b[43mtk\u001b[49m\u001b[38;5;241;43m.\u001b[39;49m\u001b[43mcall\u001b[49m\u001b[43m(\u001b[49m\u001b[38;5;241;43m*\u001b[39;49m\u001b[43m(\u001b[49m\u001b[43margs\u001b[49m\u001b[43m \u001b[49m\u001b[38;5;241;43m+\u001b[39;49m\u001b[43m \u001b[49m\u001b[43moptions\u001b[49m\u001b[43m)\u001b[49m\u001b[43m)\u001b[49m\n\u001b[0;32m    300\u001b[0m \u001b[38;5;28;01mif\u001b[39;00m \u001b[38;5;28mlen\u001b[39m(options) \u001b[38;5;241m%\u001b[39m \u001b[38;5;241m2\u001b[39m: \u001b[38;5;66;03m# option specified without a value, return its value\u001b[39;00m\n\u001b[0;32m    301\u001b[0m     \u001b[38;5;28;01mreturn\u001b[39;00m res\n",
      "\u001b[1;31mTclError\u001b[0m: Invalid column index Color1"
     ]
    }
   ],
   "source": [
    "import tkinter as tk\n",
    "import tkinter.ttk as ttk\n",
    "\n",
    "root = tk.Tk()\n",
    "\n",
    "style = ttk.Style()\n",
    "style.configure(\"My.Treeview.Heading\",\n",
    "                background=\"blue\",\n",
    "                foreground=\"gray\",\n",
    "                relief=\"float\")\n",
    "\n",
    "style.map(\"My.Treeview.Heading\",background=[('active','lightgreen')])\n",
    "print(style.map(\"My.Treeview.Heading\",\"background\"))\n",
    "\n",
    "\n",
    "column_names = (\"vehicle_name\",\"year\",\"color\")\n",
    "column_names1 = (\"vehicle_name\",\"year\",\"Color1\")\n",
    "\n",
    "treeview_vehicles = ttk.Treeview(root,style=\"My.Treeview.Heading\",columns=column_names)\n",
    "treeview_vehicles.heading(\"#0\",text=\"Vehicle Type\")\n",
    "treeview_vehicles.heading(\"vehicle_name\",text=\"Vehicle_name\")\n",
    "treeview_vehicles.heading(\"year\",text=\"Year\")\n",
    "treeview_vehicles.heading(\"color\",text=\"Color\")\n",
    "\n",
    "treeview_vehicles.pack(fill=tk.BOTH,expand=True)\n",
    "\n",
    "treeview2 = ttk.Treeview(root,style=\"My.Treeview\",columns=column_names1)\n",
    "treeview2.heading(\"#0\",text=\"Vehicle Type\")\n",
    "\n",
    "for i in column_names1 :\n",
    "    treeview_vehicles.heading(i,text = i)\n",
    "    treeview_vehicles.pack(fill=tk.BOTH,expand=True)\n",
    "\n",
    "\n",
    "print(treeview_vehicles.heading)              \n",
    "\n",
    "\n",
    "root.mainloop()"
   ]
  },
  {
   "cell_type": "code",
   "execution_count": 38,
   "metadata": {},
   "outputs": [
    {
     "name": "stdout",
     "output_type": "stream",
     "text": [
      "[('Treeview.field', {'sticky': 'nswe', 'border': '1', 'children': [('Treeview.padding', {'sticky': 'nswe', 'children': [('Treeview.treearea', {'sticky': 'nswe'})]})]})]\n",
      "Treeview\n"
     ]
    },
    {
     "ename": "NameError",
     "evalue": "name 'vehicle_image' is not defined",
     "output_type": "error",
     "traceback": [
      "\u001b[1;31m---------------------------------------------------------------------------\u001b[0m",
      "\u001b[1;31mNameError\u001b[0m                                 Traceback (most recent call last)",
      "\u001b[1;32mc:\\GitHub\\project1\\test.ipynb 儲存格 10\u001b[0m line \u001b[0;36m2\n\u001b[0;32m     <a href='vscode-notebook-cell:/c%3A/GitHub/project1/test.ipynb#X12sZmlsZQ%3D%3D?line=16'>17</a>\u001b[0m treeview_vehicles \u001b[39m=\u001b[39m ttk\u001b[39m.\u001b[39mTreeview(root,columns\u001b[39m=\u001b[39mcolumn_names)\n\u001b[0;32m     <a href='vscode-notebook-cell:/c%3A/GitHub/project1/test.ipynb#X12sZmlsZQ%3D%3D?line=18'>19</a>\u001b[0m \u001b[39mprint\u001b[39m(treeview_vehicles\u001b[39m.\u001b[39mwinfo_class())\n\u001b[1;32m---> <a href='vscode-notebook-cell:/c%3A/GitHub/project1/test.ipynb#X12sZmlsZQ%3D%3D?line=20'>21</a>\u001b[0m treeview_vehicles\u001b[39m.\u001b[39mheading(\u001b[39m\"\u001b[39m\u001b[39m#0\u001b[39m\u001b[39m\"\u001b[39m,text\u001b[39m=\u001b[39m\u001b[39m\"\u001b[39m\u001b[39mVehicle Type\u001b[39m\u001b[39m\"\u001b[39m,image\u001b[39m=\u001b[39mvehicle_image)\n\u001b[0;32m     <a href='vscode-notebook-cell:/c%3A/GitHub/project1/test.ipynb#X12sZmlsZQ%3D%3D?line=21'>22</a>\u001b[0m treeview_vehicles\u001b[39m.\u001b[39mheading(\u001b[39m\"\u001b[39m\u001b[39mvehicle_name\u001b[39m\u001b[39m\"\u001b[39m,text\u001b[39m=\u001b[39m\u001b[39m\"\u001b[39m\u001b[39mVehicle_name\u001b[39m\u001b[39m\"\u001b[39m)\n\u001b[0;32m     <a href='vscode-notebook-cell:/c%3A/GitHub/project1/test.ipynb#X12sZmlsZQ%3D%3D?line=22'>23</a>\u001b[0m treeview_vehicles\u001b[39m.\u001b[39mheading(\u001b[39m\"\u001b[39m\u001b[39myear\u001b[39m\u001b[39m\"\u001b[39m,text\u001b[39m=\u001b[39m\u001b[39m\"\u001b[39m\u001b[39mYear\u001b[39m\u001b[39m\"\u001b[39m)\n",
      "\u001b[1;31mNameError\u001b[0m: name 'vehicle_image' is not defined"
     ]
    }
   ],
   "source": [
    "import tkinter as tk\n",
    "import tkinter.ttk as ttk\n",
    "#import Pillow as PIL\n",
    "#from PIL import image,imageTk\n",
    "\n",
    "root = tk.Tk()\n",
    "\n",
    "#with Image.open(\"./car.jpg\")as img:\n",
    "#    vehicle_image = imageTk.PhotoImage(img)\n",
    "\n",
    "style = ttk.Style()\n",
    "\n",
    "print(style.layout(\"Treeview\"))\n",
    "\n",
    "column_names = (\"vehicle_name\",\"year\",\"color\")\n",
    "\n",
    "treeview_vehicles = ttk.Treeview(root,columns=column_names)\n",
    "\n",
    "print(treeview_vehicles.winfo_class())\n",
    "\n",
    "treeview_vehicles.heading(\"#0\",text=\"Vehicle Type\",image=vehicle_image)\n",
    "treeview_vehicles.heading(\"vehicle_name\",text=\"Vehicle_name\")\n",
    "treeview_vehicles.heading(\"year\",text=\"Year\")\n",
    "treeview_vehicles.heading(\"color\",text=\"Color\")\n",
    "\n",
    "treeview_vehicles.pack(fill=tk.BOTH,expand=True)\n",
    "\n",
    "\n",
    "\n",
    "\n",
    "root.mainloop()"
   ]
  },
  {
   "cell_type": "code",
   "execution_count": 3,
   "metadata": {},
   "outputs": [
    {
     "name": "stdout",
     "output_type": "stream",
     "text": [
      "[('Treeview.field', {'sticky': 'nswe', 'border': '1', 'children': [('Treeview.padding', {'sticky': 'nswe', 'children': [('Treeview.treearea', {'sticky': 'nswe'})]})]})]\n",
      "Treeview\n"
     ]
    }
   ],
   "source": [
    "import tkinter as tk\n",
    "import tkinter.ttk as ttk\n",
    "#import Pillow as PIL\n",
    "#from PIL import image,imageTk\n",
    "\n",
    "root = tk.Tk()\n",
    "\n",
    "#with Image.open(\"./car.jpg\")as img:\n",
    "#    vehicle_image = imageTk.PhotoImage(img)\n",
    "\n",
    "style = ttk.Style()\n",
    "\n",
    "print(style.layout(\"Treeview\"))\n",
    "\n",
    "column_names = (\"vehicle_name\",\"year\",\"color\")\n",
    "\n",
    "treeview_vehicles = ttk.Treeview(root,columns=column_names)\n",
    "\n",
    "print(treeview_vehicles.winfo_class())\n",
    "\n",
    "treeview_vehicles.heading(\"#0\",text=\"Vehicle Type\")\n",
    "for i in column_names:\n",
    "    treeview_vehicles.heading(i,text = i)\n",
    "\n",
    "treeview_vehicles.pack(fill=tk.BOTH,expand=True)\n",
    "\n",
    "\n",
    "\n",
    "\n",
    "root.mainloop()"
   ]
  },
  {
   "cell_type": "code",
   "execution_count": 5,
   "metadata": {},
   "outputs": [],
   "source": [
    "import tkinter as tk\n",
    "import tkinter.ttk as ttk\n",
    "\n",
    "window = tk.Tk()\n",
    "window.title('信用卡消費資料')\n",
    "#window.geometry('900x300')\n",
    "#window.resizable(width=False,height=False)\n",
    " \n",
    "leftFrame = tk.Frame(window,relief=tk.SUNKEN,borderwidth=1)\n",
    "tk.Label(leftFrame,text=\"搜尋\").pack(fill='y',expand=True,side='left')\n",
    "treeview2_search = ttk.Treeview(window,columns='年度')\n",
    "\n",
    "rightFrame = tk.Frame(window,relief=tk.RAISED,borderwidth=1)\n",
    "tk.Label(rightFrame,text=\"信用卡消費樣態\",font=(\"arial\", 20), fg='darkgray',padx=5,pady=5).pack(fill='y',expand=True,side='right')\n",
    "rightFrame.pack(padx=200,pady=5)\n",
    "column_names = (\"年月\",\"地區\",\"產業別\",\"性別\",\"年齡層\",\"交易筆數\",\"交易金額\")\n",
    "treeview1_credit = ttk.Treeview(window,columns=column_names)\n",
    "scrollbar=tk.Scrollbar(treeview1_credit)  # 建立捲軸物件\n",
    "scrollbar.pack(side=tk.RIGHT, fill=tk.Y)\n",
    "\n",
    "\n",
    "\n",
    "treeview1_credit.heading('#0',text='')\n",
    "treeview1_credit.heading('年月',text='年月')\n",
    "treeview1_credit.heading('地區',text='地區')\n",
    "treeview1_credit.heading('產業別',text='產業別')        \n",
    "treeview1_credit.heading('性別',text='性別')\n",
    "treeview1_credit.heading('年齡層',text='年齡層')\n",
    "treeview1_credit.heading('交易筆數',text='交易筆數')\n",
    "treeview1_credit.heading('交易金額',text='交易金額')        \n",
    "\n",
    "#----------設定欄位寬度------------\n",
    "treeview1_credit.column('#0',width=5)\n",
    "treeview1_credit.column('年月',width=100)\n",
    "treeview1_credit.column('地區',width=100)\n",
    "treeview1_credit.column('產業別',width=100)\n",
    "treeview1_credit.column('性別',width=50)\n",
    "treeview1_credit.column('年齡層',width=100)\n",
    "treeview1_credit.column('交易筆數',width=200)\n",
    "treeview1_credit.column('交易金額',width=250)\n",
    "\n",
    "treeview1_credit.pack(fill=tk.BOTH,expand=True)\n",
    "\n",
    "window.mainloop()"
   ]
  },
  {
   "cell_type": "code",
   "execution_count": 6,
   "metadata": {},
   "outputs": [],
   "source": [
    "from tkinter import *\n",
    "from tkinter import ttk\n",
    "root = Tk()\n",
    "frm = ttk.Frame(root, padding=10)\n",
    "frm.grid()\n",
    "ttk.Label(frm, text=\"Hello World!\").grid(column=0, row=0)\n",
    "ttk.Button(frm, text=\"Quit\", command=root.destroy).grid(column=1, row=0)\n",
    "root.mainloop()\n"
   ]
  },
  {
   "cell_type": "code",
   "execution_count": 10,
   "metadata": {},
   "outputs": [],
   "source": [
    "import tkinter as tk\n",
    "\n",
    "class App(tk.Frame):\n",
    "    def __init__(self, master):\n",
    "        super().__init__(master)\n",
    "        self.pack()\n",
    "\n",
    "        self.entrythingy = tk.Entry()\n",
    "        self.entrythingy.pack()\n",
    "\n",
    "        # Create the application variable.\n",
    "        self.contents = tk.StringVar()\n",
    "        # Set it to some value.\n",
    "        self.contents.set(\"this is a variable\")\n",
    "        # Tell the entry widget to watch this variable.\n",
    "        self.entrythingy[\"textvariable\"] = self.contents\n",
    "\n",
    "        # Define a callback for when the user hits return.\n",
    "        # It prints the current value of the variable.\n",
    "        self.entrythingy.bind('<Key-Return>',\n",
    "                             self.print_contents)\n",
    "\n",
    "    def print_contents(self, event):\n",
    "        print(\"Hi. The current entry content is:\",\n",
    "              self.contents.get())\n",
    "\n",
    "root = tk.Tk()\n",
    "myapp = App(root)\n",
    "myapp.mainloop()"
   ]
  },
  {
   "cell_type": "code",
   "execution_count": null,
   "metadata": {},
   "outputs": [],
   "source": [
    "conn = sqlite3.connect('proj1_creditcard.db')\n",
    "    __create_table(conn)    \n",
    "    print('開始寫入資料')          \n",
    "    for datatype in DataType:\n",
    "        #conn = sqlite3.Connect(f\"{datatype}.db\")         \n",
    "        datatype == datatype \n",
    "        with open(f'./datasource/{datatype}.csv', 'r',encoding='utf-8') as csv_file:            \n",
    "            csv_reader = csv.DictReader(csv_file)        \n",
    "    #將combined csv檔寫入資料庫並更換地區資料(由地區代號改為名稱)\n",
    "            for item in csv_reader:                \n",
    "                item['地區'] = item['地區'].replace(item['地區'],new_area[item['地區']])                 \n",
    "                sql = f\"{item['年月'],item['地區'],item['產業別'],item['性別'],item[DataType[datatype]],item['信用卡交易筆數'],item['信用卡交易金額[新台幣]']})\"  \n",
    "                                \n",
    "                __insert_data(conn,datatype,sql)\n",
    "            conn.close()"
   ]
  },
  {
   "cell_type": "code",
   "execution_count": 2,
   "metadata": {},
   "outputs": [
    {
     "name": "stdout",
     "output_type": "stream",
     "text": [
      "age\n",
      "             年月   地區 產業別  性別        年齡層   交易筆數       交易金額\n",
      "0        201401  彰化縣   衣   2      未滿20歲    282     574794\n",
      "1        201401  彰化縣   衣   2  20(含)-25歲   7091   16563668\n",
      "2        201401  彰化縣   衣   2  25(含)-30歲  20467   52197577\n",
      "3        201401  彰化縣   衣   2  30(含)-35歲  35400   93635594\n",
      "4        201401  彰化縣   衣   2  35(含)-40歲  41102  113811652\n",
      "...         ...  ...  ..  ..        ...    ...        ...\n",
      "1009003  202309  雲林縣   行   1  60(含)-65歲   8789   12072854\n",
      "1009004  202309  雲林縣   行   1  65(含)-70歲   4643    6184933\n",
      "1009005  202309  雲林縣   行   1  70(含)-75歲   2334    3046155\n",
      "1009006  202309  雲林縣   行   1  75(含)-80歲    549     646881\n",
      "1009007  202309  雲林縣   行   1   80(含)歲以上    234     322332\n",
      "\n",
      "[1009008 rows x 7 columns]\n",
      "\n",
      "    INSERT INTO age(年月,地區,產業別,性別,年齡層,交易筆數,交易金額)VALUES(?,?,?,?,?,?,?)        \n"
     ]
    },
    {
     "ename": "OperationalError",
     "evalue": "no such table: age",
     "output_type": "error",
     "traceback": [
      "\u001b[1;31m---------------------------------------------------------------------------\u001b[0m",
      "\u001b[1;31mOperationalError\u001b[0m                          Traceback (most recent call last)",
      "Cell \u001b[1;32mIn[2], line 24\u001b[0m\n\u001b[0;32m     22\u001b[0m \u001b[38;5;28mprint\u001b[39m(sql)\n\u001b[0;32m     23\u001b[0m values \u001b[38;5;241m=\u001b[39m \u001b[38;5;28mtuple\u001b[39m(df\u001b[38;5;241m.\u001b[39miloc[\u001b[38;5;241m0\u001b[39m])\n\u001b[1;32m---> 24\u001b[0m \u001b[43mcursor\u001b[49m\u001b[38;5;241;43m.\u001b[39;49m\u001b[43mexecute\u001b[49m\u001b[43m(\u001b[49m\u001b[43msql\u001b[49m\u001b[43m,\u001b[49m\u001b[43mvalues\u001b[49m\u001b[43m)\u001b[49m  \u001b[38;5;66;03m#連線資料表\u001b[39;00m\n\u001b[0;32m     25\u001b[0m conn\u001b[38;5;241m.\u001b[39mcommit()\n\u001b[0;32m     26\u001b[0m df\u001b[38;5;241m.\u001b[39mto_sql(datatype, conn, if_exists\u001b[38;5;241m=\u001b[39m\u001b[38;5;124m'\u001b[39m\u001b[38;5;124mappend\u001b[39m\u001b[38;5;124m'\u001b[39m, index\u001b[38;5;241m=\u001b[39m\u001b[38;5;28;01mFalse\u001b[39;00m) \n",
      "\u001b[1;31mOperationalError\u001b[0m: no such table: age"
     ]
    }
   ],
   "source": [
    "import sqlite3\n",
    "import pandas as pd\n",
    "\n",
    "new_area={'63000000': '臺北市' ,'64000000':'高雄市', '65000000': '新北市', '66000000': '臺中市' ,'67000000': '臺南市', '68000000': '桃園市','10002000': '宜蘭縣', '10004000': '新竹縣', '10005000': '苗栗縣','10007000': '彰化縣' ,'10008000': '南投縣', '10009000': '雲林縣','10010000': '嘉義縣','10020000': '嘉義市', '10013000': '屏東縣' ,'10014000': '臺東縣', '10015000': '花蓮縣' ,'10016000': '澎湖縣','10017000': '基隆市', '10018000': '新竹市' ,'9020000': '金門縣', '9007000': '連江縣'}  \n",
    "df_new_area = pd.DataFrame.from_dict(new_area, orient='index', columns=['地區'])\n",
    "\n",
    "\n",
    "DataType = {'age':'年齡層', 'income':'年收入', 'job':'職業類別', 'education':'教育程度類別'}\n",
    "for datatype in DataType:\n",
    "    print(datatype)\n",
    "    df = pd.read_csv(f'./datasource/{datatype}.csv') \n",
    "    df.rename(columns={'信用卡交易筆數':'交易筆數','信用卡交易金額[新台幣]':'交易金額'},inplace=True)   \n",
    "    df['地區'] = df['地區'].astype(str)\n",
    "# 替換 '地區' 列的值\n",
    "    df['地區'] = df['地區'].replace(df_new_area['地區'])\n",
    "    print(df)\n",
    "\n",
    "    conn = sqlite3.connect('proj1_creditcard.db')  #連線資料庫\n",
    "    cursor = conn.cursor()\n",
    "    sql=   f'''\n",
    "    INSERT INTO {datatype}(年月,地區,產業別,性別,{DataType[datatype]},交易筆數,交易金額)VALUES(?,?,?,?,?,?,?)        ''' \n",
    "    print(sql)\n",
    "    values = tuple(df.iloc[0])\n",
    "    cursor.execute(sql,values)  #連線資料表\n",
    "    conn.commit()\n",
    "    df.to_sql(datatype, conn, if_exists='append', index=False) \n",
    "\n"
   ]
  },
  {
   "cell_type": "code",
   "execution_count": 10,
   "metadata": {},
   "outputs": [
    {
     "name": "stdout",
     "output_type": "stream",
     "text": [
      "             年月   地區 產業別  性別        年齡層  信用卡交易筆數  信用卡交易金額[新台幣]\n",
      "0        201401  彰化縣   衣   2      未滿20歲      282        574794\n",
      "1        201401  彰化縣   衣   2  20(含)-25歲     7091      16563668\n",
      "2        201401  彰化縣   衣   2  25(含)-30歲    20467      52197577\n",
      "3        201401  彰化縣   衣   2  30(含)-35歲    35400      93635594\n",
      "4        201401  彰化縣   衣   2  35(含)-40歲    41102     113811652\n",
      "...         ...  ...  ..  ..        ...      ...           ...\n",
      "1009003  202309  雲林縣   行   1  60(含)-65歲     8789      12072854\n",
      "1009004  202309  雲林縣   行   1  65(含)-70歲     4643       6184933\n",
      "1009005  202309  雲林縣   行   1  70(含)-75歲     2334       3046155\n",
      "1009006  202309  雲林縣   行   1  75(含)-80歲      549        646881\n",
      "1009007  202309  雲林縣   行   1   80(含)歲以上      234        322332\n",
      "\n",
      "[1009008 rows x 7 columns]\n"
     ]
    }
   ],
   "source": [
    "new_area={'63000000': '臺北市' ,'64000000':'高雄市', '65000000': '新北市', '66000000': '臺中市' ,'67000000': '臺南市', '68000000': '桃園市','10002000': '宜蘭縣', '10004000': '新竹縣', '10005000': '苗栗縣','10007000': '彰化縣' ,'10008000': '南投縣', '10009000': '雲林縣','10010000': '嘉義縣','10020000': '嘉義市', '10013000': '屏東縣' ,'10014000': '臺東縣', '10015000': '花蓮縣' ,'10016000': '澎湖縣','10017000': '基隆市', '10018000': '新竹市' ,'9020000': '金門縣', '9007000': '連江縣'}  \n",
    "df_new_area = pd.DataFrame.from_dict(new_area, orient='index', columns=['地區'])\n",
    "\n",
    "df = pd.read_csv(f'./datasource/{datatype}.csv')\n",
    "\n",
    "df['地區'] = df['地區'].astype(str)\n",
    "\n",
    "# 替換 '地區' 列的值\n",
    "df['地區'] = df['地區'].replace(df_new_area['地區'])\n",
    "\n",
    "print(df)"
   ]
  },
  {
   "cell_type": "code",
   "execution_count": null,
   "metadata": {},
   "outputs": [],
   "source": [
    "df = pd.read_csv('Billionaire.csv')  #讀取CSV資料集檔案\n",
    " \n",
    "conn = sqlite3.connect('billionaire.db')  #建立資料庫\n",
    "cursor = conn.cursor()\n",
    "cursor.execute('CREATE TABLE Billionaire(Name, NetWorth, Country, Source, Rank)')  #建立資料表\n",
    "conn.commit()\n",
    " \n",
    "#如果資料表存在，就寫入資料，否則建立資料表\n",
    "df.to_sql('Billionaire', conn, if_exists='append', index=False) "
   ]
  },
  {
   "cell_type": "code",
   "execution_count": null,
   "metadata": {},
   "outputs": [],
   "source": [
    "#暫存\n",
    "\n",
    "'''\n",
    "    下載,並更新資料庫\n",
    "    '''\n",
    "    #__Combined_csv()    \n",
    "    conn = sqlite3.connect('proj1_creditcard.db')\n",
    "    __create_table(conn)    \n",
    "    print('開始寫入資料')          \n",
    "    for datatype in DataType:\n",
    "        #conn = sqlite3.Connect(f\"{datatype}.db\")         \n",
    "        datatype == datatype \n",
    "        with open(f'./datasource/{datatype}.csv', 'r',encoding='utf-8') as csv_file:            \n",
    "            csv_reader = csv.DictReader(csv_file)        \n",
    "    #將combined csv檔寫入資料庫並更換地區資料(由地區代號改為名稱)\n",
    "            for item in csv_reader:                \n",
    "                item['地區'] = item['地區'].replace(item['地區'],new_area[item['地區']])                 \n",
    "                sql = f\"{item['年月'],item['地區'],item['產業別'],item['性別'],item[DataType[datatype]],item['信用卡交易筆數'],item['信用卡交易金額[新台幣]']})\"  \n",
    "                                \n",
    "                __insert_data(conn,datatype,sql)\n",
    "            conn.close() "
   ]
  },
  {
   "cell_type": "code",
   "execution_count": 7,
   "metadata": {},
   "outputs": [
    {
     "name": "stdout",
     "output_type": "stream",
     "text": [
      "You selected: Option 2\n",
      "You selected: Option 3\n",
      "You selected: Option 4\n"
     ]
    }
   ],
   "source": [
    "import tkinter as tk\n",
    "from tkinter import ttk\n",
    "\n",
    "root =tk.Tk()\n",
    "root.title(\"Combobox Example\")\n",
    "root.geometry('300x300')\n",
    "\n",
    "combo = ttk.Combobox(root, values=[\"Option 1\", \"Option 2\", \"Option 3\", \"Option 4\", \"Option 5\"])\n",
    "combo.pack()\n",
    "\n",
    "def option_selected(event):\n",
    "   selected_option = combo.get()\n",
    "   print(\"You selected:\", selected_option)\n",
    "combo.bind(\"<<ComboboxSelected>>\", option_selected)\n",
    "\n",
    "\n",
    "\n",
    "root.mainloop()\n",
    "\n"
   ]
  },
  {
   "cell_type": "code",
   "execution_count": 3,
   "metadata": {},
   "outputs": [
    {
     "name": "stdout",
     "output_type": "stream",
     "text": [
      "[(127654, '202309', '基隆市', '衣', '2', '軍警人員一', 101, 169846), (127655, '202309', '基隆市', '衣', '2', '軍警人員二', 29, 84917), (127656, '202309', '基隆市', '衣', '2', '其他公共行政類', 796, 2128479), (127657, '202309', '基隆市', '衣', '2', '教育類', 1142, 2700237), (127658, '202309', '基隆市', '衣', '2', '工商及服務類', 5937, 16047109), (127659, '202309', '基隆市', '衣', '2', '專業及技術服務類', 2867, 6969310), (127660, '202309', '基隆市', '衣', '2', '其他', 4168, 10380431), (127661, '202309', '新竹市', '衣', '2', '軍警人員一', 158, 262690), (127662, '202309', '新竹市', '衣', '2', '軍警人員二', 28, 46732), (127663, '202309', '新竹市', '衣', '2', '其他公共行政類', 1028, 2300258), (127664, '202309', '新竹市', '衣', '2', '教育類', 2461, 4183212), (127665, '202309', '新竹市', '衣', '2', '工商及服務類', 10093, 21845877), (127666, '202309', '新竹市', '衣', '2', '專業及技術服務類', 5369, 11485851), (127667, '202309', '新竹市', '衣', '2', '其他', 6447, 14572619), (127668, '202309', '新竹縣', '衣', '2', '軍警人員一', 79, 322141), (127669, '202309', '新竹縣', '衣', '2', '軍警人員二', 11, 32942), (127670, '202309', '新竹縣', '衣', '2', '其他公共行政類', 794, 1857208), (127671, '202309', '新竹縣', '衣', '2', '教育類', 1308, 2944913), (127672, '202309', '新竹縣', '衣', '2', '工商及服務類', 7152, 18299337), (127673, '202309', '新竹縣', '衣', '2', '專業及技術服務類', 3454, 8521195), (127674, '202309', '新竹縣', '衣', '2', '其他', 4192, 10819583), (127682, '202309', '彰化縣', '衣', '2', '軍警人員一', 241, 502700), (127683, '202309', '彰化縣', '衣', '2', '軍警人員二', 59, 128308), (127684, '202309', '彰化縣', '衣', '2', '其他公共行政類', 1990, 4522303), (127685, '202309', '彰化縣', '衣', '2', '教育類', 4247, 8941023), (127686, '202309', '彰化縣', '衣', '2', '工商及服務類', 22465, 53957916), (127687, '202309', '彰化縣', '衣', '2', '專業及技術服務類', 9219, 19466996), (127688, '202309', '彰化縣', '衣', '2', '其他', 11679, 25237515), (127703, '202309', '嘉義市', '衣', '2', '軍警人員一', 182, 441318), (127704, '202309', '嘉義市', '衣', '2', '軍警人員二', 30, 85245), (127705, '202309', '嘉義市', '衣', '2', '其他公共行政類', 1318, 3378586), (127706, '202309', '嘉義市', '衣', '2', '教育類', 2227, 4924538), (127707, '202309', '嘉義市', '衣', '2', '工商及服務類', 9656, 24957235), (127708, '202309', '嘉義市', '衣', '2', '專業及技術服務類', 5058, 12999792), (127709, '202309', '嘉義市', '衣', '2', '其他', 6060, 14418654), (127710, '202309', '嘉義縣', '衣', '2', '軍警人員一', 19, 36370), (127711, '202309', '嘉義縣', '衣', '2', '軍警人員二', 5, 4713), (127712, '202309', '嘉義縣', '衣', '2', '其他公共行政類', 265, 544942), (127713, '202309', '嘉義縣', '衣', '2', '教育類', 594, 998491), (127714, '202309', '嘉義縣', '衣', '2', '工商及服務類', 1940, 3930919), (127715, '202309', '嘉義縣', '衣', '2', '專業及技術服務類', 1076, 2015073), (127716, '202309', '嘉義縣', '衣', '2', '其他', 1363, 2601825), (127731, '202309', '花蓮縣', '衣', '2', '軍警人員一', 112, 217520), (127732, '202309', '花蓮縣', '衣', '2', '軍警人員二', 21, 43182), (127733, '202309', '花蓮縣', '衣', '2', '其他公共行政類', 701, 1738777), (127734, '202309', '花蓮縣', '衣', '2', '教育類', 1087, 1968583), (127735, '202309', '花蓮縣', '衣', '2', '工商及服務類', 3013, 7287614), (127736, '202309', '花蓮縣', '衣', '2', '專業及技術服務類', 1890, 4104217), (127737, '202309', '花蓮縣', '衣', '2', '其他', 2570, 5551465), (127752, '202309', '金門縣', '衣', '2', '軍警人員一', 10, 14783), (127753, '202309', '金門縣', '衣', '2', '軍警人員二', 0, 0), (127754, '202309', '金門縣', '衣', '2', '其他公共行政類', 103, 264381), (127755, '202309', '金門縣', '衣', '2', '教育類', 81, 192511), (127756, '202309', '金門縣', '衣', '2', '工商及服務類', 308, 669658), (127757, '202309', '金門縣', '衣', '2', '專業及技術服務類', 150, 239402), (127758, '202309', '金門縣', '衣', '2', '其他', 267, 527457), (127759, '202309', '連江縣', '衣', '2', '軍警人員一', 0, 0), (127760, '202309', '連江縣', '衣', '2', '軍警人員二', 0, 0), (127761, '202309', '連江縣', '衣', '2', '其他公共行政類', 0, 0), (127762, '202309', '連江縣', '衣', '2', '教育類', 1, 370), (127763, '202309', '連江縣', '衣', '2', '工商及服務類', 1, 299), (127764, '202309', '連江縣', '衣', '2', '專業及技術服務類', 3, 873), (127765, '202309', '連江縣', '衣', '2', '其他', 2, 1346), (140758, '202309', '基隆市', '衣', '1', '軍警人員一', 110, 219912), (140759, '202309', '基隆市', '衣', '1', '軍警人員二', 51, 66443), (140760, '202309', '基隆市', '衣', '1', '其他公共行政類', 501, 882201), (140761, '202309', '基隆市', '衣', '1', '教育類', 458, 886552), (140762, '202309', '基隆市', '衣', '1', '工商及服務類', 2625, 4855085), (140763, '202309', '基隆市', '衣', '1', '專業及技術服務類', 1080, 2208216), (140764, '202309', '基隆市', '衣', '1', '其他', 1217, 2288176), (140765, '202309', '新竹市', '衣', '1', '軍警人員一', 143, 230839), (140766, '202309', '新竹市', '衣', '1', '軍警人員二', 45, 77752), (140767, '202309', '新竹市', '衣', '1', '其他公共行政類', 451, 882886), (140768, '202309', '新竹市', '衣', '1', '教育類', 529, 821999), (140769, '202309', '新竹市', '衣', '1', '工商及服務類', 5452, 11439112), (140770, '202309', '新竹市', '衣', '1', '專業及技術服務類', 2331, 4629971), (140771, '202309', '新竹市', '衣', '1', '其他', 1979, 3857482), (140772, '202309', '新竹縣', '衣', '1', '軍警人員一', 80, 125571), (140773, '202309', '新竹縣', '衣', '1', '軍警人員二', 39, 104765), (140774, '202309', '新竹縣', '衣', '1', '其他公共行政類', 253, 517358), (140775, '202309', '新竹縣', '衣', '1', '教育類', 217, 399614), (140776, '202309', '新竹縣', '衣', '1', '工商及服務類', 3549, 7731592), (140777, '202309', '新竹縣', '衣', '1', '專業及技術服務類', 1466, 3269214), (140778, '202309', '新竹縣', '衣', '1', '其他', 1035, 2130842), (140786, '202309', '彰化縣', '衣', '1', '軍警人員一', 254, 594606), (140787, '202309', '彰化縣', '衣', '1', '軍警人員二', 119, 200211), (140788, '202309', '彰化縣', '衣', '1', '其他公共行政類', 1129, 1769228), (140789, '202309', '彰化縣', '衣', '1', '教育類', 843, 1468945), (140790, '202309', '彰化縣', '衣', '1', '工商及服務類', 9673, 19391828), (140791, '202309', '彰化縣', '衣', '1', '專業及技術服務類', 2908, 5091658), (140792, '202309', '彰化縣', '衣', '1', '其他', 2589, 4507636), (140807, '202309', '嘉義市', '衣', '1', '軍警人員一', 217, 406854), (140808, '202309', '嘉義市', '衣', '1', '軍警人員二', 101, 203348), (140809, '202309', '嘉義市', '衣', '1', '其他公共行政類', 722, 1288323), (140810, '202309', '嘉義市', '衣', '1', '教育類', 568, 886115), (140811, '202309', '嘉義市', '衣', '1', '工商及服務類', 4266, 8605382), (140812, '202309', '嘉義市', '衣', '1', '專業及技術服務類', 1620, 2855954), (140813, '202309', '嘉義市', '衣', '1', '其他', 1364, 2543494), (140814, '202309', '嘉義縣', '衣', '1', '軍警人員一', 32, 59498), (140815, '202309', '嘉義縣', '衣', '1', '軍警人員二', 16, 40288), (140816, '202309', '嘉義縣', '衣', '1', '其他公共行政類', 136, 251116), (140817, '202309', '嘉義縣', '衣', '1', '教育類', 156, 251637), (140818, '202309', '嘉義縣', '衣', '1', '工商及服務類', 983, 1614201), (140819, '202309', '嘉義縣', '衣', '1', '專業及技術服務類', 400, 731281), (140820, '202309', '嘉義縣', '衣', '1', '其他', 313, 546365), (140835, '202309', '花蓮縣', '衣', '1', '軍警人員一', 197, 439663), (140836, '202309', '花蓮縣', '衣', '1', '軍警人員二', 62, 124711), (140837, '202309', '花蓮縣', '衣', '1', '其他公共行政類', 526, 1004830), (140838, '202309', '花蓮縣', '衣', '1', '教育類', 247, 426145), (140839, '202309', '花蓮縣', '衣', '1', '工商及服務類', 1390, 2828428), (140840, '202309', '花蓮縣', '衣', '1', '專業及技術服務類', 698, 1713046), (140841, '202309', '花蓮縣', '衣', '1', '其他', 632, 1120110), (140856, '202309', '金門縣', '衣', '1', '軍警人員一', 22, 39216), (140857, '202309', '金門縣', '衣', '1', '軍警人員二', 11, 30275), (140858, '202309', '金門縣', '衣', '1', '其他公共行政類', 86, 179895), (140859, '202309', '金門縣', '衣', '1', '教育類', 45, 72913), (140860, '202309', '金門縣', '衣', '1', '工商及服務類', 159, -111470), (140861, '202309', '金門縣', '衣', '1', '專業及技術服務類', 48, 117910), (140862, '202309', '金門縣', '衣', '1', '其他', 78, 118258), (140863, '202309', '連江縣', '衣', '1', '軍警人員一', 0, 0), (140864, '202309', '連江縣', '衣', '1', '軍警人員二', 0, 0), (140865, '202309', '連江縣', '衣', '1', '其他公共行政類', 0, 0), (140866, '202309', '連江縣', '衣', '1', '教育類', 0, 0), (140867, '202309', '連江縣', '衣', '1', '工商及服務類', 1, 239), (140868, '202309', '連江縣', '衣', '1', '專業及技術服務類', 0, 0), (140869, '202309', '連江縣', '衣', '1', '其他', 0, 0), (153862, '202309', '基隆市', '百貨', '2', '軍警人員一', 362, 348962), (153863, '202309', '基隆市', '百貨', '2', '軍警人員二', 99, 98559), (153864, '202309', '基隆市', '百貨', '2', '其他公共行政類', 3646, 2987528), (153865, '202309', '基隆市', '百貨', '2', '教育類', 5423, 4212292), (153866, '202309', '基隆市', '百貨', '2', '工商及服務類', 25725, 26662402), (153867, '202309', '基隆市', '百貨', '2', '專業及技術服務類', 14423, 13416054), (153868, '202309', '基隆市', '百貨', '2', '其他', 21507, 18183800), (153869, '202309', '新竹市', '百貨', '2', '軍警人員一', 2039, 3041435), (153870, '202309', '新竹市', '百貨', '2', '軍警人員二', 489, 1261744), (153871, '202309', '新竹市', '百貨', '2', '其他公共行政類', 15920, 25529525), (153872, '202309', '新竹市', '百貨', '2', '教育類', 43765, 69491606), (153873, '202309', '新竹市', '百貨', '2', '工商及服務類', 163768, 309708121), (153874, '202309', '新竹市', '百貨', '2', '專業及技術服務類', 107513, 206536086), (153875, '202309', '新竹市', '百貨', '2', '其他', 144043, 259046919), (153876, '202309', '新竹縣', '百貨', '2', '軍警人員一', 1183, 1186468), (153877, '202309', '新竹縣', '百貨', '2', '軍警人員二', 142, 139243), (153878, '202309', '新竹縣', '百貨', '2', '其他公共行政類', 8970, 7899788), (153879, '202309', '新竹縣', '百貨', '2', '教育類', 16545, 16899657), (153880, '202309', '新竹縣', '百貨', '2', '工商及服務類', 79923, 93494714), (153881, '202309', '新竹縣', '百貨', '2', '專業及技術服務類', 43632, 49790018), (153882, '202309', '新竹縣', '百貨', '2', '其他', 64305, 65021880), (153890, '202309', '彰化縣', '百貨', '2', '軍警人員一', 841, 638745), (153891, '202309', '彰化縣', '百貨', '2', '軍警人員二', 248, 184415), (153892, '202309', '彰化縣', '百貨', '2', '其他公共行政類', 8139, 6309741), (153893, '202309', '彰化縣', '百貨', '2', '教育類', 16669, 12832164), (153894, '202309', '彰化縣', '百貨', '2', '工商及服務類', 95557, 79578557), (153895, '202309', '彰化縣', '百貨', '2', '專業及技術服務類', 36363, 30480808), (153896, '202309', '彰化縣', '百貨', '2', '其他', 59056, 46266691), (153911, '202309', '嘉義市', '百貨', '2', '軍警人員一', 1093, 1820212), (153912, '202309', '嘉義市', '百貨', '2', '軍警人員二', 638, 1769888), (153913, '202309', '嘉義市', '百貨', '2', '其他公共行政類', 12084, 23699751), (153914, '202309', '嘉義市', '百貨', '2', '教育類', 19851, 41408735), (153915, '202309', '嘉義市', '百貨', '2', '工商及服務類', 73140, 173081419), (153916, '202309', '嘉義市', '百貨', '2', '專業及技術服務類', 42571, 105052412), (153917, '202309', '嘉義市', '百貨', '2', '其他', 66380, 135702754), (153918, '202309', '嘉義縣', '百貨', '2', '軍警人員一', 192, 172890), (153919, '202309', '嘉義縣', '百貨', '2', '軍警人員二', 55, 47128), (153920, '202309', '嘉義縣', '百貨', '2', '其他公共行政類', 1571, 1086292), (153921, '202309', '嘉義縣', '百貨', '2', '教育類', 3963, 2241827), (153922, '202309', '嘉義縣', '百貨', '2', '工商及服務類', 13477, 9189059), (153923, '202309', '嘉義縣', '百貨', '2', '專業及技術服務類', 7089, 5002337), (153924, '202309', '嘉義縣', '百貨', '2', '其他', 11003, 7032580), (153939, '202309', '花蓮縣', '百貨', '2', '軍警人員一', 1205, 1052656), (153940, '202309', '花蓮縣', '百貨', '2', '軍警人員二', 233, 342762), (153941, '202309', '花蓮縣', '百貨', '2', '其他公共行政類', 9345, 8628219), (153942, '202309', '花蓮縣', '百貨', '2', '教育類', 13182, 10474947), (153943, '202309', '花蓮縣', '百貨', '2', '工商及服務類', 35443, 32116458), (153944, '202309', '花蓮縣', '百貨', '2', '專業及技術服務類', 21827, 20969578), (153945, '202309', '花蓮縣', '百貨', '2', '其他', 34898, 29740212), (153960, '202309', '金門縣', '百貨', '2', '軍警人員一', 453, 619954), (153961, '202309', '金門縣', '百貨', '2', '軍警人員二', 97, 116186), (153962, '202309', '金門縣', '百貨', '2', '其他公共行政類', 3467, 4546352), (153963, '202309', '金門縣', '百貨', '2', '教育類', 2926, 3350042), (153964, '202309', '金門縣', '百貨', '2', '工商及服務類', 10398, 21090428), (153965, '202309', '金門縣', '百貨', '2', '專業及技術服務類', 4573, 8608875), (153966, '202309', '金門縣', '百貨', '2', '其他', 11016, 17041344), (153967, '202309', '連江縣', '百貨', '2', '軍警人員一', 72, 102127), (153968, '202309', '連江縣', '百貨', '2', '軍警人員二', 32, 30449), (153969, '202309', '連江縣', '百貨', '2', '其他公共行政類', 313, 342258), (153970, '202309', '連江縣', '百貨', '2', '教育類', 167, 174366), (153971, '202309', '連江縣', '百貨', '2', '工商及服務類', 878, 1788988), (153972, '202309', '連江縣', '百貨', '2', '專業及技術服務類', 471, 642198), (153973, '202309', '連江縣', '百貨', '2', '其他', 644, 1112177), (166966, '202309', '基隆市', '百貨', '1', '軍警人員一', 744, 756852), (166967, '202309', '基隆市', '百貨', '1', '軍警人員二', 477, 370385), (166968, '202309', '基隆市', '百貨', '1', '其他公共行政類', 4660, 3055201), (166969, '202309', '基隆市', '百貨', '1', '教育類', 3964, 2476159), (166970, '202309', '基隆市', '百貨', '1', '工商及服務類', 23865, 19051850), (166971, '202309', '基隆市', '百貨', '1', '專業及技術服務類', 10214, 7602316), (166972, '202309', '基隆市', '百貨', '1', '其他', 13330, 8311192), (166973, '202309', '新竹市', '百貨', '1', '軍警人員一', 3300, 4511799), (166974, '202309', '新竹市', '百貨', '1', '軍警人員二', 1898, 3962355), (166975, '202309', '新竹市', '百貨', '1', '其他公共行政類', 12404, 16134555), (166976, '202309', '新竹市', '百貨', '1', '教育類', 19814, 25263652), (166977, '202309', '新竹市', '百貨', '1', '工商及服務類', 162549, 285326699), (166978, '202309', '新竹市', '百貨', '1', '專業及技術服務類', 109880, 208450172), (166979, '202309', '新竹市', '百貨', '1', '其他', 66643, 91337050), (166980, '202309', '新竹縣', '百貨', '1', '軍警人員一', 1461, 1914812), (166981, '202309', '新竹縣', '百貨', '1', '軍警人員二', 469, 418870), (166982, '202309', '新竹縣', '百貨', '1', '其他公共行政類', 7010, 4930447), (166983, '202309', '新竹縣', '百貨', '1', '教育類', 6383, 4663330), (166984, '202309', '新竹縣', '百貨', '1', '工商及服務類', 84358, 96583014), (166985, '202309', '新竹縣', '百貨', '1', '專業及技術服務類', 42870, 38781943), (166986, '202309', '新竹縣', '百貨', '1', '其他', 31477, 24789540), (166994, '202309', '彰化縣', '百貨', '1', '軍警人員一', 1566, 1159253), (166995, '202309', '彰化縣', '百貨', '1', '軍警人員二', 811, 642481), (166996, '202309', '彰化縣', '百貨', '1', '其他公共行政類', 9446, 5993922), (166997, '202309', '彰化縣', '百貨', '1', '教育類', 8058, 4776513), (166998, '202309', '彰化縣', '百貨', '1', '工商及服務類', 82883, 62184664), (166999, '202309', '彰化縣', '百貨', '1', '專業及技術服務類', 22118, 16058201), (167000, '202309', '彰化縣', '百貨', '1', '其他', 28649, 18542903), (167015, '202309', '嘉義市', '百貨', '1', '軍警人員一', 2280, 4430784), (167016, '202309', '嘉義市', '百貨', '1', '軍警人員二', 2857, 7362704), (167017, '202309', '嘉義市', '百貨', '1', '其他公共行政類', 12056, 16023363), (167018, '202309', '嘉義市', '百貨', '1', '教育類', 9908, 25512759), (167019, '202309', '嘉義市', '百貨', '1', '工商及服務類', 62842, 141631303), (167020, '202309', '嘉義市', '百貨', '1', '專業及技術服務類', 24087, 51882432), (167021, '202309', '嘉義市', '百貨', '1', '其他', 26862, 45217558), (167022, '202309', '嘉義縣', '百貨', '1', '軍警人員一', 446, 322045), (167023, '202309', '嘉義縣', '百貨', '1', '軍警人員二', 210, 131759), (167024, '202309', '嘉義縣', '百貨', '1', '其他公共行政類', 2208, 1130166), (167025, '202309', '嘉義縣', '百貨', '1', '教育類', 2487, 938064), (167026, '202309', '嘉義縣', '百貨', '1', '工商及服務類', 12384, 7312524), (167027, '202309', '嘉義縣', '百貨', '1', '專業及技術服務類', 4197, 2222851), (167028, '202309', '嘉義縣', '百貨', '1', '其他', 5322, 2483405), (167043, '202309', '花蓮縣', '百貨', '1', '軍警人員一', 3339, 2656001), (167044, '202309', '花蓮縣', '百貨', '1', '軍警人員二', 1153, 987342), (167045, '202309', '花蓮縣', '百貨', '1', '其他公共行政類', 12573, 9085295), (167046, '202309', '花蓮縣', '百貨', '1', '教育類', 5829, 3473582), (167047, '202309', '花蓮縣', '百貨', '1', '工商及服務類', 29358, 23205899), (167048, '202309', '花蓮縣', '百貨', '1', '專業及技術服務類', 13838, 10636861), (167049, '202309', '花蓮縣', '百貨', '1', '其他', 16773, 11451544), (167064, '202309', '金門縣', '百貨', '1', '軍警人員一', 1419, 1715259), (167065, '202309', '金門縣', '百貨', '1', '軍警人員二', 490, 687069), (167066, '202309', '金門縣', '百貨', '1', '其他公共行政類', 5121, 5629503), (167067, '202309', '金門縣', '百貨', '1', '教育類', 1724, 1986809), (167068, '202309', '金門縣', '百貨', '1', '工商及服務類', 12575, 25315646), (167069, '202309', '金門縣', '百貨', '1', '專業及技術服務類', 3953, 8339293), (167070, '202309', '金門縣', '百貨', '1', '其他', 7813, 11295427), (167071, '202309', '連江縣', '百貨', '1', '軍警人員一', 398, 674980), (167072, '202309', '連江縣', '百貨', '1', '軍警人員二', 93, 106962), (167073, '202309', '連江縣', '百貨', '1', '其他公共行政類', 745, 712398), (167074, '202309', '連江縣', '百貨', '1', '教育類', 112, 104174), (167075, '202309', '連江縣', '百貨', '1', '工商及服務類', 980, 1973023), (167076, '202309', '連江縣', '百貨', '1', '專業及技術服務類', 385, 473742), (167077, '202309', '連江縣', '百貨', '1', '其他', 465, 637569), (180070, '202309', '基隆市', '文教康樂', '2', '軍警人員一', 69, 526880), (180071, '202309', '基隆市', '文教康樂', '2', '軍警人員二', 22, 198383), (180072, '202309', '基隆市', '文教康樂', '2', '其他公共行政類', 532, 2924816), (180073, '202309', '基隆市', '文教康樂', '2', '教育類', 859, 4510248), (180074, '202309', '基隆市', '文教康樂', '2', '工商及服務類', 4370, 24321042), (180075, '202309', '基隆市', '文教康樂', '2', '專業及技術服務類', 2353, 11615046), (180076, '202309', '基隆市', '文教康樂', '2', '其他', 2369, 12503898), (180077, '202309', '新竹市', '文教康樂', '2', '軍警人員一', 391, 933014), (180078, '202309', '新竹市', '文教康樂', '2', '軍警人員二', 46, 105488), (180079, '202309', '新竹市', '文教康樂', '2', '其他公共行政類', 2262, 9206639), (180080, '202309', '新竹市', '文教康樂', '2', '教育類', 5999, 17438093), (180081, '202309', '新竹市', '文教康樂', '2', '工商及服務類', 22713, 106315424), (180082, '202309', '新竹市', '文教康樂', '2', '專業及技術服務類', 12278, 51707619), (180083, '202309', '新竹市', '文教康樂', '2', '其他', 13618, 66700141), (180084, '202309', '新竹縣', '文教康樂', '2', '軍警人員一', 427, 1242171), (180085, '202309', '新竹縣', '文教康樂', '2', '軍警人員二', 42, 38199), (180086, '202309', '新竹縣', '文教康樂', '2', '其他公共行政類', 2279, 5251621), (180087, '202309', '新竹縣', '文教康樂', '2', '教育類', 4376, 7642431), (180088, '202309', '新竹縣', '文教康樂', '2', '工商及服務類', 20926, 59187351), (180089, '202309', '新竹縣', '文教康樂', '2', '專業及技術服務類', 10749, 28268476), (180090, '202309', '新竹縣', '文教康樂', '2', '其他', 13037, 32413512), (180098, '202309', '彰化縣', '文教康樂', '2', '軍警人員一', 222, 928309), (180099, '202309', '彰化縣', '文教康樂', '2', '軍警人員二', 65, 157158), (180100, '202309', '彰化縣', '文教康樂', '2', '其他公共行政類', 1747, 7634037), (180101, '202309', '彰化縣', '文教康樂', '2', '教育類', 3612, 12617712), (180102, '202309', '彰化縣', '文教康樂', '2', '工商及服務類', 17360, 86640008), (180103, '202309', '彰化縣', '文教康樂', '2', '專業及技術服務類', 7955, 33256219), (180104, '202309', '彰化縣', '文教康樂', '2', '其他', 9476, 43447934), (180119, '202309', '嘉義市', '文教康樂', '2', '軍警人員一', 178, 500479), (180120, '202309', '嘉義市', '文教康樂', '2', '軍警人員二', 59, 435263), (180121, '202309', '嘉義市', '文教康樂', '2', '其他公共行政類', 1382, 8340701), (180122, '202309', '嘉義市', '文教康樂', '2', '教育類', 2608, 10983627), (180123, '202309', '嘉義市', '文教康樂', '2', '工商及服務類', 9360, 48570645), (180124, '202309', '嘉義市', '文教康樂', '2', '專業及技術服務類', 5051, 22642769), (180125, '202309', '嘉義市', '文教康樂', '2', '其他', 5974, 29677527), (180126, '202309', '嘉義縣', '文教康樂', '2', '軍警人員一', 95, 136106), (180127, '202309', '嘉義縣', '文教康樂', '2', '軍警人員二', 22, 32965), (180128, '202309', '嘉義縣', '文教康樂', '2', '其他公共行政類', 753, 1730872), (180129, '202309', '嘉義縣', '文教康樂', '2', '教育類', 1439, 2493306), (180130, '202309', '嘉義縣', '文教康樂', '2', '工商及服務類', 6284, 12230481), (180131, '202309', '嘉義縣', '文教康樂', '2', '專業及技術服務類', 3151, 5948188), (180132, '202309', '嘉義縣', '文教康樂', '2', '其他', 4029, 7651556), (180147, '202309', '花蓮縣', '文教康樂', '2', '軍警人員一', 195, 421629), (180148, '202309', '花蓮縣', '文教康樂', '2', '軍警人員二', 51, 304319), (180149, '202309', '花蓮縣', '文教康樂', '2', '其他公共行政類', 1834, 5436358), (180150, '202309', '花蓮縣', '文教康樂', '2', '教育類', 2728, 6134543), (180151, '202309', '花蓮縣', '文教康樂', '2', '工商及服務類', 9469, 26617267), (180152, '202309', '花蓮縣', '文教康樂', '2', '專業及技術服務類', 4784, 16017052), (180153, '202309', '花蓮縣', '文教康樂', '2', '其他', 6049, 17265926), (180168, '202309', '金門縣', '文教康樂', '2', '軍警人員一', 13, 19283), (180169, '202309', '金門縣', '文教康樂', '2', '軍警人員二', 2, 9279), (180170, '202309', '金門縣', '文教康樂', '2', '其他公共行政類', 103, 353659), (180171, '202309', '金門縣', '文教康樂', '2', '教育類', 135, 184950), (180172, '202309', '金門縣', '文教康樂', '2', '工商及服務類', 324, 1289787), (180173, '202309', '金門縣', '文教康樂', '2', '專業及技術服務類', 197, 498838), (180174, '202309', '金門縣', '文教康樂', '2', '其他', 255, 691047), (180175, '202309', '連江縣', '文教康樂', '2', '軍警人員一', 1, 600), (180176, '202309', '連江縣', '文教康樂', '2', '軍警人員二', 1, 38000), (180177, '202309', '連江縣', '文教康樂', '2', '其他公共行政類', 25, 31788), (180178, '202309', '連江縣', '文教康樂', '2', '教育類', 17, 36634), (180179, '202309', '連江縣', '文教康樂', '2', '工商及服務類', 86, 209968), (180180, '202309', '連江縣', '文教康樂', '2', '專業及技術服務類', 36, 230553), (180181, '202309', '連江縣', '文教康樂', '2', '其他', 45, 153160), (193174, '202309', '基隆市', '文教康樂', '1', '軍警人員一', 169, 566588), (193175, '202309', '基隆市', '文教康樂', '1', '軍警人員二', 89, 346744), (193176, '202309', '基隆市', '文教康樂', '1', '其他公共行政類', 570, 1643893), (193177, '202309', '基隆市', '文教康樂', '1', '教育類', 586, 1733499), (193178, '202309', '基隆市', '文教康樂', '1', '工商及服務類', 3660, 12093839), (193179, '202309', '基隆市', '文教康樂', '1', '專業及技術服務類', 1755, 5754712), (193180, '202309', '基隆市', '文教康樂', '1', '其他', 1341, 3804500), (193181, '202309', '新竹市', '文教康樂', '1', '軍警人員一', 881, 2990914), (193182, '202309', '新竹市', '文教康樂', '1', '軍警人員二', 266, 814567), (193183, '202309', '新竹市', '文教康樂', '1', '其他公共行政類', 1872, 6577261), (193184, '202309', '新竹市', '文教康樂', '1', '教育類', 3449, 8530242), (193185, '202309', '新竹市', '文教康樂', '1', '工商及服務類', 29499, 120421595), (193186, '202309', '新竹市', '文教康樂', '1', '專業及技術服務類', 12997, 52794170), (193187, '202309', '新竹市', '文教康樂', '1', '其他', 9276, 38363954), (193188, '202309', '新竹縣', '文教康樂', '1', '軍警人員一', 917, 1734310), (193189, '202309', '新竹縣', '文教康樂', '1', '軍警人員二', 196, 746232), (193190, '202309', '新竹縣', '文教康樂', '1', '其他公共行政類', 1928, 3627182), (193191, '202309', '新竹縣', '文教康樂', '1', '教育類', 1974, 3335919), (193192, '202309', '新竹縣', '文教康樂', '1', '工商及服務類', 31310, 81965010), (193193, '202309', '新竹縣', '文教康樂', '1', '專業及技術服務類', 13165, 31624951), (193194, '202309', '新竹縣', '文教康樂', '1', '其他', 9861, 22381258), (193202, '202309', '彰化縣', '文教康樂', '1', '軍警人員一', 374, 1396451), (193203, '202309', '彰化縣', '文教康樂', '1', '軍警人員二', 190, 986862), (193204, '202309', '彰化縣', '文教康樂', '1', '其他公共行政類', 1677, 7908089), (193205, '202309', '彰化縣', '文教康樂', '1', '教育類', 1469, 5479425), (193206, '202309', '彰化縣', '文教康樂', '1', '工商及服務類', 15179, 84460717), (193207, '202309', '彰化縣', '文教康樂', '1', '專業及技術服務類', 4788, 19652811), (193208, '202309', '彰化縣', '文教康樂', '1', '其他', 4174, 19225701), (193223, '202309', '嘉義市', '文教康樂', '1', '軍警人員一', 568, 1805856), (193224, '202309', '嘉義市', '文教康樂', '1', '軍警人員二', 205, 777571), (193225, '202309', '嘉義市', '文教康樂', '1', '其他公共行政類', 1498, 7614786), (193226, '202309', '嘉義市', '文教康樂', '1', '教育類', 1232, 4924264), (193227, '202309', '嘉義市', '文教康樂', '1', '工商及服務類', 8077, 45751001), (193228, '202309', '嘉義市', '文教康樂', '1', '專業及技術服務類', 3298, 14581614), (193229, '202309', '嘉義市', '文教康樂', '1', '其他', 2714, 13097532), (193230, '202309', '嘉義縣', '文教康樂', '1', '軍警人員一', 244, 397352), (193231, '202309', '嘉義縣', '文教康樂', '1', '軍警人員二', 100, 170212), (193232, '202309', '嘉義縣', '文教康樂', '1', '其他公共行政類', 728, 1523890), (193233, '202309', '嘉義縣', '文教康樂', '1', '教育類', 714, 1199972), (193234, '202309', '嘉義縣', '文教康樂', '1', '工商及服務類', 5057, 9054935), (193235, '202309', '嘉義縣', '文教康樂', '1', '專業及技術服務類', 1788, 3613943), (193236, '202309', '嘉義縣', '文教康樂', '1', '其他', 1657, 2670241), (193251, '202309', '花蓮縣', '文教康樂', '1', '軍警人員一', 573, 1330090), (193252, '202309', '花蓮縣', '文教康樂', '1', '軍警人員二', 130, 662469), (193253, '202309', '花蓮縣', '文教康樂', '1', '其他公共行政類', 1517, 5021314), (193254, '202309', '花蓮縣', '文教康樂', '1', '教育類', 877, 1854712), (193255, '202309', '花蓮縣', '文教康樂', '1', '工商及服務類', 7087, 21331454), (193256, '202309', '花蓮縣', '文教康樂', '1', '專業及技術服務類', 3036, 10252803), (193257, '202309', '花蓮縣', '文教康樂', '1', '其他', 2490, 6180211), (193272, '202309', '金門縣', '文教康樂', '1', '軍警人員一', 59, 81604), (193273, '202309', '金門縣', '文教康樂', '1', '軍警人員二', 18, 35979), (193274, '202309', '金門縣', '文教康樂', '1', '其他公共行政類', 158, 257615), (193275, '202309', '金門縣', '文教康樂', '1', '教育類', 67, 85010), (193276, '202309', '金門縣', '文教康樂', '1', '工商及服務類', 321, 1337018), (193277, '202309', '金門縣', '文教康樂', '1', '專業及技術服務類', 125, 488979), (193278, '202309', '金門縣', '文教康樂', '1', '其他', 143, 305510), (193279, '202309', '連江縣', '文教康樂', '1', '軍警人員一', 8, 45033), (193280, '202309', '連江縣', '文教康樂', '1', '軍警人員二', 3, 2880), (193281, '202309', '連江縣', '文教康樂', '1', '其他公共行政類', 23, 70986), (193282, '202309', '連江縣', '文教康樂', '1', '教育類', 7, 35929), (193283, '202309', '連江縣', '文教康樂', '1', '工商及服務類', 74, 117482), (193284, '202309', '連江縣', '文教康樂', '1', '專業及技術服務類', 27, 31981), (193285, '202309', '連江縣', '文教康樂', '1', '其他', 23, 134378), (206278, '202309', '基隆市', '食', '2', '軍警人員一', 337, 260756), (206279, '202309', '基隆市', '食', '2', '軍警人員二', 123, 82169), (206280, '202309', '基隆市', '食', '2', '其他公共行政類', 3093, 2273470), (206281, '202309', '基隆市', '食', '2', '教育類', 4535, 3582046), (206282, '202309', '基隆市', '食', '2', '工商及服務類', 20042, 19636733), (206283, '202309', '基隆市', '食', '2', '專業及技術服務類', 10416, 10323734), (206284, '202309', '基隆市', '食', '2', '其他', 14908, 14794325), (206285, '202309', '新竹市', '食', '2', '軍警人員一', 1734, 1434364), (206286, '202309', '新竹市', '食', '2', '軍警人員二', 164, 160056), (206287, '202309', '新竹市', '食', '2', '其他公共行政類', 9846, 6978844), (206288, '202309', '新竹市', '食', '2', '教育類', 24912, 16549684), (206289, '202309', '新竹市', '食', '2', '工商及服務類', 93497, 84347928), (206290, '202309', '新竹市', '食', '2', '專業及技術服務類', 54994, 43071486), (206291, '202309', '新竹市', '食', '2', '其他', 75347, 54473762), (206292, '202309', '新竹縣', '食', '2', '軍警人員一', 1715, 1542650), (206293, '202309', '新竹縣', '食', '2', '軍警人員二', 149, 146716), (206294, '202309', '新竹縣', '食', '2', '其他公共行政類', 9857, 7354740), (206295, '202309', '新竹縣', '食', '2', '教育類', 18775, 13952120), (206296, '202309', '新竹縣', '食', '2', '工商及服務類', 89989, 91111166), (206297, '202309', '新竹縣', '食', '2', '專業及技術服務類', 51744, 46366639), (206298, '202309', '新竹縣', '食', '2', '其他', 67083, 54051662), (206306, '202309', '彰化縣', '食', '2', '軍警人員一', 818, 727717), (206307, '202309', '彰化縣', '食', '2', '軍警人員二', 183, 218294), (206308, '202309', '彰化縣', '食', '2', '其他公共行政類', 5729, 5034352), (206309, '202309', '彰化縣', '食', '2', '教育類', 11567, 9111224), (206310, '202309', '彰化縣', '食', '2', '工商及服務類', 61491, 64497471), (206311, '202309', '彰化縣', '食', '2', '專業及技術服務類', 25840, 24373475), (206312, '202309', '彰化縣', '食', '2', '其他', 33473, 30618849), (206327, '202309', '嘉義市', '食', '2', '軍警人員一', 551, 551044), (206328, '202309', '嘉義市', '食', '2', '軍警人員二', 119, 132230), (206329, '202309', '嘉義市', '食', '2', '其他公共行政類', 4022, 3986458), (206330, '202309', '嘉義市', '食', '2', '教育類', 6561, 6543975), (206331, '202309', '嘉義市', '食', '2', '工商及服務類', 26222, 37078211), (206332, '202309', '嘉義市', '食', '2', '專業及技術服務類', 14694, 16281318), (206333, '202309', '嘉義市', '食', '2', '其他', 19092, 21918422), (206334, '202309', '嘉義縣', '食', '2', '軍警人員一', 355, 208912), (206335, '202309', '嘉義縣', '食', '2', '軍警人員二', 63, 46803), (206336, '202309', '嘉義縣', '食', '2', '其他公共行政類', 2530, 1713952), (206337, '202309', '嘉義縣', '食', '2', '教育類', 4302, 2386807), (206338, '202309', '嘉義縣', '食', '2', '工商及服務類', 16141, 14046931), (206339, '202309', '嘉義縣', '食', '2', '專業及技術服務類', 9094, 6785416), (206340, '202309', '嘉義縣', '食', '2', '其他', 12168, 9670974), (206355, '202309', '花蓮縣', '食', '2', '軍警人員一', 725, 614608), (206356, '202309', '花蓮縣', '食', '2', '軍警人員二', 152, 117043), (206357, '202309', '花蓮縣', '食', '2', '其他公共行政類', 4920, 4581943), (206358, '202309', '花蓮縣', '食', '2', '教育類', 6399, 5839076), (206359, '202309', '花蓮縣', '食', '2', '工商及服務類', 22180, 26225164), (206360, '202309', '花蓮縣', '食', '2', '專業及技術服務類', 13290, 12653316), (206361, '202309', '花蓮縣', '食', '2', '其他', 17092, 17512471), (206376, '202309', '金門縣', '食', '2', '軍警人員一', 194, 302811), (206377, '202309', '金門縣', '食', '2', '軍警人員二', 82, 48313), (206378, '202309', '金門縣', '食', '2', '其他公共行政類', 1246, 1294513), (206379, '202309', '金門縣', '食', '2', '教育類', 1285, 1481538), (206380, '202309', '金門縣', '食', '2', '工商及服務類', 5774, 10108839), (206381, '202309', '金門縣', '食', '2', '專業及技術服務類', 2478, 3553908), (206382, '202309', '金門縣', '食', '2', '其他', 4240, 6334539), (206383, '202309', '連江縣', '食', '2', '軍警人員一', 54, 20308), (206384, '202309', '連江縣', '食', '2', '軍警人員二', 12, 5358), (206385, '202309', '連江縣', '食', '2', '其他公共行政類', 310, 457920), (206386, '202309', '連江縣', '食', '2', '教育類', 168, 140100), (206387, '202309', '連江縣', '食', '2', '工商及服務類', 822, 1582554), (206388, '202309', '連江縣', '食', '2', '專業及技術服務類', 391, 607589), (206389, '202309', '連江縣', '食', '2', '其他', 694, 931556), (219382, '202309', '基隆市', '食', '1', '軍警人員一', 972, 833921), (219383, '202309', '基隆市', '食', '1', '軍警人員二', 545, 546463), (219384, '202309', '基隆市', '食', '1', '其他公共行政類', 4519, 2841959), (219385, '202309', '基隆市', '食', '1', '教育類', 3952, 2430435), (219386, '202309', '基隆市', '食', '1', '工商及服務類', 25111, 19848090), (219387, '202309', '基隆市', '食', '1', '專業及技術服務類', 11076, 8258724), (219388, '202309', '基隆市', '食', '1', '其他', 10655, 6829454), (219389, '202309', '新竹市', '食', '1', '軍警人員一', 2939, 2485697), (219390, '202309', '新竹市', '食', '1', '軍警人員二', 697, 769961), (219391, '202309', '新竹市', '食', '1', '其他公共行政類', 9294, 6464093), (219392, '202309', '新竹市', '食', '1', '教育類', 19232, 10265214), (219393, '202309', '新竹市', '食', '1', '工商及服務類', 139132, 120234917), (219394, '202309', '新竹市', '食', '1', '專業及技術服務類', 76557, 53201231), (219395, '202309', '新竹市', '食', '1', '其他', 50280, 33953748), (219396, '202309', '新竹縣', '食', '1', '軍警人員一', 3630, 2832733), (219397, '202309', '新竹縣', '食', '1', '軍警人員二', 872, 788348), (219398, '202309', '新竹縣', '食', '1', '其他公共行政類', 11367, 7284162), (219399, '202309', '新竹縣', '食', '1', '教育類', 11777, 7214135), (219400, '202309', '新竹縣', '食', '1', '工商及服務類', 147277, 144692815), (219401, '202309', '新竹縣', '食', '1', '專業及技術服務類', 82360, 63365506), (219402, '202309', '新竹縣', '食', '1', '其他', 48062, 38760493), (219410, '202309', '彰化縣', '食', '1', '軍警人員一', 1714, 1468055), (219411, '202309', '彰化縣', '食', '1', '軍警人員二', 766, 678710), (219412, '202309', '彰化縣', '食', '1', '其他公共行政類', 7712, 5674548), (219413, '202309', '彰化縣', '食', '1', '教育類', 8228, 4821512), (219414, '202309', '彰化縣', '食', '1', '工商及服務類', 75663, 62478714), (219415, '202309', '彰化縣', '食', '1', '專業及技術服務類', 23380, 16391697), (219416, '202309', '彰化縣', '食', '1', '其他', 22437, 14953954), (219431, '202309', '嘉義市', '食', '1', '軍警人員一', 1470, 1646814), (219432, '202309', '嘉義市', '食', '1', '軍警人員二', 602, 701984), (219433, '202309', '嘉義市', '食', '1', '其他公共行政類', 5442, 4875250), (219434, '202309', '嘉義市', '食', '1', '教育類', 4652, 3598957), (219435, '202309', '嘉義市', '食', '1', '工商及服務類', 28907, 31198858), (219436, '202309', '嘉義市', '食', '1', '專業及技術服務類', 11876, 11680301), (219437, '202309', '嘉義市', '食', '1', '其他', 10943, 9821457), (219438, '202309', '嘉義縣', '食', '1', '軍警人員一', 1444, 661886), (219439, '202309', '嘉義縣', '食', '1', '軍警人員二', 509, 304991), (219440, '202309', '嘉義縣', '食', '1', '其他公共行政類', 4635, 2818915), (219441, '202309', '嘉義縣', '食', '1', '教育類', 3893, 1441242), (219442, '202309', '嘉義縣', '食', '1', '工商及服務類', 21585, 15473244), (219443, '202309', '嘉義縣', '食', '1', '專業及技術服務類', 8923, 5390330), (219444, '202309', '嘉義縣', '食', '1', '其他', 8914, 4982070), (219459, '202309', '花蓮縣', '食', '1', '軍警人員一', 2112, 1748369), (219460, '202309', '花蓮縣', '食', '1', '軍警人員二', 782, 585600), (219461, '202309', '花蓮縣', '食', '1', '其他公共行政類', 7350, 5178327), (219462, '202309', '花蓮縣', '食', '1', '教育類', 4270, 2661429), (219463, '202309', '花蓮縣', '食', '1', '工商及服務類', 24092, 21584913), (219464, '202309', '花蓮縣', '食', '1', '專業及技術服務類', 11488, 9475040), (219465, '202309', '花蓮縣', '食', '1', '其他', 11011, 8166329), (219480, '202309', '金門縣', '食', '1', '軍警人員一', 668, 521366), (219481, '202309', '金門縣', '食', '1', '軍警人員二', 224, 251492), (219482, '202309', '金門縣', '食', '1', '其他公共行政類', 2477, 2619123), (219483, '202309', '金門縣', '食', '1', '教育類', 1213, 819000), (219484, '202309', '金門縣', '食', '1', '工商及服務類', 6026, 11817607), (219485, '202309', '金門縣', '食', '1', '專業及技術服務類', 2144, 4052145), (219486, '202309', '金門縣', '食', '1', '其他', 3029, 3530279), (219487, '202309', '連江縣', '食', '1', '軍警人員一', 218, 202971), (219488, '202309', '連江縣', '食', '1', '軍警人員二', 112, 122800), (219489, '202309', '連江縣', '食', '1', '其他公共行政類', 1208, 1756745), (219490, '202309', '連江縣', '食', '1', '教育類', 171, 139109), (219491, '202309', '連江縣', '食', '1', '工商及服務類', 955, 1389635), (219492, '202309', '連江縣', '食', '1', '專業及技術服務類', 604, 529937), (219493, '202309', '連江縣', '食', '1', '其他', 810, 1174222), (232486, '202309', '基隆市', '住', '2', '軍警人員一', 60, 337706), (232487, '202309', '基隆市', '住', '2', '軍警人員二', 20, 68042), (232488, '202309', '基隆市', '住', '2', '其他公共行政類', 500, 2125648), (232489, '202309', '基隆市', '住', '2', '教育類', 801, 3035615), (232490, '202309', '基隆市', '住', '2', '工商及服務類', 3774, 18910899), (232491, '202309', '基隆市', '住', '2', '專業及技術服務類', 2009, 9543645), (232492, '202309', '基隆市', '住', '2', '其他', 2544, 10923058), (232493, '202309', '新竹市', '住', '2', '軍警人員一', 199, 932215), (232494, '202309', '新竹市', '住', '2', '軍警人員二', 36, 122526), (232495, '202309', '新竹市', '住', '2', '其他公共行政類', 1647, 6092401), (232496, '202309', '新竹市', '住', '2', '教育類', 2760, 9505317), (232497, '202309', '新竹市', '住', '2', '工商及服務類', 12059, 64685967), (232498, '202309', '新竹市', '住', '2', '專業及技術服務類', 6297, 28487146), (232499, '202309', '新竹市', '住', '2', '其他', 8491, 35410957), (232500, '202309', '新竹縣', '住', '2', '軍警人員一', 124, 618093), (232501, '202309', '新竹縣', '住', '2', '軍警人員二', 18, 78086), (232502, '202309', '新竹縣', '住', '2', '其他公共行政類', 975, 4130737), (232503, '202309', '新竹縣', '住', '2', '教育類', 1840, 6549463), (232504, '202309', '新竹縣', '住', '2', '工商及服務類', 8688, 50744426), (232505, '202309', '新竹縣', '住', '2', '專業及技術服務類', 4268, 23284961), (232506, '202309', '新竹縣', '住', '2', '其他', 5918, 24683144), (232514, '202309', '彰化縣', '住', '2', '軍警人員一', 149, 630068), (232515, '202309', '彰化縣', '住', '2', '軍警人員二', 107, 128250), (232516, '202309', '彰化縣', '住', '2', '其他公共行政類', 1620, 4420249), (232517, '202309', '彰化縣', '住', '2', '教育類', 3555, 7715569), (232518, '202309', '彰化縣', '住', '2', '工商及服務類', 19568, 52967112), (232519, '202309', '彰化縣', '住', '2', '專業及技術服務類', 8736, 19728534), (232520, '202309', '彰化縣', '住', '2', '其他', 12037, 26800888), (232535, '202309', '嘉義市', '住', '2', '軍警人員一', 205, 713597), (232536, '202309', '嘉義市', '住', '2', '軍警人員二', 33, 178407), (232537, '202309', '嘉義市', '住', '2', '其他公共行政類', 1510, 6004050), (232538, '202309', '嘉義市', '住', '2', '教育類', 2440, 8283776), (232539, '202309', '嘉義市', '住', '2', '工商及服務類', 9719, 44340054), (232540, '202309', '嘉義市', '住', '2', '專業及技術服務類', 4980, 20486539), (232541, '202309', '嘉義市', '住', '2', '其他', 6374, 23841838), (232542, '202309', '嘉義縣', '住', '2', '軍警人員一', 65, 612906), (232543, '202309', '嘉義縣', '住', '2', '軍警人員二', 15, 81859), (232544, '202309', '嘉義縣', '住', '2', '其他公共行政類', 703, 2815455), (232545, '202309', '嘉義縣', '住', '2', '教育類', 1035, 2938281), (232546, '202309', '嘉義縣', '住', '2', '工商及服務類', 4942, 23137625), (232547, '202309', '嘉義縣', '住', '2', '專業及技術服務類', 2569, 11136919), (232548, '202309', '嘉義縣', '住', '2', '其他', 3175, 11291234), (232563, '202309', '花蓮縣', '住', '2', '軍警人員一', 264, 1024832), (232564, '202309', '花蓮縣', '住', '2', '軍警人員二', 57, 210144), (232565, '202309', '花蓮縣', '住', '2', '其他公共行政類', 2083, 9295661), (232566, '202309', '花蓮縣', '住', '2', '教育類', 2058, 9675000), (232567, '202309', '花蓮縣', '住', '2', '工商及服務類', 10315, 74830764), (232568, '202309', '花蓮縣', '住', '2', '專業及技術服務類', 5447, 36745249), (232569, '202309', '花蓮縣', '住', '2', '其他', 6493, 37356483), (232584, '202309', '金門縣', '住', '2', '軍警人員一', 32, 111188), (232585, '202309', '金門縣', '住', '2', '軍警人員二', 9, 15583), (232586, '202309', '金門縣', '住', '2', '其他公共行政類', 369, 1103918), (232587, '202309', '金門縣', '住', '2', '教育類', 329, 1108333), (232588, '202309', '金門縣', '住', '2', '工商及服務類', 1278, 6235583), (232589, '202309', '金門縣', '住', '2', '專業及技術服務類', 691, 4395933), (232590, '202309', '金門縣', '住', '2', '其他', 881, 3500007), (232591, '202309', '連江縣', '住', '2', '軍警人員一', 17, 37535), (232592, '202309', '連江縣', '住', '2', '軍警人員二', 7, 21100), (232593, '202309', '連江縣', '住', '2', '其他公共行政類', 80, 280734), (232594, '202309', '連江縣', '住', '2', '教育類', 60, 181748), (232595, '202309', '連江縣', '住', '2', '工商及服務類', 239, 626722), (232596, '202309', '連江縣', '住', '2', '專業及技術服務類', 142, 415833), (232597, '202309', '連江縣', '住', '2', '其他', 157, 469956), (245590, '202309', '基隆市', '住', '1', '軍警人員一', 169, 901680), (245591, '202309', '基隆市', '住', '1', '軍警人員二', 113, 546865), (245592, '202309', '基隆市', '住', '1', '其他公共行政類', 793, 3338231), (245593, '202309', '基隆市', '住', '1', '教育類', 568, 2494432), (245594, '202309', '基隆市', '住', '1', '工商及服務類', 4110, 20003924), (245595, '202309', '基隆市', '住', '1', '專業及技術服務類', 1819, 8557251), (245596, '202309', '基隆市', '住', '1', '其他', 1537, 6704709), (245597, '202309', '新竹市', '住', '1', '軍警人員一', 548, 2044972), (245598, '202309', '新竹市', '住', '1', '軍警人員二', 172, 771891), (245599, '202309', '新竹市', '住', '1', '其他公共行政類', 2031, 6321629), (245600, '202309', '新竹市', '住', '1', '教育類', 1880, 6978130), (245601, '202309', '新竹市', '住', '1', '工商及服務類', 20743, 97742121), (245602, '202309', '新竹市', '住', '1', '專業及技術服務類', 8747, 36366221), (245603, '202309', '新竹市', '住', '1', '其他', 6912, 26139874), (245604, '202309', '新竹縣', '住', '1', '軍警人員一', 299, 1205821), (245605, '202309', '新竹縣', '住', '1', '軍警人員二', 73, 144963), (245606, '202309', '新竹縣', '住', '1', '其他公共行政類', 986, 3952212), (245607, '202309', '新竹縣', '住', '1', '教育類', 862, 2591986), (245608, '202309', '新竹縣', '住', '1', '工商及服務類', 13479, 75921650), (245609, '202309', '新竹縣', '住', '1', '專業及技術服務類', 5717, 29882436), (245610, '202309', '新竹縣', '住', '1', '其他', 4093, 19516320), (245618, '202309', '彰化縣', '住', '1', '軍警人員一', 471, 1683666), (245619, '202309', '彰化縣', '住', '1', '軍警人員二', 206, 695517), (245620, '202309', '彰化縣', '住', '1', '其他公共行政類', 2619, 6079932), (245621, '202309', '彰化縣', '住', '1', '教育類', 2145, 4507242), (245622, '202309', '彰化縣', '住', '1', '工商及服務類', 23447, 72530381), (245623, '202309', '彰化縣', '住', '1', '專業及技術服務類', 8059, 19164910), (245624, '202309', '彰化縣', '住', '1', '其他', 7166, 16273208), (245639, '202309', '嘉義市', '住', '1', '軍警人員一', 561, 1976342), (245640, '202309', '嘉義市', '住', '1', '軍警人員二', 200, 625604), (245641, '202309', '嘉義市', '住', '1', '其他公共行政類', 1984, 6828598), (245642, '202309', '嘉義市', '住', '1', '教育類', 1360, 4652667), (245643, '202309', '嘉義市', '住', '1', '工商及服務類', 11660, 47388719), (245644, '202309', '嘉義市', '住', '1', '專業及技術服務類', 4422, 16879129), (245645, '202309', '嘉義市', '住', '1', '其他', 3832, 13421890), (245646, '202309', '嘉義縣', '住', '1', '軍警人員一', 177, 755880), (245647, '202309', '嘉義縣', '住', '1', '軍警人員二', 91, 254853), (245648, '202309', '嘉義縣', '住', '1', '其他公共行政類', 975, 3060760), (245649, '202309', '嘉義縣', '住', '1', '教育類', 589, 1900158), (245650, '202309', '嘉義縣', '住', '1', '工商及服務類', 5145, 23306422), (245651, '202309', '嘉義縣', '住', '1', '專業及技術服務類', 2169, 9196624), (245652, '202309', '嘉義縣', '住', '1', '其他', 1752, 6093713), (245667, '202309', '花蓮縣', '住', '1', '軍警人員一', 755, 2840652), (245668, '202309', '花蓮縣', '住', '1', '軍警人員二', 279, 1287437), (245669, '202309', '花蓮縣', '住', '1', '其他公共行政類', 2843, 13140686), (245670, '202309', '花蓮縣', '住', '1', '教育類', 1253, 6450195), (245671, '202309', '花蓮縣', '住', '1', '工商及服務類', 11100, 73879426), (245672, '202309', '花蓮縣', '住', '1', '專業及技術服務類', 4806, 30999627), (245673, '202309', '花蓮縣', '住', '1', '其他', 4076, 21778276), (245688, '202309', '金門縣', '住', '1', '軍警人員一', 196, 706111), (245689, '202309', '金門縣', '住', '1', '軍警人員二', 51, 265340), (245690, '202309', '金門縣', '住', '1', '其他公共行政類', 610, 2867019), (245691, '202309', '金門縣', '住', '1', '教育類', 226, 796458), (245692, '202309', '金門縣', '住', '1', '工商及服務類', 1451, 6998552), (245693, '202309', '金門縣', '住', '1', '專業及技術服務類', 571, 3164798), (245694, '202309', '金門縣', '住', '1', '其他', 593, 3588964), (245695, '202309', '連江縣', '住', '1', '軍警人員一', 79, 261262), (245696, '202309', '連江縣', '住', '1', '軍警人員二', 16, 74170), (245697, '202309', '連江縣', '住', '1', '其他公共行政類', 127, 373829), (245698, '202309', '連江縣', '住', '1', '教育類', 38, 96369), (245699, '202309', '連江縣', '住', '1', '工商及服務類', 254, 882831), (245700, '202309', '連江縣', '住', '1', '專業及技術服務類', 105, 381142), (245701, '202309', '連江縣', '住', '1', '其他', 98, 328090), (258694, '202309', '基隆市', '其他', '2', '軍警人員一', 134, 160535), (258695, '202309', '基隆市', '其他', '2', '軍警人員二', 35, 59370), (258696, '202309', '基隆市', '其他', '2', '其他公共行政類', 959, 2095266), (258697, '202309', '基隆市', '其他', '2', '教育類', 1275, 2829497), (258698, '202309', '基隆市', '其他', '2', '工商及服務類', 7876, 21512360), (258699, '202309', '基隆市', '其他', '2', '專業及技術服務類', 4309, 12445456), (258700, '202309', '基隆市', '其他', '2', '其他', 4851, 11619278), (258701, '202309', '新竹市', '其他', '2', '軍警人員一', 372, 905144), (258702, '202309', '新竹市', '其他', '2', '軍警人員二', 54, 86560), (258703, '202309', '新竹市', '其他', '2', '其他公共行政類', 1828, 4563773), (258704, '202309', '新竹市', '其他', '2', '教育類', 4532, 9490818), (258705, '202309', '新竹市', '其他', '2', '工商及服務類', 21812, 66535802), (258706, '202309', '新竹市', '其他', '2', '專業及技術服務類', 11977, 35672002), (258707, '202309', '新竹市', '其他', '2', '其他', 13610, 38985028), (258708, '202309', '新竹縣', '其他', '2', '軍警人員一', 447, 1012678), (258709, '202309', '新竹縣', '其他', '2', '軍警人員二', 83, 168209), (258710, '202309', '新竹縣', '其他', '2', '其他公共行政類', 2751, 7016415), (258711, '202309', '新竹縣', '其他', '2', '教育類', 4509, 11428174), (258712, '202309', '新竹縣', '其他', '2', '工商及服務類', 27906, 96422208), (258713, '202309', '新竹縣', '其他', '2', '專業及技術服務類', 13959, 45704382), (258714, '202309', '新竹縣', '其他', '2', '其他', 17211, 54348624), (258722, '202309', '彰化縣', '其他', '2', '軍警人員一', 286, 553166), (258723, '202309', '彰化縣', '其他', '2', '軍警人員二', 76, 296982), (258724, '202309', '彰化縣', '其他', '2', '其他公共行政類', 1607, 4739820), (258725, '202309', '彰化縣', '其他', '2', '教育類', 3963, 10235434), (258726, '202309', '彰化縣', '其他', '2', '工商及服務類', 23501, 72839448), (258727, '202309', '彰化縣', '其他', '2', '專業及技術服務類', 9559, 26529685), (258728, '202309', '彰化縣', '其他', '2', '其他', 12335, 37668268), (258743, '202309', '嘉義市', '其他', '2', '軍警人員一', 176, 428141), (258744, '202309', '嘉義市', '其他', '2', '軍警人員二', 72, 211519), (258745, '202309', '嘉義市', '其他', '2', '其他公共行政類', 1551, 4795566), (258746, '202309', '嘉義市', '其他', '2', '教育類', 2544, 7701479), (258747, '202309', '嘉義市', '其他', '2', '工商及服務類', 11527, 43076337), (258748, '202309', '嘉義市', '其他', '2', '專業及技術服務類', 6279, 23470504), (258749, '202309', '嘉義市', '其他', '2', '其他', 7627, 27115167), (258750, '202309', '嘉義縣', '其他', '2', '軍警人員一', 200, 316936), (258751, '202309', '嘉義縣', '其他', '2', '軍警人員二', 55, 76272), (258752, '202309', '嘉義縣', '其他', '2', '其他公共行政類', 1129, 1996375), (258753, '202309', '嘉義縣', '其他', '2', '教育類', 2226, 3467377), (258754, '202309', '嘉義縣', '其他', '2', '工商及服務類', 10810, 20703644), (258755, '202309', '嘉義縣', '其他', '2', '專業及技術服務類', 5817, 11291053), (258756, '202309', '嘉義縣', '其他', '2', '其他', 7276, 14566631), (258771, '202309', '花蓮縣', '其他', '2', '軍警人員一', 234, 521922), (258772, '202309', '花蓮縣', '其他', '2', '軍警人員二', 45, 144866), (258773, '202309', '花蓮縣', '其他', '2', '其他公共行政類', 1431, 4336346), (258774, '202309', '花蓮縣', '其他', '2', '教育類', 1636, 4504436), (258775, '202309', '花蓮縣', '其他', '2', '工商及服務類', 5432, 22011223), (258776, '202309', '花蓮縣', '其他', '2', '專業及技術服務類', 3507, 11825445), (258777, '202309', '花蓮縣', '其他', '2', '其他', 4975, 18034444), (258792, '202309', '金門縣', '其他', '2', '軍警人員一', 43, 32113), (258793, '202309', '金門縣', '其他', '2', '軍警人員二', 5, 11337), (258794, '202309', '金門縣', '其他', '2', '其他公共行政類', 274, 1289414), (258795, '202309', '金門縣', '其他', '2', '教育類', 217, 567001), (258796, '202309', '金門縣', '其他', '2', '工商及服務類', 725, 2032599), (258797, '202309', '金門縣', '其他', '2', '專業及技術服務類', 395, 986775), (258798, '202309', '金門縣', '其他', '2', '其他', 515, 1746693), (258799, '202309', '連江縣', '其他', '2', '軍警人員一', 12, 3541), (258800, '202309', '連江縣', '其他', '2', '軍警人員二', 0, 0), (258801, '202309', '連江縣', '其他', '2', '其他公共行政類', 26, 79680), (258802, '202309', '連江縣', '其他', '2', '教育類', 40, 38785), (258803, '202309', '連江縣', '其他', '2', '工商及服務類', 40, 21127), (258804, '202309', '連江縣', '其他', '2', '專業及技術服務類', 66, 48138), (258805, '202309', '連江縣', '其他', '2', '其他', 11, 69419), (271798, '202309', '基隆市', '其他', '1', '軍警人員一', 347, 543378), (271799, '202309', '基隆市', '其他', '1', '軍警人員二', 175, 312106), (271800, '202309', '基隆市', '其他', '1', '其他公共行政類', 1036, 2006729), (271801, '202309', '基隆市', '其他', '1', '教育類', 743, 1535160), (271802, '202309', '基隆市', '其他', '1', '工商及服務類', 7272, 19403995), (271803, '202309', '基隆市', '其他', '1', '專業及技術服務類', 3074, 8235154), (271804, '202309', '基隆市', '其他', '1', '其他', 3211, 6554908), (271805, '202309', '新竹市', '其他', '1', '軍警人員一', 659, 1234289), (271806, '202309', '新竹市', '其他', '1', '軍警人員二', 155, 595583), (271807, '202309', '新竹市', '其他', '1', '其他公共行政類', 1433, 4137625), (271808, '202309', '新竹市', '其他', '1', '教育類', 1912, 4372367), (271809, '202309', '新竹市', '其他', '1', '工商及服務類', 25321, 77248530), (271810, '202309', '新竹市', '其他', '1', '專業及技術服務類', 9427, 34072385), (271811, '202309', '新竹市', '其他', '1', '其他', 9533, 20687098), (271812, '202309', '新竹縣', '其他', '1', '軍警人員一', 930, 2204235), (271813, '202309', '新竹縣', '其他', '1', '軍警人員二', 225, 813577), (271814, '202309', '新竹縣', '其他', '1', '其他公共行政類', 2476, 5583785), (271815, '202309', '新竹縣', '其他', '1', '教育類', 2015, 4856964), (271816, '202309', '新竹縣', '其他', '1', '工商及服務類', 35518, 114156888), (271817, '202309', '新竹縣', '其他', '1', '專業及技術服務類', 13121, 45040423), (271818, '202309', '新竹縣', '其他', '1', '其他', 11462, 30390368), (271826, '202309', '彰化縣', '其他', '1', '軍警人員一', 602, 1652570), (271827, '202309', '彰化縣', '其他', '1', '軍警人員二', 308, 922641), (271828, '202309', '彰化縣', '其他', '1', '其他公共行政類', 1711, 5319590), (271829, '202309', '彰化縣', '其他', '1', '教育類', 1655, 3907935), (271830, '202309', '彰化縣', '其他', '1', '工商及服務類', 21276, 72271995), (271831, '202309', '彰化縣', '其他', '1', '專業及技術服務類', 5515, 18925135), (271832, '202309', '彰化縣', '其他', '1', '其他', 5260, 16107204), (271847, '202309', '嘉義市', '其他', '1', '軍警人員一', 549, 1699531), (271848, '202309', '嘉義市', '其他', '1', '軍警人員二', 243, 887716), (271849, '202309', '嘉義市', '其他', '1', '其他公共行政類', 1710, 6392062), (271850, '202309', '嘉義市', '其他', '1', '教育類', 1370, 3987224), (271851, '202309', '嘉義市', '其他', '1', '工商及服務類', 10894, 45288238), (271852, '202309', '嘉義市', '其他', '1', '專業及技術服務類', 3908, 14268942), (271853, '202309', '嘉義市', '其他', '1', '其他', 3439, 13298730), (271854, '202309', '嘉義縣', '其他', '1', '軍警人員一', 518, 761460), (271855, '202309', '嘉義縣', '其他', '1', '軍警人員二', 190, 456505), (271856, '202309', '嘉義縣', '其他', '1', '其他公共行政類', 1212, 2261175), (271857, '202309', '嘉義縣', '其他', '1', '教育類', 1037, 1952277), (271858, '202309', '嘉義縣', '其他', '1', '工商及服務類', 10180, 22600159), (271859, '202309', '嘉義縣', '其他', '1', '專業及技術服務類', 3713, 7633744), (271860, '202309', '嘉義縣', '其他', '1', '其他', 3450, 6531207), (271875, '202309', '花蓮縣', '其他', '1', '軍警人員一', 764, 1385288), (271876, '202309', '花蓮縣', '其他', '1', '軍警人員二', 214, 633215), (271877, '202309', '花蓮縣', '其他', '1', '其他公共行政類', 1571, 4827340), (271878, '202309', '花蓮縣', '其他', '1', '教育類', 636, 1704755), (271879, '202309', '花蓮縣', '其他', '1', '工商及服務類', 4249, 17576908), (271880, '202309', '花蓮縣', '其他', '1', '專業及技術服務類', 1809, 6413905), (271881, '202309', '花蓮縣', '其他', '1', '其他', 2194, 7786086), (271896, '202309', '金門縣', '其他', '1', '軍警人員一', 188, 377943), (271897, '202309', '金門縣', '其他', '1', '軍警人員二', 31, 132499), (271898, '202309', '金門縣', '其他', '1', '其他公共行政類', 294, 1120023), (271899, '202309', '金門縣', '其他', '1', '教育類', 164, 341349), (271900, '202309', '金門縣', '其他', '1', '工商及服務類', 830, 2460216), (271901, '202309', '金門縣', '其他', '1', '專業及技術服務類', 275, 1162733), (271902, '202309', '金門縣', '其他', '1', '其他', 464, 1248898), (271903, '202309', '連江縣', '其他', '1', '軍警人員一', 69, 50643), (271904, '202309', '連江縣', '其他', '1', '軍警人員二', 6, 649), (271905, '202309', '連江縣', '其他', '1', '其他公共行政類', 26, 48696), (271906, '202309', '連江縣', '其他', '1', '教育類', 11, 2458), (271907, '202309', '連江縣', '其他', '1', '工商及服務類', 65, 45023), (271908, '202309', '連江縣', '其他', '1', '專業及技術服務類', 38, 263295), (271909, '202309', '連江縣', '其他', '1', '其他', 30, 27864), (284902, '202309', '基隆市', '行', '2', '軍警人員一', 148, 206268), (284903, '202309', '基隆市', '行', '2', '軍警人員二', 70, 49929), (284904, '202309', '基隆市', '行', '2', '其他公共行政類', 1025, 1412259), (284905, '202309', '基隆市', '行', '2', '教育類', 1899, 2165082), (284906, '202309', '基隆市', '行', '2', '工商及服務類', 11182, 17137061), (284907, '202309', '基隆市', '行', '2', '專業及技術服務類', 5798, 9508020), (284908, '202309', '基隆市', '行', '2', '其他', 7085, 11285549), (284909, '202309', '新竹市', '行', '2', '軍警人員一', 640, 538314), (284910, '202309', '新竹市', '行', '2', '軍警人員二', 91, 84564), (284911, '202309', '新竹市', '行', '2', '其他公共行政類', 3447, 4039643), (284912, '202309', '新竹市', '行', '2', '教育類', 22615, 9522393), (284913, '202309', '新竹市', '行', '2', '工商及服務類', 38853, 54668301), (284914, '202309', '新竹市', '行', '2', '專業及技術服務類', 19011, 24763016), (284915, '202309', '新竹市', '行', '2', '其他', 26642, 32820802), (284916, '202309', '新竹縣', '行', '2', '軍警人員一', 1057, 801396), (284917, '202309', '新竹縣', '行', '2', '軍警人員二', 146, 169334), (284918, '202309', '新竹縣', '行', '2', '其他公共行政類', 5577, 5929572), (284919, '202309', '新竹縣', '行', '2', '教育類', 11084, 10872433), (284920, '202309', '新竹縣', '行', '2', '工商及服務類', 61569, 68560504), (284921, '202309', '新竹縣', '行', '2', '專業及技術服務類', 31285, 32031342), (284922, '202309', '新竹縣', '行', '2', '其他', 33800, 35348273), (284930, '202309', '彰化縣', '行', '2', '軍警人員一', 706, 859187), (284931, '202309', '彰化縣', '行', '2', '軍警人員二', 215, 242211), (284932, '202309', '彰化縣', '行', '2', '其他公共行政類', 4442, 5700630), (284933, '202309', '彰化縣', '行', '2', '教育類', 11393, 13209785), (284934, '202309', '彰化縣', '行', '2', '工商及服務類', 70151, 98718194), (284935, '202309', '彰化縣', '行', '2', '專業及技術服務類', 28273, 36129381), (284936, '202309', '彰化縣', '行', '2', '其他', 34757, 43307300), (284951, '202309', '嘉義市', '行', '2', '軍警人員一', 339, 374172), (284952, '202309', '嘉義市', '行', '2', '軍警人員二', 81, 87487), (284953, '202309', '嘉義市', '行', '2', '其他公共行政類', 2229, 3010918), (284954, '202309', '嘉義市', '行', '2', '教育類', 4051, 4485864), (284955, '202309', '嘉義市', '行', '2', '工商及服務類', 17724, 22811841), (284956, '202309', '嘉義市', '行', '2', '專業及技術服務類', 10045, 10936201), (284957, '202309', '嘉義市', '行', '2', '其他', 11891, 14450157), (284958, '202309', '嘉義縣', '行', '2', '軍警人員一', 470, 585850), (284959, '202309', '嘉義縣', '行', '2', '軍警人員二', 131, 149530), (284960, '202309', '嘉義縣', '行', '2', '其他公共行政類', 3348, 4025089), (284961, '202309', '嘉義縣', '行', '2', '教育類', 6082, 6123678), (284962, '202309', '嘉義縣', '行', '2', '工商及服務類', 24266, 28751639), (284963, '202309', '嘉義縣', '行', '2', '專業及技術服務類', 13480, 15017465), (284964, '202309', '嘉義縣', '行', '2', '其他', 17118, 20050257), (284979, '202309', '花蓮縣', '行', '2', '軍警人員一', 594, 750402), (284980, '202309', '花蓮縣', '行', '2', '軍警人員二', 144, 143884), (284981, '202309', '花蓮縣', '行', '2', '其他公共行政類', 3329, 4335943), (284982, '202309', '花蓮縣', '行', '2', '教育類', 4894, 6812826), (284983, '202309', '花蓮縣', '行', '2', '工商及服務類', 14049, 21735373), (284984, '202309', '花蓮縣', '行', '2', '專業及技術服務類', 8381, 17727278), (284985, '202309', '花蓮縣', '行', '2', '其他', 12465, 15144723), (285000, '202309', '金門縣', '行', '2', '軍警人員一', 210, 167784), (285001, '202309', '金門縣', '行', '2', '軍警人員二', 39, 31769), (285002, '202309', '金門縣', '行', '2', '其他公共行政類', 965, 940201), (285003, '202309', '金門縣', '行', '2', '教育類', 1059, 856508), (285004, '202309', '金門縣', '行', '2', '工商及服務類', 2649, 3550134), (285005, '202309', '金門縣', '行', '2', '專業及技術服務類', 1397, 1594229), (285006, '202309', '金門縣', '行', '2', '其他', 2387, 2760761), (285007, '202309', '連江縣', '行', '2', '軍警人員一', 38, 63433), (285008, '202309', '連江縣', '行', '2', '軍警人員二', 17, 8505), (285009, '202309', '連江縣', '行', '2', '其他公共行政類', 424, 313628), (285010, '202309', '連江縣', '行', '2', '教育類', 260, 195624), (285011, '202309', '連江縣', '行', '2', '工商及服務類', 762, 1142887), (285012, '202309', '連江縣', '行', '2', '專業及技術服務類', 630, 1035703), (285013, '202309', '連江縣', '行', '2', '其他', 690, 746408), (298006, '202309', '基隆市', '行', '1', '軍警人員一', 986, 1435378), (298007, '202309', '基隆市', '行', '1', '軍警人員二', 643, 877851), (298008, '202309', '基隆市', '行', '1', '其他公共行政類', 4312, 5462751), (298009, '202309', '基隆市', '行', '1', '教育類', 3027, 4221145), (298010, '202309', '基隆市', '行', '1', '工商及服務類', 34528, 55610670), (298011, '202309', '基隆市', '行', '1', '專業及技術服務類', 13101, 23047064), (298012, '202309', '基隆市', '行', '1', '其他', 13826, 16549251), (298013, '202309', '新竹市', '行', '1', '軍警人員一', 2573, 2901373), (298014, '202309', '新竹市', '行', '1', '軍警人員二', 732, 745064), (298015, '202309', '新竹市', '行', '1', '其他公共行政類', 5189, 6861496), (298016, '202309', '新竹市', '行', '1', '教育類', 13493, 7991388), (298017, '202309', '新竹市', '行', '1', '工商及服務類', 95064, 144346213), (298018, '202309', '新竹市', '行', '1', '專業及技術服務類', 35518, 55726100), (298019, '202309', '新竹市', '行', '1', '其他', 37899, 42909191), (298020, '202309', '新竹縣', '行', '1', '軍警人員一', 4196, 4376022), (298021, '202309', '新竹縣', '行', '1', '軍警人員二', 1003, 1063001), (298022, '202309', '新竹縣', '行', '1', '其他公共行政類', 8474, 8658196), (298023, '202309', '新竹縣', '行', '1', '教育類', 9263, 8504753), (298024, '202309', '新竹縣', '行', '1', '工商及服務類', 147135, 185631752), (298025, '202309', '新竹縣', '行', '1', '專業及技術服務類', 57015, 67917836), (298026, '202309', '新竹縣', '行', '1', '其他', 41387, 47391379), (298034, '202309', '彰化縣', '行', '1', '軍警人員一', 3494, 4320789), (298035, '202309', '彰化縣', '行', '1', '軍警人員二', 1687, 2190086), (298036, '202309', '彰化縣', '行', '1', '其他公共行政類', 11744, 15588565), (298037, '202309', '彰化縣', '行', '1', '教育類', 10062, 12382320), (298038, '202309', '彰化縣', '行', '1', '工商及服務類', 162887, 231465456), (298039, '202309', '彰化縣', '行', '1', '專業及技術服務類', 43427, 59638461), (298040, '202309', '彰化縣', '行', '1', '其他', 41047, 53194987), (298055, '202309', '嘉義市', '行', '1', '軍警人員一', 1608, 2249954), (298056, '202309', '嘉義市', '行', '1', '軍警人員二', 604, 1036353), (298057, '202309', '嘉義市', '行', '1', '其他公共行政類', 4967, 7115889), (298058, '202309', '嘉義市', '行', '1', '教育類', 3684, 5227214), (298059, '202309', '嘉義市', '行', '1', '工商及服務類', 35801, 50753534), (298060, '202309', '嘉義市', '行', '1', '專業及技術服務類', 13334, 17808536), (298061, '202309', '嘉義市', '行', '1', '其他', 10967, 14669768), (298062, '202309', '嘉義縣', '行', '1', '軍警人員一', 2399, 2509230), (298063, '202309', '嘉義縣', '行', '1', '軍警人員二', 872, 1179700), (298064, '202309', '嘉義縣', '行', '1', '其他公共行政類', 7665, 8471333), (298065, '202309', '嘉義縣', '行', '1', '教育類', 5429, 5553171), (298066, '202309', '嘉義縣', '行', '1', '工商及服務類', 55561, 70110619), (298067, '202309', '嘉義縣', '行', '1', '專業及技術服務類', 17985, 22459130), (298068, '202309', '嘉義縣', '行', '1', '其他', 17386, 19924693), (298083, '202309', '花蓮縣', '行', '1', '軍警人員一', 2756, 3560653), (298084, '202309', '花蓮縣', '行', '1', '軍警人員二', 1106, 1602295), (298085, '202309', '花蓮縣', '行', '1', '其他公共行政類', 6834, 10924199), (298086, '202309', '花蓮縣', '行', '1', '教育類', 3568, 5070455), (298087, '202309', '花蓮縣', '行', '1', '工商及服務類', 25184, 43608087), (298088, '202309', '花蓮縣', '行', '1', '專業及技術服務類', 10974, 22884300), (298089, '202309', '花蓮縣', '行', '1', '其他', 11017, 15337091), (298104, '202309', '金門縣', '行', '1', '軍警人員一', 859, 849491), (298105, '202309', '金門縣', '行', '1', '軍警人員二', 225, 310973), (298106, '202309', '金門縣', '行', '1', '其他公共行政類', 1968, 2132044), (298107, '202309', '金門縣', '行', '1', '教育類', 788, 766438), (298108, '202309', '金門縣', '行', '1', '工商及服務類', 5096, 6507213), (298109, '202309', '金門縣', '行', '1', '專業及技術服務類', 1768, 2146561), (298110, '202309', '金門縣', '行', '1', '其他', 2302, 2627382), (298111, '202309', '連江縣', '行', '1', '軍警人員一', 260, 194180), (298112, '202309', '連江縣', '行', '1', '軍警人員二', 58, 53911), (298113, '202309', '連江縣', '行', '1', '其他公共行政類', 691, 676364), (298114, '202309', '連江縣', '行', '1', '教育類', 170, 136376), (298115, '202309', '連江縣', '行', '1', '工商及服務類', 986, 1607870), (298116, '202309', '連江縣', '行', '1', '專業及技術服務類', 523, 737979), (298117, '202309', '連江縣', '行', '1', '其他', 498, 783626), (303025, '202309', '高雄市', '衣', '2', '軍警人員一', 857, 2130929), (303026, '202309', '高雄市', '衣', '2', '軍警人員二', 212, 546790), (303027, '202309', '高雄市', '衣', '2', '其他公共行政類', 4598, 10066336), (303028, '202309', '高雄市', '衣', '2', '教育類', 10866, 20989566), (303029, '202309', '高雄市', '衣', '2', '工商及服務類', 53023, 129417976), (303030, '202309', '高雄市', '衣', '2', '專業及技術服務類', 26294, 59812477), (303031, '202309', '高雄市', '衣', '2', '其他', 33066, 71751373), (307939, '202309', '高雄市', '衣', '1', '軍警人員一', 1446, 2804582), (307940, '202309', '高雄市', '衣', '1', '軍警人員二', 420, 779809), (307941, '202309', '高雄市', '衣', '1', '其他公共行政類', 2752, 4936759), (307942, '202309', '高雄市', '衣', '1', '教育類', 2728, 4748077), (307943, '202309', '高雄市', '衣', '1', '工商及服務類', 23473, 48408529), (307944, '202309', '高雄市', '衣', '1', '專業及技術服務類', 8434, 16040223), (307945, '202309', '高雄市', '衣', '1', '其他', 7630, 14231017), (312853, '202309', '高雄市', '百貨', '2', '軍警人員一', 9251, 18013933), (312854, '202309', '高雄市', '百貨', '2', '軍警人員二', 3421, 7608648), (312855, '202309', '高雄市', '百貨', '2', '其他公共行政類', 62435, 100842382), (312856, '202309', '高雄市', '百貨', '2', '教育類', 127861, 202804122), (312857, '202309', '高雄市', '百貨', '2', '工商及服務類', 586271, 1279774220), (312858, '202309', '高雄市', '百貨', '2', '專業及技術服務類', 291196, 619602279), (312859, '202309', '高雄市', '百貨', '2', '其他', 506329, 919794676), (317767, '202309', '高雄市', '百貨', '1', '軍警人員一', 21413, 37200114), (317768, '202309', '高雄市', '百貨', '1', '軍警人員二', 11868, 25545372), (317769, '202309', '高雄市', '百貨', '1', '其他公共行政類', 60941, 81712608), (317770, '202309', '高雄市', '百貨', '1', '教育類', 54531, 83980661), (317771, '202309', '高雄市', '百貨', '1', '工商及服務類', 461003, 907988756), (317772, '202309', '高雄市', '百貨', '1', '專業及技術服務類', 169413, 345544310), (317773, '202309', '高雄市', '百貨', '1', '其他', 199410, 297830796), (322681, '202309', '高雄市', '文教康樂', '2', '軍警人員一', 1701, 6221156), (322682, '202309', '高雄市', '文教康樂', '2', '軍警人員二', 476, 2911941), (322683, '202309', '高雄市', '文教康樂', '2', '其他公共行政類', 9882, 44973338), (322684, '202309', '高雄市', '文教康樂', '2', '教育類', 22315, 82897331), (322685, '202309', '高雄市', '文教康樂', '2', '工商及服務類', 90001, 480453259), (322686, '202309', '高雄市', '文教康樂', '2', '專業及技術服務類', 45376, 214081957), (322687, '202309', '高雄市', '文教康樂', '2', '其他', 52416, 259745596), (327595, '202309', '高雄市', '文教康樂', '1', '軍警人員一', 4977, 18535908), (327596, '202309', '高雄市', '文教康樂', '1', '軍警人員二', 1619, 6569061), (327597, '202309', '高雄市', '文教康樂', '1', '其他公共行政類', 9685, 44997773), (327598, '202309', '高雄市', '文教康樂', '1', '教育類', 10819, 39260174), (327599, '202309', '高雄市', '文教康樂', '1', '工商及服務類', 81065, 430504918), (327600, '202309', '高雄市', '文教康樂', '1', '專業及技術服務類', 30593, 148018865), (327601, '202309', '高雄市', '文教康樂', '1', '其他', 25748, 123068070), (332509, '202309', '高雄市', '食', '2', '軍警人員一', 6418, 7075361), (332510, '202309', '高雄市', '食', '2', '軍警人員二', 1448, 1519111), (332511, '202309', '高雄市', '食', '2', '其他公共行政類', 32728, 32065662), (332512, '202309', '高雄市', '食', '2', '教育類', 70624, 63265007), (332513, '202309', '高雄市', '食', '2', '工商及服務類', 314934, 419105617), (332514, '202309', '高雄市', '食', '2', '專業及技術服務類', 152646, 177815932), (332515, '202309', '高雄市', '食', '2', '其他', 225949, 245466650), (337423, '202309', '高雄市', '食', '1', '軍警人員一', 20793, 20666992), (337424, '202309', '高雄市', '食', '1', '軍警人員二', 5996, 7310427), (337425, '202309', '高雄市', '食', '1', '其他公共行政類', 44786, 39861523), (337426, '202309', '高雄市', '食', '1', '教育類', 46875, 36486982), (337427, '202309', '高雄市', '食', '1', '工商及服務類', 356504, 470895479), (337428, '202309', '高雄市', '食', '1', '專業及技術服務類', 140187, 163836833), (337429, '202309', '高雄市', '食', '1', '其他', 129156, 124808369), (342337, '202309', '高雄市', '住', '2', '軍警人員一', 1253, 5896981), (342338, '202309', '高雄市', '住', '2', '軍警人員二', 273, 2419494), (342339, '202309', '高雄市', '住', '2', '其他公共行政類', 6634, 27597586), (342340, '202309', '高雄市', '住', '2', '教育類', 14346, 47499407), (342341, '202309', '高雄市', '住', '2', '工商及服務類', 63352, 312242613), (342342, '202309', '高雄市', '住', '2', '專業及技術服務類', 31604, 145853475), (342343, '202309', '高雄市', '住', '2', '其他', 42440, 169831883), (347251, '202309', '高雄市', '住', '1', '軍警人員一', 4320, 17270081), (347252, '202309', '高雄市', '住', '1', '軍警人員二', 1221, 5160587), (347253, '202309', '高雄市', '住', '1', '其他公共行政類', 9817, 38116040), (347254, '202309', '高雄市', '住', '1', '教育類', 8155, 27379815), (347255, '202309', '高雄市', '住', '1', '工商及服務類', 76487, 381152616), (347256, '202309', '高雄市', '住', '1', '專業及技術服務類', 29261, 138076588), (347257, '202309', '高雄市', '住', '1', '其他', 25206, 100580904), (352165, '202309', '高雄市', '其他', '2', '軍警人員一', 2359, 6538048), (352166, '202309', '高雄市', '其他', '2', '軍警人員二', 641, 1557030), (352167, '202309', '高雄市', '其他', '2', '其他公共行政類', 11107, 47085136), (352168, '202309', '高雄市', '其他', '2', '教育類', 36682, 140134795), (352169, '202309', '高雄市', '其他', '2', '工商及服務類', 116585, 412854115), (352170, '202309', '高雄市', '其他', '2', '專業及技術服務類', 60962, 188222582), (352171, '202309', '高雄市', '其他', '2', '其他', 65237, 237087340), (357079, '202309', '高雄市', '其他', '1', '軍警人員一', 8006, 19233563), (357080, '202309', '高雄市', '其他', '1', '軍警人員二', 2549, 14113603), (357081, '202309', '高雄市', '其他', '1', '其他公共行政類', 12258, 40056099), (357082, '202309', '高雄市', '其他', '1', '教育類', 17598, 106648634), (357083, '202309', '高雄市', '其他', '1', '工商及服務類', 115242, 357230162), (357084, '202309', '高雄市', '其他', '1', '專業及技術服務類', 42144, 132973477), (357085, '202309', '高雄市', '其他', '1', '其他', 32852, 97995551), (361993, '202309', '高雄市', '行', '2', '軍警人員一', 5693, 7990247), (361994, '202309', '高雄市', '行', '2', '軍警人員二', 1231, 1517599), (361995, '202309', '高雄市', '行', '2', '其他公共行政類', 17447, 27867345), (361996, '202309', '高雄市', '行', '2', '教育類', 47777, 72684850), (361997, '202309', '高雄市', '行', '2', '工商及服務類', 210540, 329403801), (361998, '202309', '高雄市', '行', '2', '專業及技術服務類', 108270, 181011513), (361999, '202309', '高雄市', '行', '2', '其他', 127311, 189256999), (366907, '202309', '高雄市', '行', '1', '軍警人員一', 30175, 46699541), (366908, '202309', '高雄市', '行', '1', '軍警人員二', 8457, 11971378), (366909, '202309', '高雄市', '行', '1', '其他公共行政類', 41487, 56270654), (366910, '202309', '高雄市', '行', '1', '教育類', 40425, 57868124), (366911, '202309', '高雄市', '行', '1', '工商及服務類', 440209, 720013500), (366912, '202309', '高雄市', '行', '1', '專業及技術服務類', 158687, 294291678), (366913, '202309', '高雄市', '行', '1', '其他', 128529, 172956677), (367726, '202309', '苗栗縣', '衣', '2', '軍警人員一', 68, 134347), (367727, '202309', '苗栗縣', '衣', '2', '軍警人員二', 16, 38836), (367728, '202309', '苗栗縣', '衣', '2', '其他公共行政類', 942, 2335578), (367729, '202309', '苗栗縣', '衣', '2', '教育類', 1223, 2575379), (367730, '202309', '苗栗縣', '衣', '2', '工商及服務類', 6430, 19428327), (367731, '202309', '苗栗縣', '衣', '2', '專業及技術服務類', 2777, 6154730), (367732, '202309', '苗栗縣', '衣', '2', '其他', 3738, 11113276), (368545, '202309', '苗栗縣', '衣', '1', '軍警人員一', 80, 328284), (368546, '202309', '苗栗縣', '衣', '1', '軍警人員二', 43, 85224), (368547, '202309', '苗栗縣', '衣', '1', '其他公共行政類', 456, 701437), (368548, '202309', '苗栗縣', '衣', '1', '教育類', 272, 424128), (368549, '202309', '苗栗縣', '衣', '1', '工商及服務類', 3415, 14329967), (368550, '202309', '苗栗縣', '衣', '1', '專業及技術服務類', 1185, 3706994), (368551, '202309', '苗栗縣', '衣', '1', '其他', 1073, 2437098), (369364, '202309', '苗栗縣', '百貨', '2', '軍警人員一', 408, 501908), (369365, '202309', '苗栗縣', '百貨', '2', '軍警人員二', 152, 101133), (369366, '202309', '苗栗縣', '百貨', '2', '其他公共行政類', 5916, 5677722), (369367, '202309', '苗栗縣', '百貨', '2', '教育類', 8156, 7793167), (369368, '202309', '苗栗縣', '百貨', '2', '工商及服務類', 44014, 51265442), (369369, '202309', '苗栗縣', '百貨', '2', '專業及技術服務類', 22134, 24358983), (369370, '202309', '苗栗縣', '百貨', '2', '其他', 30261, 30116983), (370183, '202309', '苗栗縣', '百貨', '1', '軍警人員一', 929, 1062618), (370184, '202309', '苗栗縣', '百貨', '1', '軍警人員二', 473, 454760), (370185, '202309', '苗栗縣', '百貨', '1', '其他公共行政類', 6011, 4988216), (370186, '202309', '苗栗縣', '百貨', '1', '教育類', 4140, 2813511), (370187, '202309', '苗栗縣', '百貨', '1', '工商及服務類', 43354, 41197917), (370188, '202309', '苗栗縣', '百貨', '1', '專業及技術服務類', 15957, 13173208), (370189, '202309', '苗栗縣', '百貨', '1', '其他', 17686, 14145722), (371002, '202309', '苗栗縣', '文教康樂', '2', '軍警人員一', 122, 519902), (371003, '202309', '苗栗縣', '文教康樂', '2', '軍警人員二', 32, 122040), (371004, '202309', '苗栗縣', '文教康樂', '2', '其他公共行政類', 1283, 5448927), (371005, '202309', '苗栗縣', '文教康樂', '2', '教育類', 1930, 5773054), (371006, '202309', '苗栗縣', '文教康樂', '2', '工商及服務類', 10231, 40077441), (371007, '202309', '苗栗縣', '文教康樂', '2', '專業及技術服務類', 4970, 17700382), (371008, '202309', '苗栗縣', '文教康樂', '2', '其他', 5718, 20496992), (371821, '202309', '苗栗縣', '文教康樂', '1', '軍警人員一', 260, 774677), (371822, '202309', '苗栗縣', '文教康樂', '1', '軍警人員二', 128, 406809), (371823, '202309', '苗栗縣', '文教康樂', '1', '其他公共行政類', 1049, 4100683), (371824, '202309', '苗栗縣', '文教康樂', '1', '教育類', 784, 2497513), (371825, '202309', '苗栗縣', '文教康樂', '1', '工商及服務類', 10614, 39024333), (371826, '202309', '苗栗縣', '文教康樂', '1', '專業及技術服務類', 3917, 13583485), (371827, '202309', '苗栗縣', '文教康樂', '1', '其他', 2812, 11207737), (372640, '202309', '苗栗縣', '食', '2', '軍警人員一', 566, 687175), (372641, '202309', '苗栗縣', '食', '2', '軍警人員二', 141, 125647), (372642, '202309', '苗栗縣', '食', '2', '其他公共行政類', 5210, 4594174), (372643, '202309', '苗栗縣', '食', '2', '教育類', 7710, 5323240), (372644, '202309', '苗栗縣', '食', '2', '工商及服務類', 39923, 37221384), (372645, '202309', '苗栗縣', '食', '2', '專業及技術服務類', 19416, 16410176), (372646, '202309', '苗栗縣', '食', '2', '其他', 24426, 20791583), (373459, '202309', '苗栗縣', '食', '1', '軍警人員一', 1596, 1200422), (373460, '202309', '苗栗縣', '食', '1', '軍警人員二', 655, 555702), (373461, '202309', '苗栗縣', '食', '1', '其他公共行政類', 6640, 4810004), (373462, '202309', '苗栗縣', '食', '1', '教育類', 5567, 2661038), (373463, '202309', '苗栗縣', '食', '1', '工商及服務類', 59798, 43040598), (373464, '202309', '苗栗縣', '食', '1', '專業及技術服務類', 23994, 14010771), (373465, '202309', '苗栗縣', '食', '1', '其他', 18496, 11054846), (374278, '202309', '苗栗縣', '住', '2', '軍警人員一', 110, 573175), (374279, '202309', '苗栗縣', '住', '2', '軍警人員二', 24, 47365), (374280, '202309', '苗栗縣', '住', '2', '其他公共行政類', 1306, 5681374), (374281, '202309', '苗栗縣', '住', '2', '教育類', 1888, 6005337), (374282, '202309', '苗栗縣', '住', '2', '工商及服務類', 9241, 44154467), (374283, '202309', '苗栗縣', '住', '2', '專業及技術服務類', 4268, 20601611), (374284, '202309', '苗栗縣', '住', '2', '其他', 5847, 21807878), (375097, '202309', '苗栗縣', '住', '1', '軍警人員一', 276, 922022), (375098, '202309', '苗栗縣', '住', '1', '軍警人員二', 110, 570102), (375099, '202309', '苗栗縣', '住', '1', '其他公共行政類', 1692, 6029181), (375100, '202309', '苗栗縣', '住', '1', '教育類', 1114, 4623319), (375101, '202309', '苗栗縣', '住', '1', '工商及服務類', 11564, 50734092), (375102, '202309', '苗栗縣', '住', '1', '專業及技術服務類', 4403, 18168158), (375103, '202309', '苗栗縣', '住', '1', '其他', 3805, 13397229), (375916, '202309', '苗栗縣', '其他', '2', '軍警人員一', 113, 141457), (375917, '202309', '苗栗縣', '其他', '2', '軍警人員二', 48, 86093), (375918, '202309', '苗栗縣', '其他', '2', '其他公共行政類', 1011, 2912775), (375919, '202309', '苗栗縣', '其他', '2', '教育類', 1565, 3487572), (375920, '202309', '苗栗縣', '其他', '2', '工商及服務類', 8864, 26968503), (375921, '202309', '苗栗縣', '其他', '2', '專業及技術服務類', 4011, 11845859), (375922, '202309', '苗栗縣', '其他', '2', '其他', 4759, 13797757), (376735, '202309', '苗栗縣', '其他', '1', '軍警人員一', 322, 959113), (376736, '202309', '苗栗縣', '其他', '1', '軍警人員二', 151, 324724), (376737, '202309', '苗栗縣', '其他', '1', '其他公共行政類', 925, 2759123), (376738, '202309', '苗栗縣', '其他', '1', '教育類', 589, 1010240), (376739, '202309', '苗栗縣', '其他', '1', '工商及服務類', 9246, 28134946), (376740, '202309', '苗栗縣', '其他', '1', '專業及技術服務類', 2690, 9934928), (376741, '202309', '苗栗縣', '其他', '1', '其他', 2954, 7753814), (377554, '202309', '苗栗縣', '行', '2', '軍警人員一', 403, 434385), (377555, '202309', '苗栗縣', '行', '2', '軍警人員二', 89, 81735), (377556, '202309', '苗栗縣', '行', '2', '其他公共行政類', 3333, 4097811), (377557, '202309', '苗栗縣', '行', '2', '教育類', 5210, 5525950), (377558, '202309', '苗栗縣', '行', '2', '工商及服務類', 30106, 41689310), (377559, '202309', '苗栗縣', '行', '2', '專業及技術服務類', 13655, 18418931), (377560, '202309', '苗栗縣', '行', '2', '其他', 16253, 19717642), (378373, '202309', '苗栗縣', '行', '1', '軍警人員一', 2097, 2405776), (378374, '202309', '苗栗縣', '行', '1', '軍警人員二', 778, 891071), (378375, '202309', '苗栗縣', '行', '1', '其他公共行政類', 6262, 8070902), (378376, '202309', '苗栗縣', '行', '1', '教育類', 4434, 4715175), (378377, '202309', '苗栗縣', '行', '1', '工商及服務類', 72495, 102429772), (378378, '202309', '苗栗縣', '行', '1', '專業及技術服務類', 25287, 35749306), (378379, '202309', '苗栗縣', '行', '1', '其他', 20422, 25476939), (379192, '202309', '南投縣', '衣', '2', '軍警人員一', 69, 137069), (379193, '202309', '南投縣', '衣', '2', '軍警人員二', 23, 64678), (379194, '202309', '南投縣', '衣', '2', '其他公共行政類', 946, 2079082), (379195, '202309', '南投縣', '衣', '2', '教育類', 1442, 2611744), (379196, '202309', '南投縣', '衣', '2', '工商及服務類', 5611, 11530002), (379197, '202309', '南投縣', '衣', '2', '專業及技術服務類', 2461, 4414963), (379198, '202309', '南投縣', '衣', '2', '其他', 3731, 7180636), (380011, '202309', '南投縣', '衣', '1', '軍警人員一', 80, 139854), (380012, '202309', '南投縣', '衣', '1', '軍警人員二', 54, 121403), (380013, '202309', '南投縣', '衣', '1', '其他公共行政類', 478, 841907), (380014, '202309', '南投縣', '衣', '1', '教育類', 359, 528801), (380015, '202309', '南投縣', '衣', '1', '工商及服務類', 2465, 4146347), (380016, '202309', '南投縣', '衣', '1', '專業及技術服務類', 883, 1263355), (380017, '202309', '南投縣', '衣', '1', '其他', 820, 1246462), (380830, '202309', '南投縣', '百貨', '2', '軍警人員一', 332, 300655), (380831, '202309', '南投縣', '百貨', '2', '軍警人員二', 128, 143394), (380832, '202309', '南投縣', '百貨', '2', '其他公共行政類', 5135, 4234067), (380833, '202309', '南投縣', '百貨', '2', '教育類', 6981, 5033898), (380834, '202309', '南投縣', '百貨', '2', '工商及服務類', 26372, 22960664), (380835, '202309', '南投縣', '百貨', '2', '專業及技術服務類', 11745, 9600604), (380836, '202309', '南投縣', '百貨', '2', '其他', 21179, 17431309), (381649, '202309', '南投縣', '百貨', '1', '軍警人員一', 780, 700240), (381650, '202309', '南投縣', '百貨', '1', '軍警人員二', 534, 488287), (381651, '202309', '南投縣', '百貨', '1', '其他公共行政類', 5687, 3801697), (381652, '202309', '南投縣', '百貨', '1', '教育類', 3891, 2109373), (381653, '202309', '南投縣', '百貨', '1', '工商及服務類', 24062, 18879139), (381654, '202309', '南投縣', '百貨', '1', '專業及技術服務類', 8556, 6455698), (381655, '202309', '南投縣', '百貨', '1', '其他', 11358, 7815680), (382468, '202309', '南投縣', '文教康樂', '2', '軍警人員一', 173, 324571), (382469, '202309', '南投縣', '文教康樂', '2', '軍警人員二', 37, 98852), (382470, '202309', '南投縣', '文教康樂', '2', '其他公共行政類', 1415, 3714078), (382471, '202309', '南投縣', '文教康樂', '2', '教育類', 2207, 5749107), (382472, '202309', '南投縣', '文教康樂', '2', '工商及服務類', 9287, 26057392), (382473, '202309', '南投縣', '文教康樂', '2', '專業及技術服務類', 4095, 11821267), (382474, '202309', '南投縣', '文教康樂', '2', '其他', 5500, 13853955), (383287, '202309', '南投縣', '文教康樂', '1', '軍警人員一', 376, 798817), (383288, '202309', '南投縣', '文教康樂', '1', '軍警人員二', 132, 362853), (383289, '202309', '南投縣', '文教康樂', '1', '其他公共行政類', 1192, 2146226), (383290, '202309', '南投縣', '文教康樂', '1', '教育類', 1053, 3552589), (383291, '202309', '南投縣', '文教康樂', '1', '工商及服務類', 11178, 26048832), (383292, '202309', '南投縣', '文教康樂', '1', '專業及技術服務類', 3833, 9693017), (383293, '202309', '南投縣', '文教康樂', '1', '其他', 3339, 8987320), (384106, '202309', '南投縣', '食', '2', '軍警人員一', 394, 356411), (384107, '202309', '南投縣', '食', '2', '軍警人員二', 116, 113465), (384108, '202309', '南投縣', '食', '2', '其他公共行政類', 4206, 4101455), (384109, '202309', '南投縣', '食', '2', '教育類', 6044, 5492437), (384110, '202309', '南投縣', '食', '2', '工商及服務類', 24870, 29137466), (384111, '202309', '南投縣', '食', '2', '專業及技術服務類', 11558, 12376778), (384112, '202309', '南投縣', '食', '2', '其他', 16617, 16211194), (384925, '202309', '南投縣', '食', '1', '軍警人員一', 1052, 761463), (384926, '202309', '南投縣', '食', '1', '軍警人員二', 617, 494204), (384927, '202309', '南投縣', '食', '1', '其他公共行政類', 5376, 4557883), (384928, '202309', '南投縣', '食', '1', '教育類', 4046, 3155850), (384929, '202309', '南投縣', '食', '1', '工商及服務類', 30382, 29764237), (384930, '202309', '南投縣', '食', '1', '專業及技術服務類', 11615, 9336381), (384931, '202309', '南投縣', '食', '1', '其他', 10530, 7969475), (385744, '202309', '南投縣', '住', '2', '軍警人員一', 146, 803154), (385745, '202309', '南投縣', '住', '2', '軍警人員二', 58, 182588), (385746, '202309', '南投縣', '住', '2', '其他公共行政類', 1780, 7925376), (385747, '202309', '南投縣', '住', '2', '教育類', 2058, 8401482), (385748, '202309', '南投縣', '住', '2', '工商及服務類', 10457, 69559501), (385749, '202309', '南投縣', '住', '2', '專業及技術服務類', 4678, 31992120), (385750, '202309', '南投縣', '住', '2', '其他', 6661, 35830584), (386563, '202309', '南投縣', '住', '1', '軍警人員一', 401, 2178675), (386564, '202309', '南投縣', '住', '1', '軍警人員二', 204, 1114438), (386565, '202309', '南投縣', '住', '1', '其他公共行政類', 2072, 8175478), (386566, '202309', '南投縣', '住', '1', '教育類', 1219, 5848154), (386567, '202309', '南投縣', '住', '1', '工商及服務類', 11493, 71972853), (386568, '202309', '南投縣', '住', '1', '專業及技術服務類', 4526, 27853696), (386569, '202309', '南投縣', '住', '1', '其他', 4123, 20469471), (387382, '202309', '南投縣', '其他', '2', '軍警人員一', 112, 305832), (387383, '202309', '南投縣', '其他', '2', '軍警人員二', 40, 95411), (387384, '202309', '南投縣', '其他', '2', '其他公共行政類', 953, 3510872), (387385, '202309', '南投縣', '其他', '2', '教育類', 1532, 4842911), (387386, '202309', '南投縣', '其他', '2', '工商及服務類', 7608, 33887053), (387387, '202309', '南投縣', '其他', '2', '專業及技術服務類', 3708, 14480831), (387388, '202309', '南投縣', '其他', '2', '其他', 4296, 15147118), (388201, '202309', '南投縣', '其他', '1', '軍警人員一', 358, 711256), (388202, '202309', '南投縣', '其他', '1', '軍警人員二', 178, 694983), (388203, '202309', '南投縣', '其他', '1', '其他公共行政類', 847, 3641286), (388204, '202309', '南投縣', '其他', '1', '教育類', 695, 2041316), (388205, '202309', '南投縣', '其他', '1', '工商及服務類', 6225, 24496828), (388206, '202309', '南投縣', '其他', '1', '專業及技術服務類', 2224, 8339914), (388207, '202309', '南投縣', '其他', '1', '其他', 1919, 7755308), (389020, '202309', '南投縣', '行', '2', '軍警人員一', 413, 462828), (389021, '202309', '南投縣', '行', '2', '軍警人員二', 146, 158784), (389022, '202309', '南投縣', '行', '2', '其他公共行政類', 3144, 4296540), (389023, '202309', '南投縣', '行', '2', '教育類', 5932, 7463277), (389024, '202309', '南投縣', '行', '2', '工商及服務類', 24153, 32816689), (389025, '202309', '南投縣', '行', '2', '專業及技術服務類', 11876, 14312627), (389026, '202309', '南投縣', '行', '2', '其他', 15838, 20278149), (389839, '202309', '南投縣', '行', '1', '軍警人員一', 2324, 2680914), (389840, '202309', '南投縣', '行', '1', '軍警人員二', 1333, 1602020), (389841, '202309', '南投縣', '行', '1', '其他公共行政類', 7504, 9365059), (389842, '202309', '南投縣', '行', '1', '教育類', 5629, 6777894), (389843, '202309', '南投縣', '行', '1', '工商及服務類', 54486, 78031699), (389844, '202309', '南投縣', '行', '1', '專業及技術服務類', 19450, 25189341), (389845, '202309', '南投縣', '行', '1', '其他', 17193, 22052862), (390658, '202309', '新北市', '衣', '2', '軍警人員一', 1790, 3793815), (390659, '202309', '新北市', '衣', '2', '軍警人員二', 342, 760790), (390660, '202309', '新北市', '衣', '2', '其他公共行政類', 11484, 23573409), (390661, '202309', '新北市', '衣', '2', '教育類', 20389, 37506631), (390662, '202309', '新北市', '衣', '2', '工商及服務類', 106518, 231774327), (390663, '202309', '新北市', '衣', '2', '專業及技術服務類', 52636, 109439262), (390664, '202309', '新北市', '衣', '2', '其他', 64542, 132845561), (391477, '202309', '新北市', '衣', '1', '軍警人員一', 1199, 2390735), (391478, '202309', '新北市', '衣', '1', '軍警人員二', 478, 1045750), (391479, '202309', '新北市', '衣', '1', '其他公共行政類', 4919, 8461464), (391480, '202309', '新北市', '衣', '1', '教育類', 4400, 7047701), (391481, '202309', '新北市', '衣', '1', '工商及服務類', 44195, 92083387), (391482, '202309', '新北市', '衣', '1', '專業及技術服務類', 18196, 35921718), (391483, '202309', '新北市', '衣', '1', '其他', 15766, 29181823), (392296, '202309', '新北市', '百貨', '2', '軍警人員一', 12759, 13560849), (392297, '202309', '新北市', '百貨', '2', '軍警人員二', 2682, 5168367), (392298, '202309', '新北市', '百貨', '2', '其他公共行政類', 99201, 107468079), (392299, '202309', '新北市', '百貨', '2', '教育類', 159533, 179373531), (392300, '202309', '新北市', '百貨', '2', '工商及服務類', 894690, 1236270883), (392301, '202309', '新北市', '百貨', '2', '專業及技術服務類', 485562, 613476213), (392302, '202309', '新北市', '百貨', '2', '其他', 772629, 1051326015), (393115, '202309', '新北市', '百貨', '1', '軍警人員一', 17099, 20126540), (393116, '202309', '新北市', '百貨', '1', '軍警人員二', 10751, 21202729), (393117, '202309', '新北市', '百貨', '1', '其他公共行政類', 93760, 99767488), (393118, '202309', '新北市', '百貨', '1', '教育類', 81699, 86152970), (393119, '202309', '新北市', '百貨', '1', '工商及服務類', 827645, 1269905480), (393120, '202309', '新北市', '百貨', '1', '專業及技術服務類', 395035, 520120771), (393121, '202309', '新北市', '百貨', '1', '其他', 428893, 820564006), (393934, '202309', '新北市', '文教康樂', '2', '軍警人員一', 2149, 6642131), (393935, '202309', '新北市', '文教康樂', '2', '軍警人員二', 362, 1415390), (393936, '202309', '新北市', '文教康樂', '2', '其他公共行政類', 14359, 46526786), (393937, '202309', '新北市', '文教康樂', '2', '教育類', 27115, 63671216), (393938, '202309', '新北市', '文教康樂', '2', '工商及服務類', 140634, 477158599), (393939, '202309', '新北市', '文教康樂', '2', '專業及技術服務類', 72640, 221948722), (393940, '202309', '新北市', '文教康樂', '2', '其他', 86601, 263247673), (394753, '202309', '新北市', '文教康樂', '1', '軍警人員一', 4494, 9189931), (394754, '202309', '新北市', '文教康樂', '1', '軍警人員二', 1540, 3616556), (394755, '202309', '新北市', '文教康樂', '1', '其他公共行政類', 12981, 30741400), (394756, '202309', '新北市', '文教康樂', '1', '教育類', 13594, 29259647), (394757, '202309', '新北市', '文教康樂', '1', '工商及服務類', 137677, 426816573), (394758, '202309', '新北市', '文教康樂', '1', '專業及技術服務類', 60987, 176785622), (394759, '202309', '新北市', '文教康樂', '1', '其他', 50579, 129958962), (395572, '202309', '新北市', '食', '2', '軍警人員一', 74018, 29395845), (395573, '202309', '新北市', '食', '2', '軍警人員二', 7182, 3526063), (395574, '202309', '新北市', '食', '2', '其他公共行政類', 236022, 112471490), (395575, '202309', '新北市', '食', '2', '教育類', 751562, 267350752), (395576, '202309', '新北市', '食', '2', '工商及服務類', 3054768, 1453533606), (395577, '202309', '新北市', '食', '2', '專業及技術服務類', 1885621, 810610731), (395578, '202309', '新北市', '食', '2', '其他', 2025471, 873468136), (396391, '202309', '新北市', '食', '1', '軍警人員一', 99208, 39323684), (396392, '202309', '新北市', '食', '1', '軍警人員二', 24519, 11705654), (396393, '202309', '新北市', '食', '1', '其他公共行政類', 192548, 90009568), (396394, '202309', '新北市', '食', '1', '教育類', 319662, 116738026), (396395, '202309', '新北市', '食', '1', '工商及服務類', 2705829, 1311715916), (396396, '202309', '新北市', '食', '1', '專業及技術服務類', 1379129, 608650527), (396397, '202309', '新北市', '食', '1', '其他', 1175035, 481619962), (397210, '202309', '新北市', '住', '2', '軍警人員一', 1552, 5508912), (397211, '202309', '新北市', '住', '2', '軍警人員二', 257, 1512797), (397212, '202309', '新北市', '住', '2', '其他公共行政類', 10041, 41469767), (397213, '202309', '新北市', '住', '2', '教育類', 19072, 55558752), (397214, '202309', '新北市', '住', '2', '工商及服務類', 100329, 424037380), (397215, '202309', '新北市', '住', '2', '專業及技術服務類', 51662, 206841833), (397216, '202309', '新北市', '住', '2', '其他', 67585, 236788282), (398029, '202309', '新北市', '住', '1', '軍警人員一', 3038, 11170521), (398030, '202309', '新北市', '住', '1', '軍警人員二', 1033, 5094354), (398031, '202309', '新北市', '住', '1', '其他公共行政類', 12844, 50717009), (398032, '202309', '新北市', '住', '1', '教育類', 10621, 34451882), (398033, '202309', '新北市', '住', '1', '工商及服務類', 112088, 510122373), (398034, '202309', '新北市', '住', '1', '專業及技術服務類', 49906, 214238891), (398035, '202309', '新北市', '住', '1', '其他', 41839, 161148351), (398848, '202309', '新北市', '其他', '2', '軍警人員一', 3136, 6994130), (398849, '202309', '新北市', '其他', '2', '軍警人員二', 738, 1835608), (398850, '202309', '新北市', '其他', '2', '其他公共行政類', 22035, 47493833), (398851, '202309', '新北市', '其他', '2', '教育類', 36008, 72626104), (398852, '202309', '新北市', '其他', '2', '工商及服務類', 268958, 692058828), (398853, '202309', '新北市', '其他', '2', '專業及技術服務類', 127277, 295731053), (398854, '202309', '新北市', '其他', '2', '其他', 146739, 352052307), (399667, '202309', '新北市', '其他', '1', '軍警人員一', 6625, 16046263), (399668, '202309', '新北市', '其他', '1', '軍警人員二', 2308, 6097332), (399669, '202309', '新北市', '其他', '1', '其他公共行政類', 21243, 44661911), (399670, '202309', '新北市', '其他', '1', '教育類', 17427, 32272896), (399671, '202309', '新北市', '其他', '1', '工商及服務類', 263049, 683130837), (399672, '202309', '新北市', '其他', '1', '專業及技術服務類', 113257, 268241768), (399673, '202309', '新北市', '其他', '1', '其他', 96294, 207174822), (400486, '202309', '新北市', '行', '2', '軍警人員一', 6252, 4606576), (400487, '202309', '新北市', '行', '2', '軍警人員二', 1175, 921457), (400488, '202309', '新北市', '行', '2', '其他公共行政類', 26443, 24771113), (400489, '202309', '新北市', '行', '2', '教育類', 57060, 58123050), (400490, '202309', '新北市', '行', '2', '工商及服務類', 365996, 373364163), (400491, '202309', '新北市', '行', '2', '專業及技術服務類', 174730, 183852106), (400492, '202309', '新北市', '行', '2', '其他', 206277, 206180820), (401305, '202309', '新北市', '行', '1', '軍警人員一', 28918, 29013496), (401306, '202309', '新北市', '行', '1', '軍警人員二', 10564, 9581796), (401307, '202309', '新北市', '行', '1', '其他公共行政類', 68245, 69676011), (401308, '202309', '新北市', '行', '1', '教育類', 63837, 64195168), (401309, '202309', '新北市', '行', '1', '工商及服務類', 972034, 1113693064), (401310, '202309', '新北市', '行', '1', '專業及技術服務類', 384653, 414743540), (401311, '202309', '新北市', '行', '1', '其他', 314447, 318794423), (402124, '202309', '澎湖縣', '衣', '2', '軍警人員一', 42, 64727), (402125, '202309', '澎湖縣', '衣', '2', '軍警人員二', 8, 18610), (402126, '202309', '澎湖縣', '衣', '2', '其他公共行政類', 257, 711759), (402127, '202309', '澎湖縣', '衣', '2', '教育類', 197, 373979), (402128, '202309', '澎湖縣', '衣', '2', '工商及服務類', 833, 2181186), (402129, '202309', '澎湖縣', '衣', '2', '專業及技術服務類', 401, 1396131), (402130, '202309', '澎湖縣', '衣', '2', '其他', 621, 1476431), (402943, '202309', '澎湖縣', '衣', '1', '軍警人員一', 71, 125577), (402944, '202309', '澎湖縣', '衣', '1', '軍警人員二', 28, 369255), (402945, '202309', '澎湖縣', '衣', '1', '其他公共行政類', 181, 663051), (402946, '202309', '澎湖縣', '衣', '1', '教育類', 42, 184973), (402947, '202309', '澎湖縣', '衣', '1', '工商及服務類', 299, 1009497), (402948, '202309', '澎湖縣', '衣', '1', '專業及技術服務類', 135, 419538), (402949, '202309', '澎湖縣', '衣', '1', '其他', 124, 472325), (403762, '202309', '澎湖縣', '百貨', '2', '軍警人員一', 583, 901680), (403763, '202309', '澎湖縣', '百貨', '2', '軍警人員二', 107, 231283), (403764, '202309', '澎湖縣', '百貨', '2', '其他公共行政類', 2462, 3782955), (403765, '202309', '澎湖縣', '百貨', '2', '教育類', 2323, 3481746), (403766, '202309', '澎湖縣', '百貨', '2', '工商及服務類', 11144, 24371109), (403767, '202309', '澎湖縣', '百貨', '2', '專業及技術服務類', 6045, 13149255), (403768, '202309', '澎湖縣', '百貨', '2', '其他', 7310, 12846241), (404581, '202309', '澎湖縣', '百貨', '1', '軍警人員一', 1810, 2529412), (404582, '202309', '澎湖縣', '百貨', '1', '軍警人員二', 505, 821104), (404583, '202309', '澎湖縣', '百貨', '1', '其他公共行政類', 3604, 4344202), (404584, '202309', '澎湖縣', '百貨', '1', '教育類', 1086, 1447797), (404585, '202309', '澎湖縣', '百貨', '1', '工商及服務類', 9148, 18291623), (404586, '202309', '澎湖縣', '百貨', '1', '專業及技術服務類', 3259, 7018403), (404587, '202309', '澎湖縣', '百貨', '1', '其他', 3634, 5919337), (405400, '202309', '澎湖縣', '文教康樂', '2', '軍警人員一', 58, 276350), (405401, '202309', '澎湖縣', '文教康樂', '2', '軍警人員二', 13, 24463), (405402, '202309', '澎湖縣', '文教康樂', '2', '其他公共行政類', 405, 997973), (405403, '202309', '澎湖縣', '文教康樂', '2', '教育類', 408, 795003), (405404, '202309', '澎湖縣', '文教康樂', '2', '工商及服務類', 2322, 3904665), (405405, '202309', '澎湖縣', '文教康樂', '2', '專業及技術服務類', 1143, 2768632), (405406, '202309', '澎湖縣', '文教康樂', '2', '其他', 1638, 2818469), (406219, '202309', '澎湖縣', '文教康樂', '1', '軍警人員一', 163, 239388), (406220, '202309', '澎湖縣', '文教康樂', '1', '軍警人員二', 40, 107778), (406221, '202309', '澎湖縣', '文教康樂', '1', '其他公共行政類', 546, 1414298), (406222, '202309', '澎湖縣', '文教康樂', '1', '教育類', 169, 228387), (406223, '202309', '澎湖縣', '文教康樂', '1', '工商及服務類', 1448, 3384186), (406224, '202309', '澎湖縣', '文教康樂', '1', '專業及技術服務類', 674, 1320475), (406225, '202309', '澎湖縣', '文教康樂', '1', '其他', 598, 1211205), (407038, '202309', '澎湖縣', '食', '2', '軍警人員一', 233, 186883), (407039, '202309', '澎湖縣', '食', '2', '軍警人員二', 43, 46516), (407040, '202309', '澎湖縣', '食', '2', '其他公共行政類', 1504, 1419754), (407041, '202309', '澎湖縣', '食', '2', '教育類', 1422, 1064118), (407042, '202309', '澎湖縣', '食', '2', '工商及服務類', 6565, 6572338), (407043, '202309', '澎湖縣', '食', '2', '專業及技術服務類', 3563, 3674397), (407044, '202309', '澎湖縣', '食', '2', '其他', 4365, 3620817), (407857, '202309', '澎湖縣', '食', '1', '軍警人員一', 1041, 953858), (407858, '202309', '澎湖縣', '食', '1', '軍警人員二', 332, 273466), (407859, '202309', '澎湖縣', '食', '1', '其他公共行政類', 2882, 2046727), (407860, '202309', '澎湖縣', '食', '1', '教育類', 1368, 585441), (407861, '202309', '澎湖縣', '食', '1', '工商及服務類', 6739, 6059936), (407862, '202309', '澎湖縣', '食', '1', '專業及技術服務類', 2958, 2220556), (407863, '202309', '澎湖縣', '食', '1', '其他', 3151, 2366645), (408676, '202309', '澎湖縣', '住', '2', '軍警人員一', 67, 350629), (408677, '202309', '澎湖縣', '住', '2', '軍警人員二', 23, 64015), (408678, '202309', '澎湖縣', '住', '2', '其他公共行政類', 439, 1806096), (408679, '202309', '澎湖縣', '住', '2', '教育類', 473, 2202165), (408680, '202309', '澎湖縣', '住', '2', '工商及服務類', 1733, 13952105), (408681, '202309', '澎湖縣', '住', '2', '專業及技術服務類', 988, 6865196), (408682, '202309', '澎湖縣', '住', '2', '其他', 1097, 5927697), (409495, '202309', '澎湖縣', '住', '1', '軍警人員一', 332, 977960), (409496, '202309', '澎湖縣', '住', '1', '軍警人員二', 120, 633034), (409497, '202309', '澎湖縣', '住', '1', '其他公共行政類', 852, 3862995), (409498, '202309', '澎湖縣', '住', '1', '教育類', 328, 1654327), (409499, '202309', '澎湖縣', '住', '1', '工商及服務類', 2036, 13584126), (409500, '202309', '澎湖縣', '住', '1', '專業及技術服務類', 777, 4294642), (409501, '202309', '澎湖縣', '住', '1', '其他', 734, 4006973), (410314, '202309', '澎湖縣', '其他', '2', '軍警人員一', 70, 177184), (410315, '202309', '澎湖縣', '其他', '2', '軍警人員二', 8, 19710), (410316, '202309', '澎湖縣', '其他', '2', '其他公共行政類', 207, 722555), (410317, '202309', '澎湖縣', '其他', '2', '教育類', 239, 779553), (410318, '202309', '澎湖縣', '其他', '2', '工商及服務類', 801, 3203640), (410319, '202309', '澎湖縣', '其他', '2', '專業及技術服務類', 493, 1864451), (410320, '202309', '澎湖縣', '其他', '2', '其他', 582, 2427045), (411133, '202309', '澎湖縣', '其他', '1', '軍警人員一', 245, 583203), (411134, '202309', '澎湖縣', '其他', '1', '軍警人員二', 39, 233627), (411135, '202309', '澎湖縣', '其他', '1', '其他公共行政類', 211, 1548302), (411136, '202309', '澎湖縣', '其他', '1', '教育類', 65, 274671), (411137, '202309', '澎湖縣', '其他', '1', '工商及服務類', 594, 2448912), (411138, '202309', '澎湖縣', '其他', '1', '專業及技術服務類', 226, 913833), (411139, '202309', '澎湖縣', '其他', '1', '其他', 276, 1052300), (411952, '202309', '澎湖縣', '行', '2', '軍警人員一', 271, 166694), (411953, '202309', '澎湖縣', '行', '2', '軍警人員二', 42, 33025), (411954, '202309', '澎湖縣', '行', '2', '其他公共行政類', 766, 687533), (411955, '202309', '澎湖縣', '行', '2', '教育類', 779, 603890), (411956, '202309', '澎湖縣', '行', '2', '工商及服務類', 2724, 2741549), (411957, '202309', '澎湖縣', '行', '2', '專業及技術服務類', 1667, 1794343), (411958, '202309', '澎湖縣', '行', '2', '其他', 2102, 2249828), (412771, '202309', '澎湖縣', '行', '1', '軍警人員一', 1201, 892265), (412772, '202309', '澎湖縣', '行', '1', '軍警人員二', 270, 303846), (412773, '202309', '澎湖縣', '行', '1', '其他公共行政類', 2212, 2243767), (412774, '202309', '澎湖縣', '行', '1', '教育類', 570, 624930), (412775, '202309', '澎湖縣', '行', '1', '工商及服務類', 4040, 5903314), (412776, '202309', '澎湖縣', '行', '1', '專業及技術服務類', 1837, 2156679), (412777, '202309', '澎湖縣', '行', '1', '其他', 1686, 1642623), (413590, '202309', '屏東縣', '衣', '2', '軍警人員一', 194, 448023), (413591, '202309', '屏東縣', '衣', '2', '軍警人員二', 41, 84137), (413592, '202309', '屏東縣', '衣', '2', '其他公共行政類', 1147, 2766614), (413593, '202309', '屏東縣', '衣', '2', '教育類', 1975, 4482176), (413594, '202309', '屏東縣', '衣', '2', '工商及服務類', 9148, 25357342), (413595, '202309', '屏東縣', '衣', '2', '專業及技術服務類', 4525, 11400815), (413596, '202309', '屏東縣', '衣', '2', '其他', 6136, 14384511), (414409, '202309', '屏東縣', '衣', '1', '軍警人員一', 251, 475678), (414410, '202309', '屏東縣', '衣', '1', '軍警人員二', 100, 176267), (414411, '202309', '屏東縣', '衣', '1', '其他公共行政類', 667, 1051853), (414412, '202309', '屏東縣', '衣', '1', '教育類', 430, 646601), (414413, '202309', '屏東縣', '衣', '1', '工商及服務類', 3242, 5512549), (414414, '202309', '屏東縣', '衣', '1', '專業及技術服務類', 1199, 2060148), (414415, '202309', '屏東縣', '衣', '1', '其他', 1242, 2004027), (415228, '202309', '屏東縣', '百貨', '2', '軍警人員一', 1394, 1951992), (415229, '202309', '屏東縣', '百貨', '2', '軍警人員二', 309, 331461), (415230, '202309', '屏東縣', '百貨', '2', '其他公共行政類', 9197, 9780247), (415231, '202309', '屏東縣', '百貨', '2', '教育類', 15024, 15103542), (415232, '202309', '屏東縣', '百貨', '2', '工商及服務類', 53129, 60558214), (415233, '202309', '屏東縣', '百貨', '2', '專業及技術服務類', 27845, 31457617), (415234, '202309', '屏東縣', '百貨', '2', '其他', 52694, 54685646), (416047, '202309', '屏東縣', '百貨', '1', '軍警人員一', 3046, 3634112), (416048, '202309', '屏東縣', '百貨', '1', '軍警人員二', 1139, 1266215), (416049, '202309', '屏東縣', '百貨', '1', '其他公共行政類', 11393, 9580304), (416050, '202309', '屏東縣', '百貨', '1', '教育類', 7291, 5253930), (416051, '202309', '屏東縣', '百貨', '1', '工商及服務類', 40602, 40666843), (416052, '202309', '屏東縣', '百貨', '1', '專業及技術服務類', 13989, 12946567), (416053, '202309', '屏東縣', '百貨', '1', '其他', 20837, 17249011), (416866, '202309', '屏東縣', '文教康樂', '2', '軍警人員一', 348, 870534), (416867, '202309', '屏東縣', '文教康樂', '2', '軍警人員二', 65, 278328), (416868, '202309', '屏東縣', '文教康樂', '2', '其他公共行政類', 1691, 4524316), (416869, '202309', '屏東縣', '文教康樂', '2', '教育類', 3125, 5900922), (416870, '202309', '屏東縣', '文教康樂', '2', '工商及服務類', 10606, 26414433), (416871, '202309', '屏東縣', '文教康樂', '2', '專業及技術服務類', 5743, 13544812), (416872, '202309', '屏東縣', '文教康樂', '2', '其他', 7242, 18116046), (417685, '202309', '屏東縣', '文教康樂', '1', '軍警人員一', 896, 2313044), (417686, '202309', '屏東縣', '文教康樂', '1', '軍警人員二', 255, 465902), (417687, '202309', '屏東縣', '文教康樂', '1', '其他公共行政類', 1831, 4517132), (417688, '202309', '屏東縣', '文教康樂', '1', '教育類', 1504, 3276890), (417689, '202309', '屏東縣', '文教康樂', '1', '工商及服務類', 9616, 20076726), (417690, '202309', '屏東縣', '文教康樂', '1', '專業及技術服務類', 3442, 7155777), (417691, '202309', '屏東縣', '文教康樂', '1', '其他', 3342, 6561836), (418504, '202309', '屏東縣', '食', '2', '軍警人員一', 930, 737552), (418505, '202309', '屏東縣', '食', '2', '軍警人員二', 257, 198820), (418506, '202309', '屏東縣', '食', '2', '其他公共行政類', 5342, 4666072), (418507, '202309', '屏東縣', '食', '2', '教育類', 9251, 7373812), (418508, '202309', '屏東縣', '食', '2', '工商及服務類', 33219, 36776946), (418509, '202309', '屏東縣', '食', '2', '專業及技術服務類', 16830, 15739238), (418510, '202309', '屏東縣', '食', '2', '其他', 27184, 25803503), (419323, '202309', '屏東縣', '食', '1', '軍警人員一', 3328, 2544002), (419324, '202309', '屏東縣', '食', '1', '軍警人員二', 1173, 782185), (419325, '202309', '屏東縣', '食', '1', '其他公共行政類', 9290, 6174353), (419326, '202309', '屏東縣', '食', '1', '教育類', 6756, 3824146), (419327, '202309', '屏東縣', '食', '1', '工商及服務類', 38511, 36020529), (419328, '202309', '屏東縣', '食', '1', '專業及技術服務類', 14694, 11669688), (419329, '202309', '屏東縣', '食', '1', '其他', 16080, 11616253), (420142, '202309', '屏東縣', '住', '2', '軍警人員一', 245, 1150659), (420143, '202309', '屏東縣', '住', '2', '軍警人員二', 64, 388522), (420144, '202309', '屏東縣', '住', '2', '其他公共行政類', 1684, 8122446), (420145, '202309', '屏東縣', '住', '2', '教育類', 2955, 10549722), (420146, '202309', '屏東縣', '住', '2', '工商及服務類', 12198, 62136276), (420147, '202309', '屏東縣', '住', '2', '專業及技術服務類', 6513, 32689607), (420148, '202309', '屏東縣', '住', '2', '其他', 8490, 40349383), (420961, '202309', '屏東縣', '住', '1', '軍警人員一', 937, 3749635), (420962, '202309', '屏東縣', '住', '1', '軍警人員二', 350, 1626763), (420963, '202309', '屏東縣', '住', '1', '其他公共行政類', 2575, 10950015), (420964, '202309', '屏東縣', '住', '1', '教育類', 1768, 6358977), (420965, '202309', '屏東縣', '住', '1', '工商及服務類', 12747, 65513305), (420966, '202309', '屏東縣', '住', '1', '專業及技術服務類', 4972, 24929044), (420967, '202309', '屏東縣', '住', '1', '其他', 4354, 18255465), (421780, '202309', '屏東縣', '其他', '2', '軍警人員一', 468, 990593), (421781, '202309', '屏東縣', '其他', '2', '軍警人員二', 109, 389351), (421782, '202309', '屏東縣', '其他', '2', '其他公共行政類', 1805, 5225675), (421783, '202309', '屏東縣', '其他', '2', '教育類', 3574, 8246172), (421784, '202309', '屏東縣', '其他', '2', '工商及服務類', 14067, 41949021), (421785, '202309', '屏東縣', '其他', '2', '專業及技術服務類', 7859, 22530502), (421786, '202309', '屏東縣', '其他', '2', '其他', 11023, 30841697), (422599, '202309', '屏東縣', '其他', '1', '軍警人員一', 1243, 2562917), (422600, '202309', '屏東縣', '其他', '1', '軍警人員二', 362, 1178766), (422601, '202309', '屏東縣', '其他', '1', '其他公共行政類', 1865, 5893841), (422602, '202309', '屏東縣', '其他', '1', '教育類', 1140, 2637013), (422603, '202309', '屏東縣', '其他', '1', '工商及服務類', 10148, 37944226), (422604, '202309', '屏東縣', '其他', '1', '專業及技術服務類', 3731, 11720167), (422605, '202309', '屏東縣', '其他', '1', '其他', 3897, 11993658), (423418, '202309', '屏東縣', '行', '2', '軍警人員一', 856, 1189201), (423419, '202309', '屏東縣', '行', '2', '軍警人員二', 181, 307403), (423420, '202309', '屏東縣', '行', '2', '其他公共行政類', 3100, 4394605), (423421, '202309', '屏東縣', '行', '2', '教育類', 6640, 7805039), (423422, '202309', '屏東縣', '行', '2', '工商及服務類', 23326, 34935372), (423423, '202309', '屏東縣', '行', '2', '專業及技術服務類', 13145, 17747414), (423424, '202309', '屏東縣', '行', '2', '其他', 18791, 24313502), (424237, '202309', '屏東縣', '行', '1', '軍警人員一', 4782, 6180109), (424238, '202309', '屏東縣', '行', '1', '軍警人員二', 1254, 2001461), (424239, '202309', '屏東縣', '行', '1', '其他公共行政類', 8984, 13097017), (424240, '202309', '屏東縣', '行', '1', '教育類', 5609, 6685799), (424241, '202309', '屏東縣', '行', '1', '工商及服務類', 50367, 72590712), (424242, '202309', '屏東縣', '行', '1', '專業及技術服務類', 17315, 23479167), (424243, '202309', '屏東縣', '行', '1', '其他', 18460, 23729583), (425056, '202309', '臺中市', '衣', '2', '軍警人員一', 1178, 2679444), (425057, '202309', '臺中市', '衣', '2', '軍警人員二', 244, 564183), (425058, '202309', '臺中市', '衣', '2', '其他公共行政類', 7346, 17601075), (425059, '202309', '臺中市', '衣', '2', '教育類', 17177, 35556806), (425060, '202309', '臺中市', '衣', '2', '工商及服務類', 83457, 212025559), (425061, '202309', '臺中市', '衣', '2', '專業及技術服務類', 38412, 90978920), (425062, '202309', '臺中市', '衣', '2', '其他', 48332, 116869469), (425875, '202309', '臺中市', '衣', '1', '軍警人員一', 1252, 2689310), (425876, '202309', '臺中市', '衣', '1', '軍警人員二', 460, 1179332), (425877, '202309', '臺中市', '衣', '1', '其他公共行政類', 3540, 6799616), (425878, '202309', '臺中市', '衣', '1', '教育類', 4101, 7761797), (425879, '202309', '臺中市', '衣', '1', '工商及服務類', 38745, 93992640), (425880, '202309', '臺中市', '衣', '1', '專業及技術服務類', 13882, 40172841), (425881, '202309', '臺中市', '衣', '1', '其他', 12096, 25690453), (426694, '202309', '臺中市', '百貨', '2', '軍警人員一', 8674, 17890390), (426695, '202309', '臺中市', '百貨', '2', '軍警人員二', 2887, 7602980), (426696, '202309', '臺中市', '百貨', '2', '其他公共行政類', 72269, 168779912), (426697, '202309', '臺中市', '百貨', '2', '教育類', 161909, 340327694), (426698, '202309', '臺中市', '百貨', '2', '工商及服務類', 772790, 2360904266), (426699, '202309', '臺中市', '百貨', '2', '專業及技術服務類', 373066, 1081071680), (426700, '202309', '臺中市', '百貨', '2', '其他', 542983, 1345537609), (427513, '202309', '臺中市', '百貨', '1', '軍警人員一', 14022, 26751864), (427514, '202309', '臺中市', '百貨', '1', '軍警人員二', 10062, 24854539), (427515, '202309', '臺中市', '百貨', '1', '其他公共行政類', 59505, 86480943), (427516, '202309', '臺中市', '百貨', '1', '教育類', 73526, 122109187), (427517, '202309', '臺中市', '百貨', '1', '工商及服務類', 616849, 1396726258), (427518, '202309', '臺中市', '百貨', '1', '專業及技術服務類', 235485, 539305305), (427519, '202309', '臺中市', '百貨', '1', '其他', 235154, 390479086), (428332, '202309', '臺中市', '文教康樂', '2', '軍警人員一', 3587, 10305881), (428333, '202309', '臺中市', '文教康樂', '2', '軍警人員二', 760, 2593635), (428334, '202309', '臺中市', '文教康樂', '2', '其他公共行政類', 20698, 68515037), (428335, '202309', '臺中市', '文教康樂', '2', '教育類', 44061, 120638638), (428336, '202309', '臺中市', '文教康樂', '2', '工商及服務類', 201333, 767417790), (428337, '202309', '臺中市', '文教康樂', '2', '專業及技術服務類', 98696, 314003125), (428338, '202309', '臺中市', '文教康樂', '2', '其他', 110376, 409700660), (429151, '202309', '臺中市', '文教康樂', '1', '軍警人員一', 9348, 20568682), (429152, '202309', '臺中市', '文教康樂', '1', '軍警人員二', 2755, 8147270), (429153, '202309', '臺中市', '文教康樂', '1', '其他公共行政類', 20906, 63866046), (429154, '202309', '臺中市', '文教康樂', '1', '教育類', 23886, 59409688), (429155, '202309', '臺中市', '文教康樂', '1', '工商及服務類', 224383, 751761942), (429156, '202309', '臺中市', '文教康樂', '1', '專業及技術服務類', 87829, 261722498), (429157, '202309', '臺中市', '文教康樂', '1', '其他', 69911, 219590748), (429970, '202309', '臺中市', '食', '2', '軍警人員一', 8694, 11078465), (429971, '202309', '臺中市', '食', '2', '軍警人員二', 1441, 2206301), (429972, '202309', '臺中市', '食', '2', '其他公共行政類', 45811, 52066095), (429973, '202309', '臺中市', '食', '2', '教育類', 107144, 109334772), (429974, '202309', '臺中市', '食', '2', '工商及服務類', 498965, 780059665), (429975, '202309', '臺中市', '食', '2', '專業及技術服務類', 242218, 317657767), (429976, '202309', '臺中市', '食', '2', '其他', 318413, 393706626), (430789, '202309', '臺中市', '食', '1', '軍警人員一', 17763, 22833757), (430790, '202309', '臺中市', '食', '1', '軍警人員二', 6050, 7782581), (430791, '202309', '臺中市', '食', '1', '其他公共行政類', 52319, 51998436), (430792, '202309', '臺中市', '食', '1', '教育類', 74965, 62262968), (430793, '202309', '臺中市', '食', '1', '工商及服務類', 608928, 845262589), (430794, '202309', '臺中市', '食', '1', '專業及技術服務類', 240909, 298212942), (430795, '202309', '臺中市', '食', '1', '其他', 205765, 217834515), (431608, '202309', '臺中市', '住', '2', '軍警人員一', 1437, 7632233), (431609, '202309', '臺中市', '住', '2', '軍警人員二', 273, 1485734), (431610, '202309', '臺中市', '住', '2', '其他公共行政類', 8273, 33819550), (431611, '202309', '臺中市', '住', '2', '教育類', 18118, 64589976), (431612, '202309', '臺中市', '住', '2', '工商及服務類', 86463, 411781956), (431613, '202309', '臺中市', '住', '2', '專業及技術服務類', 41730, 183511558), (431614, '202309', '臺中市', '住', '2', '其他', 54659, 207055888), (432427, '202309', '臺中市', '住', '1', '軍警人員一', 3808, 14637607), (432428, '202309', '臺中市', '住', '1', '軍警人員二', 1234, 5713467), (432429, '202309', '臺中市', '住', '1', '其他公共行政類', 11224, 42323595), (432430, '202309', '臺中市', '住', '1', '教育類', 10971, 38233233), (432431, '202309', '臺中市', '住', '1', '工商及服務類', 116766, 537919753), (432432, '202309', '臺中市', '住', '1', '專業及技術服務類', 43035, 204525350), (432433, '202309', '臺中市', '住', '1', '其他', 37111, 135249614), (433246, '202309', '臺中市', '其他', '2', '軍警人員一', 2719, 7833299), (433247, '202309', '臺中市', '其他', '2', '軍警人員二', 617, 2418992), (433248, '202309', '臺中市', '其他', '2', '其他公共行政類', 18050, 46010463), (433249, '202309', '臺中市', '其他', '2', '教育類', 34072, 86108045), (433250, '202309', '臺中市', '其他', '2', '工商及服務類', 193655, 713817747), (433251, '202309', '臺中市', '其他', '2', '專業及技術服務類', 95201, 307720465), (433252, '202309', '臺中市', '其他', '2', '其他', 107163, 366095951), (434065, '202309', '臺中市', '其他', '1', '軍警人員一', 5863, 14467737), (434066, '202309', '臺中市', '其他', '1', '軍警人員二', 2204, 7023776), (434067, '202309', '臺中市', '其他', '1', '其他公共行政類', 17129, 39467713), (434068, '202309', '臺中市', '其他', '1', '教育類', 16423, 33219737), (434069, '202309', '臺中市', '其他', '1', '工商及服務類', 173429, 559246918), (434070, '202309', '臺中市', '其他', '1', '專業及技術服務類', 62309, 190196603), (434071, '202309', '臺中市', '其他', '1', '其他', 52689, 142735558), (434884, '202309', '臺中市', '行', '2', '軍警人員一', 5193, 4897308), (434885, '202309', '臺中市', '行', '2', '軍警人員二', 1500, 1495406), (434886, '202309', '臺中市', '行', '2', '其他公共行政類', 23442, 30619827), (434887, '202309', '臺中市', '行', '2', '教育類', 59297, 82232243), (434888, '202309', '臺中市', '行', '2', '工商及服務類', 308763, 481434089), (434889, '202309', '臺中市', '行', '2', '專業及技術服務類', 148208, 254752504), (434890, '202309', '臺中市', '行', '2', '其他', 174919, 251504890), (435703, '202309', '臺中市', '行', '1', '軍警人員一', 20636, 26722441), (435704, '202309', '臺中市', '行', '1', '軍警人員二', 9681, 13325923), (435705, '202309', '臺中市', '行', '1', '其他公共行政類', 44532, 67646326), (435706, '202309', '臺中市', '行', '1', '教育類', 51357, 67417485), (435707, '202309', '臺中市', '行', '1', '工商及服務類', 655207, 1059745982), (435708, '202309', '臺中市', '行', '1', '專業及技術服務類', 228343, 400272216), (435709, '202309', '臺中市', '行', '1', '其他', 188411, 238935479), (436522, '202309', '臺南市', '衣', '2', '軍警人員一', 472, 1001843), (436523, '202309', '臺南市', '衣', '2', '軍警人員二', 94, 236170), (436524, '202309', '臺南市', '衣', '2', '其他公共行政類', 3001, 6853869), (436525, '202309', '臺南市', '衣', '2', '教育類', 7737, 14751849), (436526, '202309', '臺南市', '衣', '2', '工商及服務類', 31423, 74214093), (436527, '202309', '臺南市', '衣', '2', '專業及技術服務類', 15820, 34590642), (436528, '202309', '臺南市', '衣', '2', '其他', 18740, 40132810), (437341, '202309', '臺南市', '衣', '1', '軍警人員一', 691, 1409323), (437342, '202309', '臺南市', '衣', '1', '軍警人員二', 217, 439228), (437343, '202309', '臺南市', '衣', '1', '其他公共行政類', 1645, 2838248), (437344, '202309', '臺南市', '衣', '1', '教育類', 1937, 3357537), (437345, '202309', '臺南市', '衣', '1', '工商及服務類', 16162, 33891338), (437346, '202309', '臺南市', '衣', '1', '專業及技術服務類', 5850, 11478431), (437347, '202309', '臺南市', '衣', '1', '其他', 4807, 8662579), (438160, '202309', '臺南市', '百貨', '2', '軍警人員一', 4390, 7843433), (438161, '202309', '臺南市', '百貨', '2', '軍警人員二', 1335, 2921707), (438162, '202309', '臺南市', '百貨', '2', '其他公共行政類', 30526, 43827520), (438163, '202309', '臺南市', '百貨', '2', '教育類', 80072, 116839926), (438164, '202309', '臺南市', '百貨', '2', '工商及服務類', 328052, 619194902), (438165, '202309', '臺南市', '百貨', '2', '專業及技術服務類', 176214, 323129962), (438166, '202309', '臺南市', '百貨', '2', '其他', 230111, 377520972), (438979, '202309', '臺南市', '百貨', '1', '軍警人員一', 8813, 13597475), (438980, '202309', '臺南市', '百貨', '1', '軍警人員二', 4913, 10438909), (438981, '202309', '臺南市', '百貨', '1', '其他公共行政類', 27941, 33888090), (438982, '202309', '臺南市', '百貨', '1', '教育類', 36055, 47555033), (438983, '202309', '臺南市', '百貨', '1', '工商及服務類', 276568, 477069233), (438984, '202309', '臺南市', '百貨', '1', '專業及技術服務類', 106512, 188137452), (438985, '202309', '臺南市', '百貨', '1', '其他', 104441, 147131761), (439798, '202309', '臺南市', '文教康樂', '2', '軍警人員一', 979, 2727872), (439799, '202309', '臺南市', '文教康樂', '2', '軍警人員二', 210, 1179283), (439800, '202309', '臺南市', '文教康樂', '2', '其他公共行政類', 5024, 19894657), (439801, '202309', '臺南市', '文教康樂', '2', '教育類', 15825, 46496745), (439802, '202309', '臺南市', '文教康樂', '2', '工商及服務類', 51024, 232733584), (439803, '202309', '臺南市', '文教康樂', '2', '專業及技術服務類', 26175, 101368351), (439804, '202309', '臺南市', '文教康樂', '2', '其他', 29188, 117646354), (440617, '202309', '臺南市', '文教康樂', '1', '軍警人員一', 2427, 8359378), (440618, '202309', '臺南市', '文教康樂', '1', '軍警人員二', 692, 2573655), (440619, '202309', '臺南市', '文教康樂', '1', '其他公共行政類', 4869, 17890017), (440620, '202309', '臺南市', '文教康樂', '1', '教育類', 7492, 20670612), (440621, '202309', '臺南市', '文教康樂', '1', '工商及服務類', 49676, 214639007), (440622, '202309', '臺南市', '文教康樂', '1', '專業及技術服務類', 18326, 70850281), (440623, '202309', '臺南市', '文教康樂', '1', '其他', 16031, 56161269), (441436, '202309', '臺南市', '食', '2', '軍警人員一', 2733, 2759943), (441437, '202309', '臺南市', '食', '2', '軍警人員二', 517, 481809), (441438, '202309', '臺南市', '食', '2', '其他公共行政類', 15718, 14107295), (441439, '202309', '臺南市', '食', '2', '教育類', 38248, 31693833), (441440, '202309', '臺南市', '食', '2', '工商及服務類', 152558, 178408643), (441441, '202309', '臺南市', '食', '2', '專業及技術服務類', 77980, 81285604), (441442, '202309', '臺南市', '食', '2', '其他', 99303, 94877732), (442255, '202309', '臺南市', '食', '1', '軍警人員一', 8109, 7355026), (442256, '202309', '臺南市', '食', '1', '軍警人員二', 2269, 2228445), (442257, '202309', '臺南市', '食', '1', '其他公共行政類', 20846, 15829104), (442258, '202309', '臺南市', '食', '1', '教育類', 30486, 18671230), (442259, '202309', '臺南市', '食', '1', '工商及服務類', 207750, 216252825), (442260, '202309', '臺南市', '食', '1', '專業及技術服務類', 86801, 73089697), (442261, '202309', '臺南市', '食', '1', '其他', 69196, 54462657), (443074, '202309', '臺南市', '住', '2', '軍警人員一', 1821, 3683013), (443075, '202309', '臺南市', '住', '2', '軍警人員二', 280, 775553), (443076, '202309', '臺南市', '住', '2', '其他公共行政類', 9465, 19755398), (443077, '202309', '臺南市', '住', '2', '教育類', 22716, 37658358), (443078, '202309', '臺南市', '住', '2', '工商及服務類', 105373, 223928432), (443079, '202309', '臺南市', '住', '2', '專業及技術服務類', 53590, 108640972), (443080, '202309', '臺南市', '住', '2', '其他', 76188, 120664163), (443893, '202309', '臺南市', '住', '1', '軍警人員一', 6336, 9402920), (443894, '202309', '臺南市', '住', '1', '軍警人員二', 1779, 3047896), (443895, '202309', '臺南市', '住', '1', '其他公共行政類', 15036, 23789305), (443896, '202309', '臺南市', '住', '1', '教育類', 16097, 22900047), (443897, '202309', '臺南市', '住', '1', '工商及服務類', 162221, 295892080), (443898, '202309', '臺南市', '住', '1', '專業及技術服務類', 63582, 108173007), (443899, '202309', '臺南市', '住', '1', '其他', 58560, 76192021), (444712, '202309', '臺南市', '其他', '2', '軍警人員一', 1056, 3224291), (444713, '202309', '臺南市', '其他', '2', '軍警人員二', 220, 913136), (444714, '202309', '臺南市', '其他', '2', '其他公共行政類', 4918, 19826824), (444715, '202309', '臺南市', '其他', '2', '教育類', 12831, 37309258), (444716, '202309', '臺南市', '其他', '2', '工商及服務類', 59933, 229861006), (444717, '202309', '臺南市', '其他', '2', '專業及技術服務類', 31038, 103855490), (444718, '202309', '臺南市', '其他', '2', '其他', 31698, 114440685), (445531, '202309', '臺南市', '其他', '1', '軍警人員一', 2763, 8252640), (445532, '202309', '臺南市', '其他', '1', '軍警人員二', 838, 3127492), (445533, '202309', '臺南市', '其他', '1', '其他公共行政類', 4471, 18054922), (445534, '202309', '臺南市', '其他', '1', '教育類', 6334, 17327308), (445535, '202309', '臺南市', '其他', '1', '工商及服務類', 58562, 223156156), (445536, '202309', '臺南市', '其他', '1', '專業及技術服務類', 18360, 72047420), (445537, '202309', '臺南市', '其他', '1', '其他', 17763, 54136085), (446350, '202309', '臺南市', '行', '2', '軍警人員一', 3121, 2864995), (446351, '202309', '臺南市', '行', '2', '軍警人員二', 697, 2248074), (446352, '202309', '臺南市', '行', '2', '其他公共行政類', 12603, 17467383), (446353, '202309', '臺南市', '行', '2', '教育類', 37164, 55063790), (446354, '202309', '臺南市', '行', '2', '工商及服務類', 157073, 290518751), (446355, '202309', '臺南市', '行', '2', '專業及技術服務類', 76593, 170308846), (446356, '202309', '臺南市', '行', '2', '其他', 87612, 137577048), (447169, '202309', '臺南市', '行', '1', '軍警人員一', 15307, 23891878), (447170, '202309', '臺南市', '行', '1', '軍警人員二', 4699, 5766849), (447171, '202309', '臺南市', '行', '1', '其他公共行政類', 27670, 41259812), (447172, '202309', '臺南市', '行', '1', '教育類', 30849, 48858967), (447173, '202309', '臺南市', '行', '1', '工商及服務類', 344894, 642035608), (447174, '202309', '臺南市', '行', '1', '專業及技術服務類', 120608, 248222166), (447175, '202309', '臺南市', '行', '1', '其他', 93682, 126288019), (447988, '202309', '臺北市', '衣', '2', '軍警人員一', 10751, 22868328), (447989, '202309', '臺北市', '衣', '2', '軍警人員二', 2531, 4832513), (447990, '202309', '臺北市', '衣', '2', '其他公共行政類', 52554, 106485844), (447991, '202309', '臺北市', '衣', '2', '教育類', 115676, 208205857), (447992, '202309', '臺北市', '衣', '2', '工商及服務類', 557577, 1358829767), (447993, '202309', '臺北市', '衣', '2', '專業及技術服務類', 300647, 686650982), (447994, '202309', '臺北市', '衣', '2', '其他', 267972, 642690580), (448807, '202309', '臺北市', '衣', '1', '軍警人員一', 9265, 16165800), (448808, '202309', '臺北市', '衣', '1', '軍警人員二', 3309, 5821501), (448809, '202309', '臺北市', '衣', '1', '其他公共行政類', 18755, 33159491), (448810, '202309', '臺北市', '衣', '1', '教育類', 24502, 42338660), (448811, '202309', '臺北市', '衣', '1', '工商及服務類', 193965, 473702406), (448812, '202309', '臺北市', '衣', '1', '專業及技術服務類', 80576, 202309116), (448813, '202309', '臺北市', '衣', '1', '其他', 64357, 140217498), (449626, '202309', '臺北市', '百貨', '2', '軍警人員一', 97403, 130518359), (449627, '202309', '臺北市', '百貨', '2', '軍警人員二', 32222, 34894042), (449628, '202309', '臺北市', '百貨', '2', '其他公共行政類', 821832, 788976763), (449629, '202309', '臺北市', '百貨', '2', '教育類', 1504614, 1416291858), (449630, '202309', '臺北市', '百貨', '2', '工商及服務類', 8006190, 9597005442), (449631, '202309', '臺北市', '百貨', '2', '專業及技術服務類', 4452367, 4935123164), (449632, '202309', '臺北市', '百貨', '2', '其他', 4316798, 5151829529), (450445, '202309', '臺北市', '百貨', '1', '軍警人員一', 234634, 202987474), (450446, '202309', '臺北市', '百貨', '1', '軍警人員二', 96527, 105767898), (450447, '202309', '臺北市', '百貨', '1', '其他公共行政類', 717045, 536734415), (450448, '202309', '臺北市', '百貨', '1', '教育類', 695915, 553245998), (450449, '202309', '臺北市', '百貨', '1', '工商及服務類', 6900885, 7130833501), (450450, '202309', '臺北市', '百貨', '1', '專業及技術服務類', 3099402, 3242617775), (450451, '202309', '臺北市', '百貨', '1', '其他', 2274931, 2098615575), (451264, '202309', '臺北市', '文教康樂', '2', '軍警人員一', 30933, 124131890), (451265, '202309', '臺北市', '文教康樂', '2', '軍警人員二', 6529, 26926092), (451266, '202309', '臺北市', '文教康樂', '2', '其他公共行政類', 190928, 765072069), (451267, '202309', '臺北市', '文教康樂', '2', '教育類', 419061, 1311023322), (451268, '202309', '臺北市', '文教康樂', '2', '工商及服務類', 1757725, 7679576667), (451269, '202309', '臺北市', '文教康樂', '2', '專業及技術服務類', 944890, 3705793983), (451270, '202309', '臺北市', '文教康樂', '2', '其他', 939094, 3894874541), (452083, '202309', '臺北市', '文教康樂', '1', '軍警人員一', 63382, 237784145), (452084, '202309', '臺北市', '文教康樂', '1', '軍警人員二', 19941, 91378202), (452085, '202309', '臺北市', '文教康樂', '1', '其他公共行政類', 167878, 669247638), (452086, '202309', '臺北市', '文教康樂', '1', '教育類', 183812, 642155091), (452087, '202309', '臺北市', '文教康樂', '1', '工商及服務類', 1645856, 7330874485), (452088, '202309', '臺北市', '文教康樂', '1', '專業及技術服務類', 725984, 3092194741), (452089, '202309', '臺北市', '文教康樂', '1', '其他', 561674, 2328413053), (452902, '202309', '臺北市', '食', '2', '軍警人員一', 146438, 67381252), (452903, '202309', '臺北市', '食', '2', '軍警人員二', 35945, 13755709), (452904, '202309', '臺北市', '食', '2', '其他公共行政類', 769218, 323706929), (452905, '202309', '臺北市', '食', '2', '教育類', 1814863, 625633639), (452906, '202309', '臺北市', '食', '2', '工商及服務類', 8673061, 3986576449), (452907, '202309', '臺北市', '食', '2', '專業及技術服務類', 5216668, 2108822773), (452908, '202309', '臺北市', '食', '2', '其他', 4319109, 2036270327), (453721, '202309', '臺北市', '食', '1', '軍警人員一', 419046, 151615295), (453722, '202309', '臺北市', '食', '1', '軍警人員二', 138412, 43822671), (453723, '202309', '臺北市', '食', '1', '其他公共行政類', 764945, 270756025), (453724, '202309', '臺北市', '食', '1', '教育類', 1080748, 318415555), (453725, '202309', '臺北市', '食', '1', '工商及服務類', 9399142, 3791419151), (453726, '202309', '臺北市', '食', '1', '專業及技術服務類', 4730249, 1748007503), (453727, '202309', '臺北市', '食', '1', '其他', 2870282, 1136200426), (454540, '202309', '臺北市', '住', '2', '軍警人員一', 11167, 30177122), (454541, '202309', '臺北市', '住', '2', '軍警人員二', 2611, 4956695), (454542, '202309', '臺北市', '住', '2', '其他公共行政類', 53720, 119157937), (454543, '202309', '臺北市', '住', '2', '教育類', 118546, 202113257), (454544, '202309', '臺北市', '住', '2', '工商及服務類', 530155, 1322516178), (454545, '202309', '臺北市', '住', '2', '專業及技術服務類', 266240, 643495935), (454546, '202309', '臺北市', '住', '2', '其他', 279350, 639881960), (455359, '202309', '臺北市', '住', '1', '軍警人員一', 22265, 53072344), (455360, '202309', '臺北市', '住', '1', '軍警人員二', 8311, 20677083), (455361, '202309', '臺北市', '住', '1', '其他公共行政類', 51224, 122599353), (455362, '202309', '臺北市', '住', '1', '教育類', 55713, 115487629), (455363, '202309', '臺北市', '住', '1', '工商及服務類', 515536, 1573485089), (455364, '202309', '臺北市', '住', '1', '專業及技術服務類', 202513, 645484519), (455365, '202309', '臺北市', '住', '1', '其他', 172593, 459764516), (456178, '202309', '臺北市', '其他', '2', '軍警人員一', 65217, 150407762), (456179, '202309', '臺北市', '其他', '2', '軍警人員二', 17597, 42890911), (456180, '202309', '臺北市', '其他', '2', '其他公共行政類', 436706, 1100644109), (456181, '202309', '臺北市', '其他', '2', '教育類', 733717, 1710049554), (456182, '202309', '臺北市', '其他', '2', '工商及服務類', 4717554, 14817860381), (456183, '202309', '臺北市', '其他', '2', '專業及技術服務類', 2408271, 6649053846), (456184, '202309', '臺北市', '其他', '2', '其他', 2389535, 7689014692), (456997, '202309', '臺北市', '其他', '1', '軍警人員一', 199167, 415433806), (456998, '202309', '臺北市', '其他', '1', '軍警人員二', 75388, 170893518), (456999, '202309', '臺北市', '其他', '1', '其他公共行政類', 496162, 983028849), (457000, '202309', '臺北市', '其他', '1', '教育類', 408953, 818998987), (457001, '202309', '臺北市', '其他', '1', '工商及服務類', 5115851, 13132215353), (457002, '202309', '臺北市', '其他', '1', '專業及技術服務類', 2039285, 5049480828), (457003, '202309', '臺北市', '其他', '1', '其他', 1556804, 3581826530), (457816, '202309', '臺北市', '行', '2', '軍警人員一', 80761, 47571218), (457817, '202309', '臺北市', '行', '2', '軍警人員二', 12337, 8947669), (457818, '202309', '臺北市', '行', '2', '其他公共行政類', 323323, 246015633), (457819, '202309', '臺北市', '行', '2', '教育類', 933568, 521706858), (457820, '202309', '臺北市', '行', '2', '工商及服務類', 3477857, 2400313861), (457821, '202309', '臺北市', '行', '2', '專業及技術服務類', 2107871, 1339258796), (457822, '202309', '臺北市', '行', '2', '其他', 2106801, 1354873587), (458635, '202309', '臺北市', '行', '1', '軍警人員一', 234584, 160996433), (458636, '202309', '臺北市', '行', '1', '軍警人員二', 70221, 51176857), (458637, '202309', '臺北市', '行', '1', '其他公共行政類', 517727, 394771189), (458638, '202309', '臺北市', '行', '1', '教育類', 562857, 344831547), (458639, '202309', '臺北市', '行', '1', '工商及服務類', 5316825, 4435131297), (458640, '202309', '臺北市', '行', '1', '專業及技術服務類', 2503538, 1978579238), (458641, '202309', '臺北市', '行', '1', '其他', 1776179, 1258451803), (459454, '202309', '臺東縣', '衣', '2', '軍警人員一', 48, 86232), (459455, '202309', '臺東縣', '衣', '2', '軍警人員二', 20, 81630), (459456, '202309', '臺東縣', '衣', '2', '其他公共行政類', 641, 1449409), (459457, '202309', '臺東縣', '衣', '2', '教育類', 923, 1969314), (459458, '202309', '臺東縣', '衣', '2', '工商及服務類', 1974, 4483072), (459459, '202309', '臺東縣', '衣', '2', '專業及技術服務類', 1234, 2633507), (459460, '202309', '臺東縣', '衣', '2', '其他', 1787, 3774549), (460273, '202309', '臺東縣', '衣', '1', '軍警人員一', 90, 147245), (460274, '202309', '臺東縣', '衣', '1', '軍警人員二', 34, 51483), (460275, '202309', '臺東縣', '衣', '1', '其他公共行政類', 352, 637224), (460276, '202309', '臺東縣', '衣', '1', '教育類', 211, 350228), (460277, '202309', '臺東縣', '衣', '1', '工商及服務類', 874, 1495970), (460278, '202309', '臺東縣', '衣', '1', '專業及技術服務類', 400, 665799), (460279, '202309', '臺東縣', '衣', '1', '其他', 380, 592868), (461092, '202309', '臺東縣', '百貨', '2', '軍警人員一', 428, 453840), (461093, '202309', '臺東縣', '百貨', '2', '軍警人員二', 110, 123531), (461094, '202309', '臺東縣', '百貨', '2', '其他公共行政類', 4614, 4554066), (461095, '202309', '臺東縣', '百貨', '2', '教育類', 5800, 5757140), (461096, '202309', '臺東縣', '百貨', '2', '工商及服務類', 14363, 15858550), (461097, '202309', '臺東縣', '百貨', '2', '專業及技術服務類', 9812, 10825993), (461098, '202309', '臺東縣', '百貨', '2', '其他', 14987, 15256607), (461911, '202309', '臺東縣', '百貨', '1', '軍警人員一', 1156, 1413171), (461912, '202309', '臺東縣', '百貨', '1', '軍警人員二', 393, 440725), (461913, '202309', '臺東縣', '百貨', '1', '其他公共行政類', 6396, 5247060), (461914, '202309', '臺東縣', '百貨', '1', '教育類', 3128, 2783313), (461915, '202309', '臺東縣', '百貨', '1', '工商及服務類', 12543, 13031056), (461916, '202309', '臺東縣', '百貨', '1', '專業及技術服務類', 5117, 5053683), (461917, '202309', '臺東縣', '百貨', '1', '其他', 7293, 6679612), (462730, '202309', '臺東縣', '文教康樂', '2', '軍警人員一', 138, 196221), (462731, '202309', '臺東縣', '文教康樂', '2', '軍警人員二', 38, 93590), (462732, '202309', '臺東縣', '文教康樂', '2', '其他公共行政類', 1270, 2766640), (462733, '202309', '臺東縣', '文教康樂', '2', '教育類', 1624, 3197452), (462734, '202309', '臺東縣', '文教康樂', '2', '工商及服務類', 5838, 10517476), (462735, '202309', '臺東縣', '文教康樂', '2', '專業及技術服務類', 3007, 5624887), (462736, '202309', '臺東縣', '文教康樂', '2', '其他', 3329, 6446961), (463549, '202309', '臺東縣', '文教康樂', '1', '軍警人員一', 257, 568968), (463550, '202309', '臺東縣', '文教康樂', '1', '軍警人員二', 72, 129263), (463551, '202309', '臺東縣', '文教康樂', '1', '其他公共行政類', 928, 1820061), (463552, '202309', '臺東縣', '文教康樂', '1', '教育類', 622, 988589), (463553, '202309', '臺東縣', '文教康樂', '1', '工商及服務類', 3561, 6792204), (463554, '202309', '臺東縣', '文教康樂', '1', '專業及技術服務類', 1463, 3332150), (463555, '202309', '臺東縣', '文教康樂', '1', '其他', 1338, 2335986), (464368, '202309', '臺東縣', '食', '2', '軍警人員一', 334, 290290), (464369, '202309', '臺東縣', '食', '2', '軍警人員二', 96, 65292), (464370, '202309', '臺東縣', '食', '2', '其他公共行政類', 2602, 2047486), (464371, '202309', '臺東縣', '食', '2', '教育類', 3693, 2719710), (464372, '202309', '臺東縣', '食', '2', '工商及服務類', 10986, 9122145), (464373, '202309', '臺東縣', '食', '2', '專業及技術服務類', 6712, 5058711), (464374, '202309', '臺東縣', '食', '2', '其他', 9272, 6683760), (465187, '202309', '臺東縣', '食', '1', '軍警人員一', 1144, 904345), (465188, '202309', '臺東縣', '食', '1', '軍警人員二', 407, 270668), (465189, '202309', '臺東縣', '食', '1', '其他公共行政類', 4285, 2618194), (465190, '202309', '臺東縣', '食', '1', '教育類', 2607, 1592946), (465191, '202309', '臺東縣', '食', '1', '工商及服務類', 12294, 8662325), (465192, '202309', '臺東縣', '食', '1', '專業及技術服務類', 5914, 3736812), (465193, '202309', '臺東縣', '食', '1', '其他', 5934, 3325928), (466006, '202309', '臺東縣', '住', '2', '軍警人員一', 178, 933439), (466007, '202309', '臺東縣', '住', '2', '軍警人員二', 38, 930479), (466008, '202309', '臺東縣', '住', '2', '其他公共行政類', 1093, 4635278), (466009, '202309', '臺東縣', '住', '2', '教育類', 1294, 5220067), (466010, '202309', '臺東縣', '住', '2', '工商及服務類', 4977, 36119392), (466011, '202309', '臺東縣', '住', '2', '專業及技術服務類', 2660, 17704450), (466012, '202309', '臺東縣', '住', '2', '其他', 3184, 16275961), (466825, '202309', '臺東縣', '住', '1', '軍警人員一', 423, 1974994), (466826, '202309', '臺東縣', '住', '1', '軍警人員二', 160, 760533), (466827, '202309', '臺東縣', '住', '1', '其他公共行政類', 1771, 7535134), (466828, '202309', '臺東縣', '住', '1', '教育類', 964, 4350352), (466829, '202309', '臺東縣', '住', '1', '工商及服務類', 5698, 34654841), (466830, '202309', '臺東縣', '住', '1', '專業及技術服務類', 2285, 13030653), (466831, '202309', '臺東縣', '住', '1', '其他', 2086, 10320152), (467644, '202309', '臺東縣', '其他', '2', '軍警人員一', 104, 206465), (467645, '202309', '臺東縣', '其他', '2', '軍警人員二', 29, 86667), (467646, '202309', '臺東縣', '其他', '2', '其他公共行政類', 461, 1842394), (467647, '202309', '臺東縣', '其他', '2', '教育類', 812, 2594819), (467648, '202309', '臺東縣', '其他', '2', '工商及服務類', 2050, 9231644), (467649, '202309', '臺東縣', '其他', '2', '專業及技術服務類', 1425, 4288202), (467650, '202309', '臺東縣', '其他', '2', '其他', 1632, 6666430), (468463, '202309', '臺東縣', '其他', '1', '軍警人員一', 353, 596503), (468464, '202309', '臺東縣', '其他', '1', '軍警人員二', 165, 252253), (468465, '202309', '臺東縣', '其他', '1', '其他公共行政類', 560, 1855650), (468466, '202309', '臺東縣', '其他', '1', '教育類', 365, 893607), (468467, '202309', '臺東縣', '其他', '1', '工商及服務類', 1637, 6798151), (468468, '202309', '臺東縣', '其他', '1', '專業及技術服務類', 676, 2491027), (468469, '202309', '臺東縣', '其他', '1', '其他', 767, 2652719), (469282, '202309', '臺東縣', '行', '2', '軍警人員一', 199, 267122), (469283, '202309', '臺東縣', '行', '2', '軍警人員二', 50, 53973), (469284, '202309', '臺東縣', '行', '2', '其他公共行政類', 1316, 1766097), (469285, '202309', '臺東縣', '行', '2', '教育類', 2407, 2694039), (469286, '202309', '臺東縣', '行', '2', '工商及服務類', 5193, 8206447), (469287, '202309', '臺東縣', '行', '2', '專業及技術服務類', 3353, 4354226), (469288, '202309', '臺東縣', '行', '2', '其他', 5165, 6485257), (470101, '202309', '臺東縣', '行', '1', '軍警人員一', 1210, 1213344), (470102, '202309', '臺東縣', '行', '1', '軍警人員二', 379, 522878), (470103, '202309', '臺東縣', '行', '1', '其他公共行政類', 3221, 4162177), (470104, '202309', '臺東縣', '行', '1', '教育類', 1843, 2697609), (470105, '202309', '臺東縣', '行', '1', '工商及服務類', 9645, 13416232), (470106, '202309', '臺東縣', '行', '1', '專業及技術服務類', 4243, 6078540), (470107, '202309', '臺東縣', '行', '1', '其他', 4137, 5375307), (470920, '202309', '桃園市', '衣', '2', '軍警人員一', 712, 1585331), (470921, '202309', '桃園市', '衣', '2', '軍警人員二', 162, 341055), (470922, '202309', '桃園市', '衣', '2', '其他公共行政類', 4809, 11036647), (470923, '202309', '桃園市', '衣', '2', '教育類', 8763, 17802463), (470924, '202309', '桃園市', '衣', '2', '工商及服務類', 49158, 116902465), (470925, '202309', '桃園市', '衣', '2', '專業及技術服務類', 22920, 53411574), (470926, '202309', '桃園市', '衣', '2', '其他', 28367, 64416689), (471739, '202309', '桃園市', '衣', '1', '軍警人員一', 786, 1554755), (471740, '202309', '桃園市', '衣', '1', '軍警人員二', 253, 483521), (471741, '202309', '桃園市', '衣', '1', '其他公共行政類', 2188, 4162903), (471742, '202309', '桃園市', '衣', '1', '教育類', 1748, 3015836), (471743, '202309', '桃園市', '衣', '1', '工商及服務類', 21397, 44660239), (471744, '202309', '桃園市', '衣', '1', '專業及技術服務類', 7815, 15767778), (471745, '202309', '桃園市', '衣', '1', '其他', 6752, 13408234), (472558, '202309', '桃園市', '百貨', '2', '軍警人員一', 7978, 16762923), (472559, '202309', '桃園市', '百貨', '2', '軍警人員二', 2131, 4860352), (472560, '202309', '桃園市', '百貨', '2', '其他公共行政類', 49310, 78824814), (472561, '202309', '桃園市', '百貨', '2', '教育類', 89721, 144070473), (472562, '202309', '桃園市', '百貨', '2', '工商及服務類', 538591, 1136729075), (472563, '202309', '桃園市', '百貨', '2', '專業及技術服務類', 256632, 535548157), (472564, '202309', '桃園市', '百貨', '2', '其他', 395523, 728583779), (473377, '202309', '桃園市', '百貨', '1', '軍警人員一', 14449, 24580832), (473378, '202309', '桃園市', '百貨', '1', '軍警人員二', 7897, 17224600), (473379, '202309', '桃園市', '百貨', '1', '其他公共行政類', 50953, 65182268), (473380, '202309', '桃園市', '百貨', '1', '教育類', 45523, 61188233), (473381, '202309', '桃園市', '百貨', '1', '工商及服務類', 547734, 1070816174), (473382, '202309', '桃園市', '百貨', '1', '專業及技術服務類', 208650, 412001014), (473383, '202309', '桃園市', '百貨', '1', '其他', 210003, 344944892), (474196, '202309', '桃園市', '文教康樂', '2', '軍警人員一', 3368, 3947908), (474197, '202309', '桃園市', '文教康樂', '2', '軍警人員二', 410, 1127511), (474198, '202309', '桃園市', '文教康樂', '2', '其他公共行政類', 12736, 32107524), (474199, '202309', '桃園市', '文教康樂', '2', '教育類', 34449, 45853277), (474200, '202309', '桃園市', '文教康樂', '2', '工商及服務類', 132704, 357872711), (474201, '202309', '桃園市', '文教康樂', '2', '專業及技術服務類', 71590, 146413285), (474202, '202309', '桃園市', '文教康樂', '2', '其他', 91833, 194096486), (475015, '202309', '桃園市', '文教康樂', '1', '軍警人員一', 9596, 9172513), (475016, '202309', '桃園市', '文教康樂', '1', '軍警人員二', 1928, 3181037), (475017, '202309', '桃園市', '文教康樂', '1', '其他公共行政類', 16104, 28815307), (475018, '202309', '桃園市', '文教康樂', '1', '教育類', 24013, 20180353), (475019, '202309', '桃園市', '文教康樂', '1', '工商及服務類', 189657, 371853176), (475020, '202309', '桃園市', '文教康樂', '1', '專業及技術服務類', 85036, 120213647), (475021, '202309', '桃園市', '文教康樂', '1', '其他', 87374, 109019389), (475834, '202309', '桃園市', '食', '2', '軍警人員一', 5082, 4469568), (475835, '202309', '桃園市', '食', '2', '軍警人員二', 874, 850742), (475836, '202309', '桃園市', '食', '2', '其他公共行政類', 28131, 22925205), (475837, '202309', '桃園市', '食', '2', '教育類', 52022, 39161585), (475838, '202309', '桃園市', '食', '2', '工商及服務類', 283341, 302344131), (475839, '202309', '桃園市', '食', '2', '專業及技術服務類', 137655, 127411512), (475840, '202309', '桃園市', '食', '2', '其他', 185968, 163479247), (476653, '202309', '桃園市', '食', '1', '軍警人員一', 13229, 11159824), (476654, '202309', '桃園市', '食', '1', '軍警人員二', 4101, 3401520), (476655, '202309', '桃園市', '食', '1', '其他公共行政類', 38670, 25602976), (476656, '202309', '桃園市', '食', '1', '教育類', 40141, 22686008), (476657, '202309', '桃園市', '食', '1', '工商及服務類', 396193, 346510739), (476658, '202309', '桃園市', '食', '1', '專業及技術服務類', 162695, 124892033), (476659, '202309', '桃園市', '食', '1', '其他', 140482, 98442147), (477472, '202309', '桃園市', '住', '2', '軍警人員一', 940, 3797915), (477473, '202309', '桃園市', '住', '2', '軍警人員二', 167, 765127), (477474, '202309', '桃園市', '住', '2', '其他公共行政類', 5121, 21172849), (477475, '202309', '桃園市', '住', '2', '教育類', 9793, 28893339), (477476, '202309', '桃園市', '住', '2', '工商及服務類', 51341, 226662652), (477477, '202309', '桃園市', '住', '2', '專業及技術服務類', 24267, 99439185), (477478, '202309', '桃園市', '住', '2', '其他', 33516, 115995696), (478291, '202309', '桃園市', '住', '1', '軍警人員一', 2559, 7752791), (478292, '202309', '桃園市', '住', '1', '軍警人員二', 764, 3544647), (478293, '202309', '桃園市', '住', '1', '其他公共行政類', 7230, 22620206), (478294, '202309', '桃園市', '住', '1', '教育類', 5549, 17424375), (478295, '202309', '桃園市', '住', '1', '工商及服務類', 67439, 283114146), (478296, '202309', '桃園市', '住', '1', '專業及技術服務類', 25678, 96923242), (478297, '202309', '桃園市', '住', '1', '其他', 22341, 78726768), (479110, '202309', '桃園市', '其他', '2', '軍警人員一', 2190, 4773566), (479111, '202309', '桃園市', '其他', '2', '軍警人員二', 473, 1871240), (479112, '202309', '桃園市', '其他', '2', '其他公共行政類', 11227, 33717550), (479113, '202309', '桃園市', '其他', '2', '教育類', 19336, 48522062), (479114, '202309', '桃園市', '其他', '2', '工商及服務類', 110120, 466857243), (479115, '202309', '桃園市', '其他', '2', '專業及技術服務類', 56455, 212042543), (479116, '202309', '桃園市', '其他', '2', '其他', 75239, 249601199), (479929, '202309', '桃園市', '其他', '1', '軍警人員一', 5129, 9938492), (479930, '202309', '桃園市', '其他', '1', '軍警人員二', 1658, 3843245), (479931, '202309', '桃園市', '其他', '1', '其他公共行政類', 11204, 28252016), (479932, '202309', '桃園市', '其他', '1', '教育類', 9488, 19008377), (479933, '202309', '桃園市', '其他', '1', '工商及服務類', 113909, 322032970), (479934, '202309', '桃園市', '其他', '1', '專業及技術服務類', 42414, 112279728), (479935, '202309', '桃園市', '其他', '1', '其他', 41300, 98697674), (480748, '202309', '桃園市', '行', '2', '軍警人員一', 5338, 13259100), (480749, '202309', '桃園市', '行', '2', '軍警人員二', 1500, 4633424), (480750, '202309', '桃園市', '行', '2', '其他公共行政類', 22632, 53946805), (480751, '202309', '桃園市', '行', '2', '教育類', 49181, 116973181), (480752, '202309', '桃園市', '行', '2', '工商及服務類', 313791, 785342622), (480753, '202309', '桃園市', '行', '2', '專業及技術服務類', 150397, 392061644), (480754, '202309', '桃園市', '行', '2', '其他', 159097, 423882588), (481567, '202309', '桃園市', '行', '1', '軍警人員一', 20938, 41952679), (481568, '202309', '桃園市', '行', '1', '軍警人員二', 8871, 16501270), (481569, '202309', '桃園市', '行', '1', '其他公共行政類', 42416, 79061609), (481570, '202309', '桃園市', '行', '1', '教育類', 39179, 89017106), (481571, '202309', '桃園市', '行', '1', '工商及服務類', 616079, 1368611260), (481572, '202309', '桃園市', '行', '1', '專業及技術服務類', 225223, 538994346), (481573, '202309', '桃園市', '行', '1', '其他', 173916, 365377666), (482386, '202309', '宜蘭縣', '衣', '2', '軍警人員一', 118, 250407), (482387, '202309', '宜蘭縣', '衣', '2', '軍警人員二', 8, 20745), (482388, '202309', '宜蘭縣', '衣', '2', '其他公共行政類', 960, 2722658), (482389, '202309', '宜蘭縣', '衣', '2', '教育類', 1219, 2793065), (482390, '202309', '宜蘭縣', '衣', '2', '工商及服務類', 5912, 17240759), (482391, '202309', '宜蘭縣', '衣', '2', '專業及技術服務類', 3095, 8199859), (482392, '202309', '宜蘭縣', '衣', '2', '其他', 4034, 10539849), (483205, '202309', '宜蘭縣', '衣', '1', '軍警人員一', 110, 199639), (483206, '202309', '宜蘭縣', '衣', '1', '軍警人員二', 46, 71520), (483207, '202309', '宜蘭縣', '衣', '1', '其他公共行政類', 476, 819338), (483208, '202309', '宜蘭縣', '衣', '1', '教育類', 235, 405016), (483209, '202309', '宜蘭縣', '衣', '1', '工商及服務類', 2256, 4937968), (483210, '202309', '宜蘭縣', '衣', '1', '專業及技術服務類', 936, 1912726), (483211, '202309', '宜蘭縣', '衣', '1', '其他', 868, 1732664), (484024, '202309', '宜蘭縣', '百貨', '2', '軍警人員一', 1208, 1595281), (484025, '202309', '宜蘭縣', '百貨', '2', '軍警人員二', 156, 169629), (484026, '202309', '宜蘭縣', '百貨', '2', '其他公共行政類', 10025, 13101209), (484027, '202309', '宜蘭縣', '百貨', '2', '教育類', 12138, 12657716), (484028, '202309', '宜蘭縣', '百貨', '2', '工商及服務類', 57779, 69807649), (484029, '202309', '宜蘭縣', '百貨', '2', '專業及技術服務類', 29940, 33225845), (484030, '202309', '宜蘭縣', '百貨', '2', '其他', 48069, 55628985), (484843, '202309', '宜蘭縣', '百貨', '1', '軍警人員一', 2428, 2335891), (484844, '202309', '宜蘭縣', '百貨', '1', '軍警人員二', 827, 692722), (484845, '202309', '宜蘭縣', '百貨', '1', '其他公共行政類', 12955, 9846493), (484846, '202309', '宜蘭縣', '百貨', '1', '教育類', 6103, 4295933), (484847, '202309', '宜蘭縣', '百貨', '1', '工商及服務類', 53206, 46999333), (484848, '202309', '宜蘭縣', '百貨', '1', '專業及技術服務類', 20242, 18322394), (484849, '202309', '宜蘭縣', '百貨', '1', '其他', 23200, 18095050), (485662, '202309', '宜蘭縣', '文教康樂', '2', '軍警人員一', 255, 513229), (485663, '202309', '宜蘭縣', '文教康樂', '2', '軍警人員二', 44, 66079), (485664, '202309', '宜蘭縣', '文教康樂', '2', '其他公共行政類', 1838, 5245899), (485665, '202309', '宜蘭縣', '文教康樂', '2', '教育類', 2406, 5495925), (485666, '202309', '宜蘭縣', '文教康樂', '2', '工商及服務類', 11243, 31677066), (485667, '202309', '宜蘭縣', '文教康樂', '2', '專業及技術服務類', 5897, 15636038), (485668, '202309', '宜蘭縣', '文教康樂', '2', '其他', 6584, 18701247), (486481, '202309', '宜蘭縣', '文教康樂', '1', '軍警人員一', 453, 902490), (486482, '202309', '宜蘭縣', '文教康樂', '1', '軍警人員二', 157, 264784), (486483, '202309', '宜蘭縣', '文教康樂', '1', '其他公共行政類', 1560, 4313139), (486484, '202309', '宜蘭縣', '文教康樂', '1', '教育類', 1017, 1807698), (486485, '202309', '宜蘭縣', '文教康樂', '1', '工商及服務類', 10438, 27806566), (486486, '202309', '宜蘭縣', '文教康樂', '1', '專業及技術服務類', 4311, 11331544), (486487, '202309', '宜蘭縣', '文教康樂', '1', '其他', 3421, 9325363), (487300, '202309', '宜蘭縣', '食', '2', '軍警人員一', 799, 794903), (487301, '202309', '宜蘭縣', '食', '2', '軍警人員二', 124, 176866), (487302, '202309', '宜蘭縣', '食', '2', '其他公共行政類', 5114, 5246504), (487303, '202309', '宜蘭縣', '食', '2', '教育類', 6198, 5480385), (487304, '202309', '宜蘭縣', '食', '2', '工商及服務類', 32739, 37465671), (487305, '202309', '宜蘭縣', '食', '2', '專業及技術服務類', 17243, 17689726), (487306, '202309', '宜蘭縣', '食', '2', '其他', 24077, 22435734), (488119, '202309', '宜蘭縣', '食', '1', '軍警人員一', 2102, 1687049), (488120, '202309', '宜蘭縣', '食', '1', '軍警人員二', 689, 669445), (488121, '202309', '宜蘭縣', '食', '1', '其他公共行政類', 7921, 5888865), (488122, '202309', '宜蘭縣', '食', '1', '教育類', 4921, 3534155), (488123, '202309', '宜蘭縣', '食', '1', '工商及服務類', 40485, 38836783), (488124, '202309', '宜蘭縣', '食', '1', '專業及技術服務類', 16758, 14367697), (488125, '202309', '宜蘭縣', '食', '1', '其他', 16597, 12120580), (488938, '202309', '宜蘭縣', '住', '2', '軍警人員一', 379, 1842973), (488939, '202309', '宜蘭縣', '住', '2', '軍警人員二', 86, 426687), (488940, '202309', '宜蘭縣', '住', '2', '其他公共行政類', 2907, 14770278), (488941, '202309', '宜蘭縣', '住', '2', '教育類', 3152, 18537017), (488942, '202309', '宜蘭縣', '住', '2', '工商及服務類', 19643, 144746062), (488943, '202309', '宜蘭縣', '住', '2', '專業及技術服務類', 9920, 79713826), (488944, '202309', '宜蘭縣', '住', '2', '其他', 11595, 69775260), (489757, '202309', '宜蘭縣', '住', '1', '軍警人員一', 882, 5412011), (489758, '202309', '宜蘭縣', '住', '1', '軍警人員二', 350, 1910653), (489759, '202309', '宜蘭縣', '住', '1', '其他公共行政類', 3463, 15962047), (489760, '202309', '宜蘭縣', '住', '1', '教育類', 1759, 7597386), (489761, '202309', '宜蘭縣', '住', '1', '工商及服務類', 19441, 124297567), (489762, '202309', '宜蘭縣', '住', '1', '專業及技術服務類', 7992, 51206233), (489763, '202309', '宜蘭縣', '住', '1', '其他', 6770, 32463344), (490576, '202309', '宜蘭縣', '其他', '2', '軍警人員一', 192, 476101), (490577, '202309', '宜蘭縣', '其他', '2', '軍警人員二', 34, 46459), (490578, '202309', '宜蘭縣', '其他', '2', '其他公共行政類', 1027, 3278097), (490579, '202309', '宜蘭縣', '其他', '2', '教育類', 1493, 4083188), (490580, '202309', '宜蘭縣', '其他', '2', '工商及服務類', 7136, 27802797), (490581, '202309', '宜蘭縣', '其他', '2', '專業及技術服務類', 3874, 12648356), (490582, '202309', '宜蘭縣', '其他', '2', '其他', 5002, 17769460), (491395, '202309', '宜蘭縣', '其他', '1', '軍警人員一', 550, 1180066), (491396, '202309', '宜蘭縣', '其他', '1', '軍警人員二', 127, 507184), (491397, '202309', '宜蘭縣', '其他', '1', '其他公共行政類', 1115, 4654700), (491398, '202309', '宜蘭縣', '其他', '1', '教育類', 545, 1204554), (491399, '202309', '宜蘭縣', '其他', '1', '工商及服務類', 6477, 27609465), (491400, '202309', '宜蘭縣', '其他', '1', '專業及技術服務類', 2238, 10713267), (491401, '202309', '宜蘭縣', '其他', '1', '其他', 2397, 7664546), (492214, '202309', '宜蘭縣', '行', '2', '軍警人員一', 797, 754743), (492215, '202309', '宜蘭縣', '行', '2', '軍警人員二', 144, 158245), (492216, '202309', '宜蘭縣', '行', '2', '其他公共行政類', 4909, 4748019), (492217, '202309', '宜蘭縣', '行', '2', '教育類', 8355, 6239050), (492218, '202309', '宜蘭縣', '行', '2', '工商及服務類', 30761, 34043030), (492219, '202309', '宜蘭縣', '行', '2', '專業及技術服務類', 17776, 22851454), (492220, '202309', '宜蘭縣', '行', '2', '其他', 21908, 22521587), (493033, '202309', '宜蘭縣', '行', '1', '軍警人員一', 3703, 3604526), (493034, '202309', '宜蘭縣', '行', '1', '軍警人員二', 1072, 1025819), (493035, '202309', '宜蘭縣', '行', '1', '其他公共行政類', 11272, 14609919), (493036, '202309', '宜蘭縣', '行', '1', '教育類', 5467, 5299720), (493037, '202309', '宜蘭縣', '行', '1', '工商及服務類', 61343, 82565180), (493038, '202309', '宜蘭縣', '行', '1', '專業及技術服務類', 24779, 32599523), (493039, '202309', '宜蘭縣', '行', '1', '其他', 20606, 25441613), (493852, '202309', '雲林縣', '衣', '2', '軍警人員一', 106, 171342), (493853, '202309', '雲林縣', '衣', '2', '軍警人員二', 30, 113899), (493854, '202309', '雲林縣', '衣', '2', '其他公共行政類', 1157, 2548859), (493855, '202309', '雲林縣', '衣', '2', '教育類', 2137, 4316824), (493856, '202309', '雲林縣', '衣', '2', '工商及服務類', 7804, 18098577), (493857, '202309', '雲林縣', '衣', '2', '專業及技術服務類', 3705, 8104090), (493858, '202309', '雲林縣', '衣', '2', '其他', 4949, 11053416), (494671, '202309', '雲林縣', '衣', '1', '軍警人員一', 120, 220224), (494672, '202309', '雲林縣', '衣', '1', '軍警人員二', 51, 103755), (494673, '202309', '雲林縣', '衣', '1', '其他公共行政類', 611, 1080755), (494674, '202309', '雲林縣', '衣', '1', '教育類', 475, 693672), (494675, '202309', '雲林縣', '衣', '1', '工商及服務類', 3722, 6877994), (494676, '202309', '雲林縣', '衣', '1', '專業及技術服務類', 1247, 2248910), (494677, '202309', '雲林縣', '衣', '1', '其他', 1199, 2079336), (495490, '202309', '雲林縣', '百貨', '2', '軍警人員一', 352, 278321), (495491, '202309', '雲林縣', '百貨', '2', '軍警人員二', 102, 91350), (495492, '202309', '雲林縣', '百貨', '2', '其他公共行政類', 5392, 4652274), (495493, '202309', '雲林縣', '百貨', '2', '教育類', 9573, 7354322), (495494, '202309', '雲林縣', '百貨', '2', '工商及服務類', 33187, 29778183), (495495, '202309', '雲林縣', '百貨', '2', '專業及技術服務類', 16657, 15038912), (495496, '202309', '雲林縣', '百貨', '2', '其他', 26840, 22071258), (496309, '202309', '雲林縣', '百貨', '1', '軍警人員一', 871, 687588), (496310, '202309', '雲林縣', '百貨', '1', '軍警人員二', 569, 474360), (496311, '202309', '雲林縣', '百貨', '1', '其他公共行政類', 6773, 4459194), (496312, '202309', '雲林縣', '百貨', '1', '教育類', 5322, 2955070), (496313, '202309', '雲林縣', '百貨', '1', '工商及服務類', 33992, 25703722), (496314, '202309', '雲林縣', '百貨', '1', '專業及技術服務類', 9493, 7444203), (496315, '202309', '雲林縣', '百貨', '1', '其他', 13598, 9230313), (497128, '202309', '雲林縣', '文教康樂', '2', '軍警人員一', 114, 440619), (497129, '202309', '雲林縣', '文教康樂', '2', '軍警人員二', 38, 173687), (497130, '202309', '雲林縣', '文教康樂', '2', '其他公共行政類', 1367, 5108279), (497131, '202309', '雲林縣', '文教康樂', '2', '教育類', 2226, 6416627), (497132, '202309', '雲林縣', '文教康樂', '2', '工商及服務類', 9361, 30974705), (497133, '202309', '雲林縣', '文教康樂', '2', '專業及技術服務類', 4213, 13551525), (497134, '202309', '雲林縣', '文教康樂', '2', '其他', 5501, 19365235), (497947, '202309', '雲林縣', '文教康樂', '1', '軍警人員一', 321, 1174018), (497948, '202309', '雲林縣', '文教康樂', '1', '軍警人員二', 158, 945057), (497949, '202309', '雲林縣', '文教康樂', '1', '其他公共行政類', 1392, 5174472), (497950, '202309', '雲林縣', '文教康樂', '1', '教育類', 1054, 2656945), (497951, '202309', '雲林縣', '文教康樂', '1', '工商及服務類', 7663, 29890056), (497952, '202309', '雲林縣', '文教康樂', '1', '專業及技術服務類', 2646, 8475437), (497953, '202309', '雲林縣', '文教康樂', '1', '其他', 2378, 6526816), (498766, '202309', '雲林縣', '食', '2', '軍警人員一', 497, 398357), (498767, '202309', '雲林縣', '食', '2', '軍警人員二', 116, 141315), (498768, '202309', '雲林縣', '食', '2', '其他公共行政類', 3656, 3359962), (498769, '202309', '雲林縣', '食', '2', '教育類', 6691, 5330656), (498770, '202309', '雲林縣', '食', '2', '工商及服務類', 26949, 28377737), (498771, '202309', '雲林縣', '食', '2', '專業及技術服務類', 13248, 12654149), (498772, '202309', '雲林縣', '食', '2', '其他', 18348, 16708942), (499585, '202309', '雲林縣', '食', '1', '軍警人員一', 1411, 886418), (499586, '202309', '雲林縣', '食', '1', '軍警人員二', 565, 418753), (499587, '202309', '雲林縣', '食', '1', '其他公共行政類', 5314, 3510631), (499588, '202309', '雲林縣', '食', '1', '教育類', 5806, 2834763), (499589, '202309', '雲林縣', '食', '1', '工商及服務類', 39550, 29334024), (499590, '202309', '雲林縣', '食', '1', '專業及技術服務類', 13623, 9238249), (499591, '202309', '雲林縣', '食', '1', '其他', 12444, 7507588), (500404, '202309', '雲林縣', '住', '2', '軍警人員一', 106, 430444), (500405, '202309', '雲林縣', '住', '2', '軍警人員二', 24, 72338), (500406, '202309', '雲林縣', '住', '2', '其他公共行政類', 956, 3426239), (500407, '202309', '雲林縣', '住', '2', '教育類', 1900, 5662052), (500408, '202309', '雲林縣', '住', '2', '工商及服務類', 8942, 34758538), (500409, '202309', '雲林縣', '住', '2', '專業及技術服務類', 4192, 14428671), (500410, '202309', '雲林縣', '住', '2', '其他', 5674, 17153387), (501223, '202309', '雲林縣', '住', '1', '軍警人員一', 333, 1302468), (501224, '202309', '雲林縣', '住', '1', '軍警人員二', 150, 588177), (501225, '202309', '雲林縣', '住', '1', '其他公共行政類', 1514, 4753155), (501226, '202309', '雲林縣', '住', '1', '教育類', 1192, 3372123), (501227, '202309', '雲林縣', '住', '1', '工商及服務類', 11378, 39216583), (501228, '202309', '雲林縣', '住', '1', '專業及技術服務類', 3933, 12771299), (501229, '202309', '雲林縣', '住', '1', '其他', 3569, 10138470), (502042, '202309', '雲林縣', '其他', '2', '軍警人員一', 111, 300038), (502043, '202309', '雲林縣', '其他', '2', '軍警人員二', 35, 66709), (502044, '202309', '雲林縣', '其他', '2', '其他公共行政類', 1029, 2910679), (502045, '202309', '雲林縣', '其他', '2', '教育類', 2352, 5739919), (502046, '202309', '雲林縣', '其他', '2', '工商及服務類', 9609, 31231330), (502047, '202309', '雲林縣', '其他', '2', '專業及技術服務類', 4550, 14060571), (502048, '202309', '雲林縣', '其他', '2', '其他', 5779, 18455753), (502861, '202309', '雲林縣', '其他', '1', '軍警人員一', 316, 888344), (502862, '202309', '雲林縣', '其他', '1', '軍警人員二', 127, 552624), (502863, '202309', '雲林縣', '其他', '1', '其他公共行政類', 857, 3281961), (502864, '202309', '雲林縣', '其他', '1', '教育類', 754, 2011193), (502865, '202309', '雲林縣', '其他', '1', '工商及服務類', 7510, 31285942), (502866, '202309', '雲林縣', '其他', '1', '專業及技術服務類', 2543, 11033939), (502867, '202309', '雲林縣', '其他', '1', '其他', 2237, 8549318), (503680, '202309', '雲林縣', '行', '2', '軍警人員一', 403, 374708), (503681, '202309', '雲林縣', '行', '2', '軍警人員二', 130, 139868), (503682, '202309', '雲林縣', '行', '2', '其他公共行政類', 4013, 4633982), (503683, '202309', '雲林縣', '行', '2', '教育類', 7560, 7639709), (503684, '202309', '雲林縣', '行', '2', '工商及服務類', 31190, 38591211), (503685, '202309', '雲林縣', '行', '2', '專業及技術服務類', 15869, 17745036), (503686, '202309', '雲林縣', '行', '2', '其他', 19899, 21867709), (504499, '202309', '雲林縣', '行', '1', '軍警人員一', 2031, 2266380), (504500, '202309', '雲林縣', '行', '1', '軍警人員二', 886, 1070475), (504501, '202309', '雲林縣', '行', '1', '其他公共行政類', 8990, 10555857), (504502, '202309', '雲林縣', '行', '1', '教育類', 6740, 7073192), (504503, '202309', '雲林縣', '行', '1', '工商及服務類', 90508, 106886472), (504504, '202309', '雲林縣', '行', '1', '專業及技術服務類', 22582, 27958890), (504505, '202309', '雲林縣', '行', '1', '其他', 21609, 25989397)]\n"
     ]
    }
   ],
   "source": [
    "import sqlite3\n",
    "\n",
    "#select_data(word:str)->list[tuple]:\n",
    "conn = sqlite3.connect(\"proj1_creditcard.db\")\n",
    "cursor = conn.cursor()\n",
    "sql = '''\n",
    "    select * from job\n",
    "    where 年月 like '202309%'\n",
    "    '''\n",
    "cursor.execute(sql)\n",
    "rows= cursor.fetchall()\n",
    "cursor.close()\n",
    "\n",
    "print(rows)"
   ]
  },
  {
   "cell_type": "code",
   "execution_count": null,
   "metadata": {},
   "outputs": [],
   "source": [
    "#df = pd.read_csv('./datasource/age.csv')\n",
    "        #self.treeview.delete(*self.treeview.get_children()) \n",
    "        #if not df.empty:  \n",
    "        #    columns = list(df.columns)  \n",
    "        #    self.treeview[\"columns\"] = columns  \n",
    "        #    for col in columns:                \n",
    "        #        self.treeview.heading(col, text=col, anchor=\"w\")\n",
    "        #        self.treeview.column(col, anchor=\"w\", width=100)\n",
    "        #    data_list = df.values.tolist()            \n",
    "        #    for values in data_list:\n",
    "        #        self.treeview.insert(\"\", \"end\", values=values)       \n",
    "\n",
    "        "
   ]
  },
  {
   "cell_type": "code",
   "execution_count": 6,
   "metadata": {},
   "outputs": [
    {
     "name": "stdout",
     "output_type": "stream",
     "text": [
      "202008 202107 age\n",
      "202008 202107 income\n",
      "202008 202107 job\n",
      "202008 202107 education\n"
     ]
    }
   ],
   "source": [
    "from tkinter import ttk\n",
    "import tkinter as tk\n",
    "#from tkinter.simpledialog import Dialog\n",
    "import download\n",
    "\n",
    "\n",
    "def button_event():\n",
    "    datatype = datatypeCombobox.get()\n",
    "    start = startyearCombobox.get() + startmonthCombobox.get()\n",
    "    end = endyearCombobox.get() + endmonthCombobox.get()\n",
    "    month = (int(end[:4])-int(start[:4])) * 12 +(int(end[4:6])-int(start[4:6])) + 1\n",
    "    \n",
    "    if month >12  or month < 1 :\n",
    "        if month >12 :\n",
    "            print (f'請選擇一年內資料:{month}')\n",
    "        else :\n",
    "            print (f'=迄年度輸入錯誤:{month}')\n",
    "    print(start,end,datatype)\n",
    "    pass\n",
    "    #download.select_data(rows)\n",
    "    #print(rows)\n",
    "\n",
    "\n",
    "style = ttk.Style()\n",
    "style.configure('TCombobox', font=('Arial', 14, 'bold'))\n",
    "style.configure('TLabel',font=('Arial', 14, 'bold'))\n",
    "DataType = {'age':'年齡層', 'income':'年收入', 'job':'職業類別', 'education':'教育程度類別'}\n",
    "\n",
    "root = tk.Tk()\n",
    "root.title('信用卡消費資料')\n",
    "root.geometry('600x300')\n",
    "root.resizable(width=False,height=False)\n",
    "\n",
    "topframe = tk.Frame(root)\n",
    "topframe.pack()\n",
    "\n",
    "startyearVar = tk.StringVar()\n",
    "startmonthVar = tk.StringVar()\n",
    "endyearVar = tk.StringVar()\n",
    "endmonthVar = tk.StringVar()\n",
    "datatypeVar = tk.StringVar()\n",
    "\n",
    "titleLabel = ttk.Label(topframe,text=\"信用卡消費樣態\",\n",
    "                                font=('Arial',20,'bold'))\n",
    "titleLabel.grid(column=0, row=0,columnspan=12)\n",
    "\n",
    "datatypeLabel = ttk.Label(topframe,text=\"資料類別:\",width=8,\n",
    "                    style='TLabel')\n",
    "datatypeLabel.grid(column=0, row=1,padx=5,pady=12)\n",
    "\n",
    "datatypeCombobox = ttk.Combobox(topframe,width=6,\n",
    "                                 textvariable=datatypeVar,\n",
    "                                values=[i for i in DataType],\n",
    "                                style='TCombobox')\n",
    "datatypeCombobox.grid(column=1, row=1,pady=12)\n",
    "\n",
    "yearLabel = ttk.Label(topframe,text=\"年月:\",width=4,\n",
    "                    style='TLabel')\n",
    "yearLabel.grid(column=2, row=1,padx=5,pady=12)\n",
    "\n",
    "startyearCombobox = ttk.Combobox(topframe,width=6,\n",
    "                                 textvariable=startyearVar,\n",
    "                                values=[i for i in range(2014,2024)],\n",
    "                                style='TCombobox')\n",
    "startyearCombobox.grid(column=3, row=1,pady=12)\n",
    "\n",
    "startmonthCombobox = ttk.Combobox(topframe,width=3,\n",
    "                                  textvariable=startmonthVar,\n",
    "                                values=[str(i).zfill(2) for i in range(1,13)],\n",
    "                                style='TCombobox')\n",
    "startmonthCombobox.grid(column=4, row=1,pady=12)\n",
    "\n",
    "yearLabel = ttk.Label(topframe,text=\"~\",width=1,\n",
    "                    style='TLabel').grid(column=5, row=1,padx=5,pady=12)\n",
    "\n",
    "endyearCombobox = ttk.Combobox(topframe,width=6,\n",
    "                               textvariable=endyearVar,\n",
    "                                values=[i for i in range(2014,2024)],\n",
    "                                style='TCombobox', state='readonly')\n",
    "endyearCombobox.grid(column=6, row=1,pady=12)\n",
    "\n",
    "endmonthCombobox = ttk.Combobox(topframe,width=3,\n",
    "                                textvariable=endmonthVar,\n",
    "                                values=[str(i).zfill(2) for i in range(1,13)],\n",
    "                                style='TCombobox')\n",
    "endmonthCombobox.grid(column=7, row=1,pady=12)\n",
    "\n",
    "selectBtn = ttk.Button(topframe,text=\"查詢\",width=6,\n",
    "                       command=button_event)\n",
    "selectBtn.grid(column=8, row=1,pady=12,padx=8)\n",
    "\n",
    "\n",
    "root.mainloop()"
   ]
  },
  {
   "cell_type": "code",
   "execution_count": null,
   "metadata": {},
   "outputs": [
    {
     "name": "stdout",
     "output_type": "stream",
     "text": [
      "202208 202208\n"
     ]
    }
   ],
   "source": [
    "start = '202208'\n",
    "end = '202208'\n",
    "month = (int(end[:4])-int(start[:4])) * 12 +(int(end[4:6])-int(start[4:6])) + 1\n",
    "if month >12  or month < 1 :\n",
    "        if month >12 :\n",
    "            print (f'請選擇一年內資料:{month}')\n",
    "        else :\n",
    "            print (f'=迄年度輸入錯誤:{month}')\n",
    "print(start,end)"
   ]
  },
  {
   "cell_type": "code",
   "execution_count": 2,
   "metadata": {},
   "outputs": [],
   "source": [
    "import tkinter as tk\n",
    "from tkinter import ttk\n",
    "\n",
    "class MyTreeView(ttk.Treeview):\n",
    "    def __init__(self, master=None, **kwargs):\n",
    "        super().__init__(master, **kwargs)\n",
    "        self[\"columns\"] = (\"Name\", \"Options\")\n",
    "\n",
    "        # 設定 column 的標題\n",
    "        options = [\"Option 1\", \"Option 2\", \"Option 3\"]\n",
    "        self.heading(\"Name\", text=\"Name\")\n",
    "        self.heading(\"Options\", text=[ i for i in options])\n",
    "\n",
    "        # 設定 column 的寬度\n",
    "        self.column(\"Name\", width=100, anchor=tk.W)\n",
    "        self.column(\"Options\",width=100, anchor=tk.W)\n",
    "\n",
    "        # 設定 Combobox 的值\n",
    "        \n",
    "\n",
    "        \n",
    "\n",
    "if __name__ == \"__main__\":\n",
    "    root = tk.Tk()\n",
    "    root.title(\"Treeview with Combobox\")\n",
    "\n",
    "    tree_view = MyTreeView(root)\n",
    "    tree_view.pack(expand=tk.YES, fill=tk.BOTH)\n",
    "\n",
    "    root.mainloop()\n"
   ]
  },
  {
   "cell_type": "code",
   "execution_count": 1,
   "metadata": {},
   "outputs": [
    {
     "ename": "NameError",
     "evalue": "name 'DataFrame' is not defined",
     "output_type": "error",
     "traceback": [
      "\u001b[1;31m---------------------------------------------------------------------------\u001b[0m",
      "\u001b[1;31mNameError\u001b[0m                                 Traceback (most recent call last)",
      "Cell \u001b[1;32mIn[1], line 2\u001b[0m\n\u001b[0;32m      1\u001b[0m DataType \u001b[38;5;241m=\u001b[39m {\u001b[38;5;124m'\u001b[39m\u001b[38;5;124mage\u001b[39m\u001b[38;5;124m'\u001b[39m:\u001b[38;5;124m'\u001b[39m\u001b[38;5;124m年齡層\u001b[39m\u001b[38;5;124m'\u001b[39m, \u001b[38;5;124m'\u001b[39m\u001b[38;5;124mincome\u001b[39m\u001b[38;5;124m'\u001b[39m:\u001b[38;5;124m'\u001b[39m\u001b[38;5;124m年收入\u001b[39m\u001b[38;5;124m'\u001b[39m, \u001b[38;5;124m'\u001b[39m\u001b[38;5;124mjob\u001b[39m\u001b[38;5;124m'\u001b[39m:\u001b[38;5;124m'\u001b[39m\u001b[38;5;124m職業類別\u001b[39m\u001b[38;5;124m'\u001b[39m, \u001b[38;5;124m'\u001b[39m\u001b[38;5;124meducation\u001b[39m\u001b[38;5;124m'\u001b[39m:\u001b[38;5;124m'\u001b[39m\u001b[38;5;124m教育程度類別\u001b[39m\u001b[38;5;124m'\u001b[39m}\n\u001b[1;32m----> 2\u001b[0m \u001b[38;5;28mprint\u001b[39m(\u001b[43mDataFrame\u001b[49m[income])\n",
      "\u001b[1;31mNameError\u001b[0m: name 'DataFrame' is not defined"
     ]
    }
   ],
   "source": [
    "DataType = {'age':'年齡層', 'income':'年收入', 'job':'職業類別', 'education':'教育程度類別'}\n",
    "print(DataFrame[income])"
   ]
  },
  {
   "cell_type": "code",
   "execution_count": 11,
   "metadata": {},
   "outputs": [
    {
     "name": "stdout",
     "output_type": "stream",
     "text": [
      "['Column 1', 'Column 2']\n"
     ]
    }
   ],
   "source": [
    "import tkinter as tk\n",
    "from tkinter import ttk\n",
    "\n",
    "def get_heading_names(tree):\n",
    "    # 獲取列的資訊\n",
    "    columns = tree['columns']\n",
    "\n",
    "    # 獲取列標題的名稱\n",
    "    heading_names = [tree.heading(column)['text'] for column in columns]\n",
    "\n",
    "    return heading_names\n",
    "\n",
    "# 創建主視窗\n",
    "root = tk.Tk()\n",
    "\n",
    "# 創建Treeview\n",
    "tree = ttk.Treeview(root)\n",
    "tree['columns'] = ('column1', 'column2')\n",
    "\n",
    "# 設置列標題\n",
    "tree.heading('column1', text='Column 1')\n",
    "tree.heading('column2', text='Column 2')\n",
    "\n",
    "# 顯示列標題名稱\n",
    "print(get_heading_names(tree))\n",
    "\n",
    "root.mainloop()\n",
    "#修改列標題名稱：\n",
    "\n",
    "#若要動態修改列標題的名稱，你可以使用 heading 方法來設置新的名稱。以下是一個例子：\n",
    "\n",
    "\n",
    "\n",
    "\n",
    "\n",
    "\n",
    "\n",
    "\n"
   ]
  },
  {
   "cell_type": "code",
   "execution_count": 1,
   "metadata": {},
   "outputs": [],
   "source": [
    "import tkinter as tk\n",
    "from tkinter import ttk\n",
    "\n",
    "def set_heading_name(tree, column, new_name):\n",
    "    # 設置新的列標題名稱\n",
    "    tree.heading(column, text=new_name)\n",
    "\n",
    "# 創建主視窗\n",
    "root = tk.Tk()\n",
    "\n",
    "# 創建Treeview\n",
    "tree = ttk.Treeview(root)\n",
    "tree['columns'] = ('column1', 'column2')\n",
    "\n",
    "# 設置列標題\n",
    "tree.heading('column1', text='Column 1')\n",
    "tree.heading('column2', text='Column 2')\n",
    "\n",
    "# 修改列標題名稱\n",
    "set_heading_name(tree, 'column1', 'New Column 1')\n",
    "\n",
    "root.mainloop()\n",
    "#這樣，你就可以根據需要動態查詢或修改 Treeview 的列標題名稱。\n"
   ]
  },
  {
   "cell_type": "code",
   "execution_count": null,
   "metadata": {},
   "outputs": [],
   "source": [
    "DataType = {'age':'年齡層', 'income':'年收入', 'job':'職業類別', 'education':'教育程度類別'}\n",
    "        new_colnames = ['年月','地區','產業別','性別',{DataType[datatype]},'交易筆數','交易金額']      \n",
    "        \n",
    "        for i in enumerate(new_colnames):\n",
    "            self.creditTreeView.heading(column= i,text =i)                \n",
    "\n",
    "        if datatype == \"\" and start == \"\" and end == \"\":\n",
    "            lastest_data = download.lastest_datetime_data()\n",
    "            self.creditTreeView.update_content(lastest_data)\n",
    "        else:\n",
    "            if month > 12:\n",
    "                print(f'請選擇一年內資料:{month}')\n",
    "            if month < 0:\n",
    "                print(f'迄年度輸入錯誤:{month}')\n",
    "            else:\n",
    "                search_data = download.search_data(start, end, datatype)\n",
    "                print(\"取得資料\")\n",
    "                self.creditTreeView.update_content(search_data) \n",
    "                "
   ]
  }
 ],
 "metadata": {
  "kernelspec": {
   "display_name": "Python 3",
   "language": "python",
   "name": "python3"
  },
  "language_info": {
   "codemirror_mode": {
    "name": "ipython",
    "version": 3
   },
   "file_extension": ".py",
   "mimetype": "text/x-python",
   "name": "python",
   "nbconvert_exporter": "python",
   "pygments_lexer": "ipython3",
   "version": "3.10.8"
  }
 },
 "nbformat": 4,
 "nbformat_minor": 2
}
